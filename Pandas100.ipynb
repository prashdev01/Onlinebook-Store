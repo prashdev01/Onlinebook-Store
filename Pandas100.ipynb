{
 "cells": [
  {
   "cell_type": "markdown",
   "id": "67600ca3-7ab4-4783-916c-c1a5d79de319",
   "metadata": {},
   "source": [
    "Questions 1-49 are based on the Amazon Book Dataset. \n",
    "Questions 50-108 use artificial data on educational website, structured across six tables: \n",
    "Users, Courses, Ratings, Payments, Enrollments, and Refunds ! "
   ]
  },
  {
   "cell_type": "code",
   "execution_count": 1,
   "id": "715fbd13-11d0-4dad-9082-88dff4eb1382",
   "metadata": {},
   "outputs": [],
   "source": [
    "import pandas as pd\n",
    "import matplotlib.pyplot as plt\n",
    "import seaborn as sns\n",
    "from datetime import datetime, timedelta"
   ]
  },
  {
   "cell_type": "code",
   "execution_count": 2,
   "id": "22135631-b12a-4911-8e61-5494d18dfdc1",
   "metadata": {},
   "outputs": [
    {
     "data": {
      "text/html": [
       "<div>\n",
       "<style scoped>\n",
       "    .dataframe tbody tr th:only-of-type {\n",
       "        vertical-align: middle;\n",
       "    }\n",
       "\n",
       "    .dataframe tbody tr th {\n",
       "        vertical-align: top;\n",
       "    }\n",
       "\n",
       "    .dataframe thead th {\n",
       "        text-align: right;\n",
       "    }\n",
       "</style>\n",
       "<table border=\"1\" class=\"dataframe\">\n",
       "  <thead>\n",
       "    <tr style=\"text-align: right;\">\n",
       "      <th></th>\n",
       "      <th>Book Name</th>\n",
       "      <th>Author</th>\n",
       "      <th>Pages</th>\n",
       "      <th>Language</th>\n",
       "      <th>Ratings</th>\n",
       "      <th>Total Ratings</th>\n",
       "      <th>Price</th>\n",
       "      <th>Category</th>\n",
       "    </tr>\n",
       "  </thead>\n",
       "  <tbody>\n",
       "    <tr>\n",
       "      <th>0</th>\n",
       "      <td>11 Rules For Life: Secrets to Level Up</td>\n",
       "      <td>Chetan Bhagat</td>\n",
       "      <td>256.0</td>\n",
       "      <td>English</td>\n",
       "      <td>4.5</td>\n",
       "      <td>735</td>\n",
       "      <td>183</td>\n",
       "      <td>Self Improvement</td>\n",
       "    </tr>\n",
       "    <tr>\n",
       "      <th>1</th>\n",
       "      <td>1984 [Paperback] George Orwell</td>\n",
       "      <td>George Orwell</td>\n",
       "      <td>304.0</td>\n",
       "      <td>English</td>\n",
       "      <td>4.5</td>\n",
       "      <td>1,26,238</td>\n",
       "      <td>139</td>\n",
       "      <td>Literature</td>\n",
       "    </tr>\n",
       "    <tr>\n",
       "      <th>2</th>\n",
       "      <td>1984 [Paperback] George Orwell</td>\n",
       "      <td>George Orwell</td>\n",
       "      <td>304.0</td>\n",
       "      <td>English</td>\n",
       "      <td>4.5</td>\n",
       "      <td>1,26,238</td>\n",
       "      <td>139</td>\n",
       "      <td>Literature</td>\n",
       "    </tr>\n",
       "    <tr>\n",
       "      <th>3</th>\n",
       "      <td>21 Lessons for the 21st Century : 'Truly mind-...</td>\n",
       "      <td>Yuval Noah Harari</td>\n",
       "      <td>432.0</td>\n",
       "      <td>English</td>\n",
       "      <td>4.6</td>\n",
       "      <td>17,463</td>\n",
       "      <td>416</td>\n",
       "      <td>Self Improvement</td>\n",
       "    </tr>\n",
       "    <tr>\n",
       "      <th>4</th>\n",
       "      <td>21 Lessons for the 21st Century : 'Truly mind-...</td>\n",
       "      <td>Yuval Noah Harari</td>\n",
       "      <td>432.0</td>\n",
       "      <td>English</td>\n",
       "      <td>4.6</td>\n",
       "      <td>17,463</td>\n",
       "      <td>416</td>\n",
       "      <td>Self Improvement</td>\n",
       "    </tr>\n",
       "  </tbody>\n",
       "</table>\n",
       "</div>"
      ],
      "text/plain": [
       "                                           Book Name             Author  \\\n",
       "0             11 Rules For Life: Secrets to Level Up      Chetan Bhagat   \n",
       "1                     1984 [Paperback] George Orwell      George Orwell   \n",
       "2                     1984 [Paperback] George Orwell      George Orwell   \n",
       "3  21 Lessons for the 21st Century : 'Truly mind-...  Yuval Noah Harari   \n",
       "4  21 Lessons for the 21st Century : 'Truly mind-...  Yuval Noah Harari   \n",
       "\n",
       "   Pages Language  Ratings Total Ratings Price          Category  \n",
       "0  256.0  English      4.5           735   183  Self Improvement  \n",
       "1  304.0  English      4.5      1,26,238   139        Literature  \n",
       "2  304.0  English      4.5      1,26,238   139        Literature  \n",
       "3  432.0  English      4.6        17,463   416  Self Improvement  \n",
       "4  432.0  English      4.6        17,463   416  Self Improvement  "
      ]
     },
     "execution_count": 2,
     "metadata": {},
     "output_type": "execute_result"
    }
   ],
   "source": [
    "df = pd.read_csv('Book_store.csv')\n",
    "df.head()"
   ]
  },
  {
   "cell_type": "markdown",
   "id": "f8bf70ac-0325-4f52-b577-f099b68fe37a",
   "metadata": {},
   "source": [
    "**1. Get the names of all the columns**"
   ]
  },
  {
   "cell_type": "code",
   "execution_count": 3,
   "id": "081d9d36-2fe3-4252-9fc9-f5d22c214f2d",
   "metadata": {},
   "outputs": [
    {
     "data": {
      "text/plain": [
       "Index(['Book Name', 'Author', 'Pages', 'Language', 'Ratings', 'Total Ratings',\n",
       "       'Price', 'Category'],\n",
       "      dtype='object')"
      ]
     },
     "execution_count": 3,
     "metadata": {},
     "output_type": "execute_result"
    }
   ],
   "source": [
    "df.columns"
   ]
  },
  {
   "cell_type": "markdown",
   "id": "c2b59dd8-6eba-4a91-991f-4189de416bfe",
   "metadata": {},
   "source": [
    "**2. Display the first 3 rows**"
   ]
  },
  {
   "cell_type": "code",
   "execution_count": 4,
   "id": "79f5d039-ac64-42b1-8986-6305d7f7b71e",
   "metadata": {},
   "outputs": [
    {
     "data": {
      "text/html": [
       "<div>\n",
       "<style scoped>\n",
       "    .dataframe tbody tr th:only-of-type {\n",
       "        vertical-align: middle;\n",
       "    }\n",
       "\n",
       "    .dataframe tbody tr th {\n",
       "        vertical-align: top;\n",
       "    }\n",
       "\n",
       "    .dataframe thead th {\n",
       "        text-align: right;\n",
       "    }\n",
       "</style>\n",
       "<table border=\"1\" class=\"dataframe\">\n",
       "  <thead>\n",
       "    <tr style=\"text-align: right;\">\n",
       "      <th></th>\n",
       "      <th>Book Name</th>\n",
       "      <th>Author</th>\n",
       "      <th>Pages</th>\n",
       "      <th>Language</th>\n",
       "      <th>Ratings</th>\n",
       "      <th>Total Ratings</th>\n",
       "      <th>Price</th>\n",
       "      <th>Category</th>\n",
       "    </tr>\n",
       "  </thead>\n",
       "  <tbody>\n",
       "    <tr>\n",
       "      <th>0</th>\n",
       "      <td>11 Rules For Life: Secrets to Level Up</td>\n",
       "      <td>Chetan Bhagat</td>\n",
       "      <td>256.0</td>\n",
       "      <td>English</td>\n",
       "      <td>4.5</td>\n",
       "      <td>735</td>\n",
       "      <td>183</td>\n",
       "      <td>Self Improvement</td>\n",
       "    </tr>\n",
       "    <tr>\n",
       "      <th>1</th>\n",
       "      <td>1984 [Paperback] George Orwell</td>\n",
       "      <td>George Orwell</td>\n",
       "      <td>304.0</td>\n",
       "      <td>English</td>\n",
       "      <td>4.5</td>\n",
       "      <td>1,26,238</td>\n",
       "      <td>139</td>\n",
       "      <td>Literature</td>\n",
       "    </tr>\n",
       "    <tr>\n",
       "      <th>2</th>\n",
       "      <td>1984 [Paperback] George Orwell</td>\n",
       "      <td>George Orwell</td>\n",
       "      <td>304.0</td>\n",
       "      <td>English</td>\n",
       "      <td>4.5</td>\n",
       "      <td>1,26,238</td>\n",
       "      <td>139</td>\n",
       "      <td>Literature</td>\n",
       "    </tr>\n",
       "  </tbody>\n",
       "</table>\n",
       "</div>"
      ],
      "text/plain": [
       "                                Book Name         Author  Pages Language  \\\n",
       "0  11 Rules For Life: Secrets to Level Up  Chetan Bhagat  256.0  English   \n",
       "1          1984 [Paperback] George Orwell  George Orwell  304.0  English   \n",
       "2          1984 [Paperback] George Orwell  George Orwell  304.0  English   \n",
       "\n",
       "   Ratings Total Ratings Price          Category  \n",
       "0      4.5           735   183  Self Improvement  \n",
       "1      4.5      1,26,238   139        Literature  \n",
       "2      4.5      1,26,238   139        Literature  "
      ]
     },
     "execution_count": 4,
     "metadata": {},
     "output_type": "execute_result"
    }
   ],
   "source": [
    "df.head(3)"
   ]
  },
  {
   "cell_type": "markdown",
   "id": "d9d6f724-daa3-4025-97b9-b392f155f7ef",
   "metadata": {},
   "source": [
    "**3. Display 4 random rows from the dataframe**"
   ]
  },
  {
   "cell_type": "code",
   "execution_count": 5,
   "id": "9669de75-b2ee-4aff-b547-1b3d938da467",
   "metadata": {},
   "outputs": [
    {
     "data": {
      "text/html": [
       "<div>\n",
       "<style scoped>\n",
       "    .dataframe tbody tr th:only-of-type {\n",
       "        vertical-align: middle;\n",
       "    }\n",
       "\n",
       "    .dataframe tbody tr th {\n",
       "        vertical-align: top;\n",
       "    }\n",
       "\n",
       "    .dataframe thead th {\n",
       "        text-align: right;\n",
       "    }\n",
       "</style>\n",
       "<table border=\"1\" class=\"dataframe\">\n",
       "  <thead>\n",
       "    <tr style=\"text-align: right;\">\n",
       "      <th></th>\n",
       "      <th>Book Name</th>\n",
       "      <th>Author</th>\n",
       "      <th>Pages</th>\n",
       "      <th>Language</th>\n",
       "      <th>Ratings</th>\n",
       "      <th>Total Ratings</th>\n",
       "      <th>Price</th>\n",
       "      <th>Category</th>\n",
       "    </tr>\n",
       "  </thead>\n",
       "  <tbody>\n",
       "    <tr>\n",
       "      <th>1</th>\n",
       "      <td>1984 [Paperback] George Orwell</td>\n",
       "      <td>George Orwell</td>\n",
       "      <td>304.0</td>\n",
       "      <td>English</td>\n",
       "      <td>4.5</td>\n",
       "      <td>1,26,238</td>\n",
       "      <td>139</td>\n",
       "      <td>Literature</td>\n",
       "    </tr>\n",
       "    <tr>\n",
       "      <th>2</th>\n",
       "      <td>1984 [Paperback] George Orwell</td>\n",
       "      <td>George Orwell</td>\n",
       "      <td>304.0</td>\n",
       "      <td>English</td>\n",
       "      <td>4.5</td>\n",
       "      <td>1,26,238</td>\n",
       "      <td>139</td>\n",
       "      <td>Literature</td>\n",
       "    </tr>\n",
       "    <tr>\n",
       "      <th>3</th>\n",
       "      <td>21 Lessons for the 21st Century : 'Truly mind-...</td>\n",
       "      <td>Yuval Noah Harari</td>\n",
       "      <td>432.0</td>\n",
       "      <td>English</td>\n",
       "      <td>4.6</td>\n",
       "      <td>17,463</td>\n",
       "      <td>416</td>\n",
       "      <td>Self Improvement</td>\n",
       "    </tr>\n",
       "    <tr>\n",
       "      <th>4</th>\n",
       "      <td>21 Lessons for the 21st Century : 'Truly mind-...</td>\n",
       "      <td>Yuval Noah Harari</td>\n",
       "      <td>432.0</td>\n",
       "      <td>English</td>\n",
       "      <td>4.6</td>\n",
       "      <td>17,463</td>\n",
       "      <td>416</td>\n",
       "      <td>Self Improvement</td>\n",
       "    </tr>\n",
       "  </tbody>\n",
       "</table>\n",
       "</div>"
      ],
      "text/plain": [
       "                                           Book Name             Author  \\\n",
       "1                     1984 [Paperback] George Orwell      George Orwell   \n",
       "2                     1984 [Paperback] George Orwell      George Orwell   \n",
       "3  21 Lessons for the 21st Century : 'Truly mind-...  Yuval Noah Harari   \n",
       "4  21 Lessons for the 21st Century : 'Truly mind-...  Yuval Noah Harari   \n",
       "\n",
       "   Pages Language  Ratings Total Ratings Price          Category  \n",
       "1  304.0  English      4.5      1,26,238   139        Literature  \n",
       "2  304.0  English      4.5      1,26,238   139        Literature  \n",
       "3  432.0  English      4.6        17,463   416  Self Improvement  \n",
       "4  432.0  English      4.6        17,463   416  Self Improvement  "
      ]
     },
     "execution_count": 5,
     "metadata": {},
     "output_type": "execute_result"
    }
   ],
   "source": [
    "df.iloc[1 : 5 ]"
   ]
  },
  {
   "cell_type": "markdown",
   "id": "05c97f48-294c-4d96-9e65-0d20fd7c423f",
   "metadata": {},
   "source": [
    "**4. What is the total number of rows in the dataset?**"
   ]
  },
  {
   "cell_type": "code",
   "execution_count": 6,
   "id": "a31c9dfe-8c1a-415d-b86a-a5d28d1f8890",
   "metadata": {},
   "outputs": [
    {
     "data": {
      "text/plain": [
       "(320, 8)"
      ]
     },
     "execution_count": 6,
     "metadata": {},
     "output_type": "execute_result"
    }
   ],
   "source": [
    "df.shape\n",
    "# there are 320 rows present in the dataset"
   ]
  },
  {
   "cell_type": "markdown",
   "id": "22a3d0d4-4fa0-4545-9193-3d36e2389a4c",
   "metadata": {},
   "source": [
    "**5. Rename 'Ratings' column to 'Average Rating'**"
   ]
  },
  {
   "cell_type": "code",
   "execution_count": 7,
   "id": "d58d6e3f-866b-40af-9fa0-eee6bb40c640",
   "metadata": {},
   "outputs": [
    {
     "data": {
      "text/html": [
       "<div>\n",
       "<style scoped>\n",
       "    .dataframe tbody tr th:only-of-type {\n",
       "        vertical-align: middle;\n",
       "    }\n",
       "\n",
       "    .dataframe tbody tr th {\n",
       "        vertical-align: top;\n",
       "    }\n",
       "\n",
       "    .dataframe thead th {\n",
       "        text-align: right;\n",
       "    }\n",
       "</style>\n",
       "<table border=\"1\" class=\"dataframe\">\n",
       "  <thead>\n",
       "    <tr style=\"text-align: right;\">\n",
       "      <th></th>\n",
       "      <th>Book Name</th>\n",
       "      <th>Author</th>\n",
       "      <th>Pages</th>\n",
       "      <th>Language</th>\n",
       "      <th>Average Ratings</th>\n",
       "      <th>Total Ratings</th>\n",
       "      <th>Price</th>\n",
       "      <th>Category</th>\n",
       "    </tr>\n",
       "  </thead>\n",
       "  <tbody>\n",
       "    <tr>\n",
       "      <th>0</th>\n",
       "      <td>11 Rules For Life: Secrets to Level Up</td>\n",
       "      <td>Chetan Bhagat</td>\n",
       "      <td>256.0</td>\n",
       "      <td>English</td>\n",
       "      <td>4.5</td>\n",
       "      <td>735</td>\n",
       "      <td>183</td>\n",
       "      <td>Self Improvement</td>\n",
       "    </tr>\n",
       "    <tr>\n",
       "      <th>1</th>\n",
       "      <td>1984 [Paperback] George Orwell</td>\n",
       "      <td>George Orwell</td>\n",
       "      <td>304.0</td>\n",
       "      <td>English</td>\n",
       "      <td>4.5</td>\n",
       "      <td>1,26,238</td>\n",
       "      <td>139</td>\n",
       "      <td>Literature</td>\n",
       "    </tr>\n",
       "    <tr>\n",
       "      <th>2</th>\n",
       "      <td>1984 [Paperback] George Orwell</td>\n",
       "      <td>George Orwell</td>\n",
       "      <td>304.0</td>\n",
       "      <td>English</td>\n",
       "      <td>4.5</td>\n",
       "      <td>1,26,238</td>\n",
       "      <td>139</td>\n",
       "      <td>Literature</td>\n",
       "    </tr>\n",
       "    <tr>\n",
       "      <th>3</th>\n",
       "      <td>21 Lessons for the 21st Century : 'Truly mind-...</td>\n",
       "      <td>Yuval Noah Harari</td>\n",
       "      <td>432.0</td>\n",
       "      <td>English</td>\n",
       "      <td>4.6</td>\n",
       "      <td>17,463</td>\n",
       "      <td>416</td>\n",
       "      <td>Self Improvement</td>\n",
       "    </tr>\n",
       "    <tr>\n",
       "      <th>4</th>\n",
       "      <td>21 Lessons for the 21st Century : 'Truly mind-...</td>\n",
       "      <td>Yuval Noah Harari</td>\n",
       "      <td>432.0</td>\n",
       "      <td>English</td>\n",
       "      <td>4.6</td>\n",
       "      <td>17,463</td>\n",
       "      <td>416</td>\n",
       "      <td>Self Improvement</td>\n",
       "    </tr>\n",
       "  </tbody>\n",
       "</table>\n",
       "</div>"
      ],
      "text/plain": [
       "                                           Book Name             Author  \\\n",
       "0             11 Rules For Life: Secrets to Level Up      Chetan Bhagat   \n",
       "1                     1984 [Paperback] George Orwell      George Orwell   \n",
       "2                     1984 [Paperback] George Orwell      George Orwell   \n",
       "3  21 Lessons for the 21st Century : 'Truly mind-...  Yuval Noah Harari   \n",
       "4  21 Lessons for the 21st Century : 'Truly mind-...  Yuval Noah Harari   \n",
       "\n",
       "   Pages Language  Average Ratings Total Ratings Price          Category  \n",
       "0  256.0  English              4.5           735   183  Self Improvement  \n",
       "1  304.0  English              4.5      1,26,238   139        Literature  \n",
       "2  304.0  English              4.5      1,26,238   139        Literature  \n",
       "3  432.0  English              4.6        17,463   416  Self Improvement  \n",
       "4  432.0  English              4.6        17,463   416  Self Improvement  "
      ]
     },
     "execution_count": 7,
     "metadata": {},
     "output_type": "execute_result"
    }
   ],
   "source": [
    "df = df.rename(columns={\"Ratings\":\"Average Ratings\"})\n",
    "df.head()"
   ]
  },
  {
   "cell_type": "markdown",
   "id": "5ef2d97d-e355-4c12-b470-76261022dbe9",
   "metadata": {},
   "source": [
    "**6. Check if there are any duplicate rows**"
   ]
  },
  {
   "cell_type": "code",
   "execution_count": 8,
   "id": "7f8819d9-c9f0-40d0-b1e2-7becc50c958f",
   "metadata": {},
   "outputs": [
    {
     "data": {
      "text/plain": [
       "79"
      ]
     },
     "execution_count": 8,
     "metadata": {},
     "output_type": "execute_result"
    }
   ],
   "source": [
    "df.duplicated().sum()\n",
    "# there are 79 duplicate values "
   ]
  },
  {
   "cell_type": "markdown",
   "id": "90fa3da5-7c34-42f4-a94d-febe2ce68a0b",
   "metadata": {},
   "source": [
    "**7. Remove any duplicate rows**"
   ]
  },
  {
   "cell_type": "code",
   "execution_count": 9,
   "id": "ddd08ef5-8e56-400a-88c7-753b23992835",
   "metadata": {},
   "outputs": [
    {
     "data": {
      "text/plain": [
       "0"
      ]
     },
     "execution_count": 9,
     "metadata": {},
     "output_type": "execute_result"
    }
   ],
   "source": [
    "df = df.drop_duplicates(keep=\"first\")\n",
    "df.duplicated().sum()"
   ]
  },
  {
   "cell_type": "markdown",
   "id": "dc689580-0458-4730-a508-88e944e73c2f",
   "metadata": {},
   "source": [
    "**8. Remove rows where 'Average Rating' and 'Total Ratings' are missing**"
   ]
  },
  {
   "cell_type": "code",
   "execution_count": 10,
   "id": "d3e4e8e9-8080-41a2-834c-ac9c4ae1d198",
   "metadata": {},
   "outputs": [
    {
     "data": {
      "text/plain": [
       "Book Name           0\n",
       "Author              2\n",
       "Pages              24\n",
       "Language            5\n",
       "Average Ratings     0\n",
       "Total Ratings       0\n",
       "Price              19\n",
       "Category            0\n",
       "dtype: int64"
      ]
     },
     "execution_count": 10,
     "metadata": {},
     "output_type": "execute_result"
    }
   ],
   "source": [
    "df = df.dropna(subset=[\"Average Ratings\",\"Total Ratings\"])\n",
    "df.isna().sum()"
   ]
  },
  {
   "cell_type": "markdown",
   "id": "540c2eb2-3b27-464f-959e-a0fc75478b55",
   "metadata": {},
   "source": [
    "**9. Check the datatype of all the columns**"
   ]
  },
  {
   "cell_type": "code",
   "execution_count": 11,
   "id": "f3c0589e-6263-465b-b4bc-24ad837a7a8f",
   "metadata": {},
   "outputs": [
    {
     "data": {
      "text/plain": [
       "Book Name           object\n",
       "Author              object\n",
       "Pages              float64\n",
       "Language            object\n",
       "Average Ratings    float64\n",
       "Total Ratings       object\n",
       "Price               object\n",
       "Category            object\n",
       "dtype: object"
      ]
     },
     "execution_count": 11,
     "metadata": {},
     "output_type": "execute_result"
    }
   ],
   "source": [
    "df.dtypes"
   ]
  },
  {
   "cell_type": "markdown",
   "id": "d28493fc-8ff9-4b4b-b841-8fb43c6d5866",
   "metadata": {},
   "source": [
    "**10. Remove comma from values in Price column and change the type to float64**"
   ]
  },
  {
   "cell_type": "code",
   "execution_count": 12,
   "id": "ca8950a7-ea83-44c8-a934-ff6dab17e828",
   "metadata": {},
   "outputs": [],
   "source": [
    "df[\"Price\"] = df[\"Price\"].str.replace(\",\",\"\")\n",
    "df[\"Price\"] = df[\"Price\"].astype(\"Float64\")"
   ]
  },
  {
   "cell_type": "markdown",
   "id": "735b91b5-0b96-4940-b994-29062feb63e0",
   "metadata": {},
   "source": [
    "**11. Remove comma from values in Total Ratings column and change the type to int64**"
   ]
  },
  {
   "cell_type": "code",
   "execution_count": 13,
   "id": "aeefe1d2-c400-4ac1-b00e-312280b8129f",
   "metadata": {},
   "outputs": [],
   "source": [
    "df[\"Total Ratings\"] = df[\"Total Ratings\"].str.replace(\",\",\"\")\n",
    "df[\"Total Ratings\"] = df[\"Total Ratings\"].astype('int64')"
   ]
  },
  {
   "cell_type": "markdown",
   "id": "34b2edc1-07e2-4592-91e8-1f4314471adf",
   "metadata": {},
   "source": [
    "**12. Check how many missing values are there in all columns**"
   ]
  },
  {
   "cell_type": "code",
   "execution_count": 14,
   "id": "c05dc4b2-662b-41d3-9cf9-9406543b0207",
   "metadata": {},
   "outputs": [
    {
     "data": {
      "text/plain": [
       "Book Name           0\n",
       "Author              2\n",
       "Pages              24\n",
       "Language            5\n",
       "Average Ratings     0\n",
       "Total Ratings       0\n",
       "Price              19\n",
       "Category            0\n",
       "dtype: int64"
      ]
     },
     "execution_count": 14,
     "metadata": {},
     "output_type": "execute_result"
    }
   ],
   "source": [
    "df.isnull().sum()"
   ]
  },
  {
   "cell_type": "markdown",
   "id": "28474aba-3afb-48f8-8598-accac915d9b0",
   "metadata": {},
   "source": [
    "**13. Replace missing values in Author column with 'Unknown'**"
   ]
  },
  {
   "cell_type": "code",
   "execution_count": 15,
   "id": "237f821d-1810-40ed-b30e-63ebf87cdf6d",
   "metadata": {},
   "outputs": [
    {
     "data": {
      "text/plain": [
       "0"
      ]
     },
     "execution_count": 15,
     "metadata": {},
     "output_type": "execute_result"
    }
   ],
   "source": [
    "df[\"Author\"] = df[\"Author\"].fillna(\"Unknown\")\n",
    "df[\"Author\"].isna().sum()"
   ]
  },
  {
   "cell_type": "markdown",
   "id": "de678655-4477-4a65-bcc1-a69944c34704",
   "metadata": {},
   "source": [
    "**14. Replace missing values in Language column with the most occuring langauge**"
   ]
  },
  {
   "cell_type": "code",
   "execution_count": 16,
   "id": "6ab1c707-0608-4ce3-9634-55163fd985b7",
   "metadata": {},
   "outputs": [
    {
     "data": {
      "text/plain": [
       "0"
      ]
     },
     "execution_count": 16,
     "metadata": {},
     "output_type": "execute_result"
    }
   ],
   "source": [
    "import numpy as np\n",
    "lang_mode = df[\"Language\"].mode()[0]\n",
    "lang_mode\n",
    "df[\"Language\"]=df[\"Language\"].fillna(lang_mode)\n",
    "df[\"Language\"].isna().sum()"
   ]
  },
  {
   "cell_type": "markdown",
   "id": "3bd9f5a7-51a9-4873-bd6d-6c5edcbbabad",
   "metadata": {},
   "source": [
    "**15. Replace missing values in Pages column with median and convert data of Pages column type to int64**"
   ]
  },
  {
   "cell_type": "code",
   "execution_count": 17,
   "id": "d91dcc64-7d63-4df7-96ec-4ea64c6019bd",
   "metadata": {},
   "outputs": [
    {
     "data": {
      "text/plain": [
       "0"
      ]
     },
     "execution_count": 17,
     "metadata": {},
     "output_type": "execute_result"
    }
   ],
   "source": [
    "pages_median = df[\"Pages\"].median()\n",
    "df[\"Pages\"] = df[\"Pages\"].fillna(pages_median)\n",
    "df[\"Pages\"].isna().sum()"
   ]
  },
  {
   "cell_type": "markdown",
   "id": "00b1bb53-2355-42be-906c-d05a5e76ead7",
   "metadata": {},
   "source": [
    "**16. Fill missing values for price with the median price of the same category**"
   ]
  },
  {
   "cell_type": "code",
   "execution_count": 18,
   "id": "42a8acc2-92b0-436c-a85e-16d1ae3c5f5e",
   "metadata": {},
   "outputs": [
    {
     "data": {
      "text/plain": [
       "0"
      ]
     },
     "execution_count": 18,
     "metadata": {},
     "output_type": "execute_result"
    }
   ],
   "source": [
    "median_price = df[\"Price\"].median()\n",
    "df[\"Price\"] = df[\"Price\"].fillna(median_price)\n",
    "df[\"Price\"].isna().sum()\n"
   ]
  },
  {
   "cell_type": "markdown",
   "id": "aee5e849-a29a-41d2-b737-022d27f28a48",
   "metadata": {},
   "source": [
    "**17. How many unique authors are listed?**"
   ]
  },
  {
   "cell_type": "code",
   "execution_count": 19,
   "id": "77ff72f4-314a-421a-9bb9-14ba1ef2a479",
   "metadata": {},
   "outputs": [
    {
     "data": {
      "text/plain": [
       "(201,)"
      ]
     },
     "execution_count": 19,
     "metadata": {},
     "output_type": "execute_result"
    }
   ],
   "source": [
    "df[\"Author\"].unique().shape"
   ]
  },
  {
   "cell_type": "markdown",
   "id": "e86db07d-c98a-4a56-bbf3-63ba83640796",
   "metadata": {},
   "source": [
    "**18. What are the top 5 most expensive books?**"
   ]
  },
  {
   "cell_type": "code",
   "execution_count": 20,
   "id": "40c572e6-5950-4aa6-8353-a116349754bb",
   "metadata": {},
   "outputs": [
    {
     "data": {
      "text/html": [
       "<div>\n",
       "<style scoped>\n",
       "    .dataframe tbody tr th:only-of-type {\n",
       "        vertical-align: middle;\n",
       "    }\n",
       "\n",
       "    .dataframe tbody tr th {\n",
       "        vertical-align: top;\n",
       "    }\n",
       "\n",
       "    .dataframe thead th {\n",
       "        text-align: right;\n",
       "    }\n",
       "</style>\n",
       "<table border=\"1\" class=\"dataframe\">\n",
       "  <thead>\n",
       "    <tr style=\"text-align: right;\">\n",
       "      <th></th>\n",
       "      <th>Book Name</th>\n",
       "      <th>Price</th>\n",
       "    </tr>\n",
       "  </thead>\n",
       "  <tbody>\n",
       "    <tr>\n",
       "      <th>67</th>\n",
       "      <td>Dungeons &amp; Dragons Core Rulebooks Gift Set (Sp...</td>\n",
       "      <td>17913.0</td>\n",
       "    </tr>\n",
       "    <tr>\n",
       "      <th>222</th>\n",
       "      <td>The CSB Study Bible For Women, Teal Flowers Le...</td>\n",
       "      <td>6416.0</td>\n",
       "    </tr>\n",
       "    <tr>\n",
       "      <th>274</th>\n",
       "      <td>The Woman's Study Bible: New International Ver...</td>\n",
       "      <td>5322.0</td>\n",
       "    </tr>\n",
       "    <tr>\n",
       "      <th>144</th>\n",
       "      <td>Niv, Beautiful Word Bible, Updated Edition, Pe...</td>\n",
       "      <td>5177.0</td>\n",
       "    </tr>\n",
       "    <tr>\n",
       "      <th>266</th>\n",
       "      <td>The Silmarillion [Illustrated Edition]: Illust...</td>\n",
       "      <td>4573.0</td>\n",
       "    </tr>\n",
       "  </tbody>\n",
       "</table>\n",
       "</div>"
      ],
      "text/plain": [
       "                                             Book Name    Price\n",
       "67   Dungeons & Dragons Core Rulebooks Gift Set (Sp...  17913.0\n",
       "222  The CSB Study Bible For Women, Teal Flowers Le...   6416.0\n",
       "274  The Woman's Study Bible: New International Ver...   5322.0\n",
       "144  Niv, Beautiful Word Bible, Updated Edition, Pe...   5177.0\n",
       "266  The Silmarillion [Illustrated Edition]: Illust...   4573.0"
      ]
     },
     "execution_count": 20,
     "metadata": {},
     "output_type": "execute_result"
    }
   ],
   "source": [
    "top5_book = df.sort_values(by=\"Price\",ascending=False).head(5)\n",
    "top5_book[[\"Book Name\",\"Price\"]]"
   ]
  },
  {
   "cell_type": "markdown",
   "id": "14ca6dfd-6c6c-4338-a61a-cc4b2307df6b",
   "metadata": {},
   "source": [
    "**19. What are the 5 shortest books (based on the number of pages)?**  \n"
   ]
  },
  {
   "cell_type": "code",
   "execution_count": 21,
   "id": "b790dc2b-abb1-4260-8959-65a12e03e75e",
   "metadata": {},
   "outputs": [
    {
     "data": {
      "text/html": [
       "<div>\n",
       "<style scoped>\n",
       "    .dataframe tbody tr th:only-of-type {\n",
       "        vertical-align: middle;\n",
       "    }\n",
       "\n",
       "    .dataframe tbody tr th {\n",
       "        vertical-align: top;\n",
       "    }\n",
       "\n",
       "    .dataframe thead th {\n",
       "        text-align: right;\n",
       "    }\n",
       "</style>\n",
       "<table border=\"1\" class=\"dataframe\">\n",
       "  <thead>\n",
       "    <tr style=\"text-align: right;\">\n",
       "      <th></th>\n",
       "      <th>Book Name</th>\n",
       "      <th>Pages</th>\n",
       "    </tr>\n",
       "  </thead>\n",
       "  <tbody>\n",
       "    <tr>\n",
       "      <th>157</th>\n",
       "      <td>Preschool Activity Book: Brain Booster - Logic...</td>\n",
       "      <td>16.0</td>\n",
       "    </tr>\n",
       "    <tr>\n",
       "      <th>189</th>\n",
       "      <td>Star Light: Enchanting Messages from the Cosmo...</td>\n",
       "      <td>40.0</td>\n",
       "    </tr>\n",
       "    <tr>\n",
       "      <th>239</th>\n",
       "      <td>The Law</td>\n",
       "      <td>46.0</td>\n",
       "    </tr>\n",
       "    <tr>\n",
       "      <th>25</th>\n",
       "      <td>As a Man Thinketh [Paperback] James Allen</td>\n",
       "      <td>50.0</td>\n",
       "    </tr>\n",
       "    <tr>\n",
       "      <th>277</th>\n",
       "      <td>Thera-pets: 64 Emotional Support Animal Cards</td>\n",
       "      <td>64.0</td>\n",
       "    </tr>\n",
       "  </tbody>\n",
       "</table>\n",
       "</div>"
      ],
      "text/plain": [
       "                                             Book Name  Pages\n",
       "157  Preschool Activity Book: Brain Booster - Logic...   16.0\n",
       "189  Star Light: Enchanting Messages from the Cosmo...   40.0\n",
       "239                                            The Law   46.0\n",
       "25           As a Man Thinketh [Paperback] James Allen   50.0\n",
       "277      Thera-pets: 64 Emotional Support Animal Cards   64.0"
      ]
     },
     "execution_count": 21,
     "metadata": {},
     "output_type": "execute_result"
    }
   ],
   "source": [
    "shotes5_book = df.sort_values(by=\"Pages\",ascending=True).head(5)\n",
    "shotes5_book[[\"Book Name\",\"Pages\"]]"
   ]
  },
  {
   "cell_type": "markdown",
   "id": "25896e4f-339c-46f9-ad05-f0ac04d35f67",
   "metadata": {},
   "source": [
    "**20. What is the average number of pages across all books?**\n"
   ]
  },
  {
   "cell_type": "code",
   "execution_count": 22,
   "id": "45aa0461-822d-4fa3-8a8c-196bbd19b69b",
   "metadata": {},
   "outputs": [
    {
     "data": {
      "text/plain": [
       "316.6276150627615"
      ]
     },
     "execution_count": 22,
     "metadata": {},
     "output_type": "execute_result"
    }
   ],
   "source": [
    "df[\"Pages\"].mean()"
   ]
  },
  {
   "cell_type": "markdown",
   "id": "03a6a6cb-c9e8-41df-a609-df1db0a94e5a",
   "metadata": {},
   "source": [
    "**21. Display the summary statistics for numeric columns**\n",
    "\n"
   ]
  },
  {
   "cell_type": "code",
   "execution_count": 23,
   "id": "3a6cbcdc-fa4d-48a2-8118-cca557cedd04",
   "metadata": {},
   "outputs": [
    {
     "data": {
      "text/html": [
       "<div>\n",
       "<style scoped>\n",
       "    .dataframe tbody tr th:only-of-type {\n",
       "        vertical-align: middle;\n",
       "    }\n",
       "\n",
       "    .dataframe tbody tr th {\n",
       "        vertical-align: top;\n",
       "    }\n",
       "\n",
       "    .dataframe thead th {\n",
       "        text-align: right;\n",
       "    }\n",
       "</style>\n",
       "<table border=\"1\" class=\"dataframe\">\n",
       "  <thead>\n",
       "    <tr style=\"text-align: right;\">\n",
       "      <th></th>\n",
       "      <th>Pages</th>\n",
       "      <th>Average Ratings</th>\n",
       "      <th>Total Ratings</th>\n",
       "      <th>Price</th>\n",
       "    </tr>\n",
       "  </thead>\n",
       "  <tbody>\n",
       "    <tr>\n",
       "      <th>count</th>\n",
       "      <td>239.000000</td>\n",
       "      <td>239.000000</td>\n",
       "      <td>239.000000</td>\n",
       "      <td>239.0</td>\n",
       "    </tr>\n",
       "    <tr>\n",
       "      <th>mean</th>\n",
       "      <td>316.627615</td>\n",
       "      <td>4.573640</td>\n",
       "      <td>8311.062762</td>\n",
       "      <td>621.364017</td>\n",
       "    </tr>\n",
       "    <tr>\n",
       "      <th>std</th>\n",
       "      <td>290.225136</td>\n",
       "      <td>0.258664</td>\n",
       "      <td>18992.779955</td>\n",
       "      <td>1402.320504</td>\n",
       "    </tr>\n",
       "    <tr>\n",
       "      <th>min</th>\n",
       "      <td>16.000000</td>\n",
       "      <td>3.500000</td>\n",
       "      <td>1.000000</td>\n",
       "      <td>75.0</td>\n",
       "    </tr>\n",
       "    <tr>\n",
       "      <th>25%</th>\n",
       "      <td>176.000000</td>\n",
       "      <td>4.400000</td>\n",
       "      <td>283.500000</td>\n",
       "      <td>199.0</td>\n",
       "    </tr>\n",
       "    <tr>\n",
       "      <th>50%</th>\n",
       "      <td>256.000000</td>\n",
       "      <td>4.500000</td>\n",
       "      <td>1658.000000</td>\n",
       "      <td>277.0</td>\n",
       "    </tr>\n",
       "    <tr>\n",
       "      <th>75%</th>\n",
       "      <td>320.000000</td>\n",
       "      <td>4.750000</td>\n",
       "      <td>5772.500000</td>\n",
       "      <td>483.0</td>\n",
       "    </tr>\n",
       "    <tr>\n",
       "      <th>max</th>\n",
       "      <td>2240.000000</td>\n",
       "      <td>5.000000</td>\n",
       "      <td>143173.000000</td>\n",
       "      <td>17913.0</td>\n",
       "    </tr>\n",
       "  </tbody>\n",
       "</table>\n",
       "</div>"
      ],
      "text/plain": [
       "             Pages  Average Ratings  Total Ratings        Price\n",
       "count   239.000000       239.000000     239.000000        239.0\n",
       "mean    316.627615         4.573640    8311.062762   621.364017\n",
       "std     290.225136         0.258664   18992.779955  1402.320504\n",
       "min      16.000000         3.500000       1.000000         75.0\n",
       "25%     176.000000         4.400000     283.500000        199.0\n",
       "50%     256.000000         4.500000    1658.000000        277.0\n",
       "75%     320.000000         4.750000    5772.500000        483.0\n",
       "max    2240.000000         5.000000  143173.000000      17913.0"
      ]
     },
     "execution_count": 23,
     "metadata": {},
     "output_type": "execute_result"
    }
   ],
   "source": [
    "df.describe()"
   ]
  },
  {
   "cell_type": "markdown",
   "id": "4ad5b9f4-4b0c-41b5-b372-47f19735c37f",
   "metadata": {},
   "source": [
    "**22. Find the unique values and their counts for the column 'Category', sort by category names**"
   ]
  },
  {
   "cell_type": "code",
   "execution_count": 24,
   "id": "de809e5e-d8b8-4458-88e2-6a1008911786",
   "metadata": {},
   "outputs": [
    {
     "data": {
      "text/plain": [
       "Category\n",
       "Literature                  49\n",
       "Self Improvement            48\n",
       "Religion and Spirtuality    48\n",
       "Political                   48\n",
       "Finance                     46\n",
       "Name: count, dtype: int64"
      ]
     },
     "execution_count": 24,
     "metadata": {},
     "output_type": "execute_result"
    }
   ],
   "source": [
    "df['Category'].value_counts(ascending=False)"
   ]
  },
  {
   "cell_type": "markdown",
   "id": "7f96292c-9e45-41f3-9af0-67cc02288085",
   "metadata": {},
   "source": [
    "**23. What are the top 5 languages with the most books listed?**\n"
   ]
  },
  {
   "cell_type": "code",
   "execution_count": 25,
   "id": "399d082f-26fe-4cf9-9b86-936d0284bdfc",
   "metadata": {},
   "outputs": [
    {
     "data": {
      "text/plain": [
       "Language\n",
       "English      215\n",
       "Hindi         15\n",
       "Kannada        1\n",
       "Malayalam      3\n",
       "Marathi        1\n",
       "Name: Book Name, dtype: int64"
      ]
     },
     "execution_count": 25,
     "metadata": {},
     "output_type": "execute_result"
    }
   ],
   "source": [
    "df.groupby(\"Language\")[\"Book Name\"].count().head(5)"
   ]
  },
  {
   "cell_type": "markdown",
   "id": "3c019b62-b6be-4b65-ae91-77fbd8b4a45c",
   "metadata": {},
   "source": [
    "**24. What percentage of books have ratings greater than or equal to 4 stars?**"
   ]
  },
  {
   "cell_type": "code",
   "execution_count": 26,
   "id": "0478e8c9-80e7-4be3-ae91-c490a7e09f43",
   "metadata": {},
   "outputs": [
    {
     "data": {
      "text/plain": [
       "98.33"
      ]
     },
     "execution_count": 26,
     "metadata": {},
     "output_type": "execute_result"
    }
   ],
   "source": [
    "percanteg = (df[df[\"Average Ratings\"]>=4].shape[0] / df.shape[0] ) * 100\n",
    "round(percanteg,2)"
   ]
  },
  {
   "cell_type": "markdown",
   "id": "a98ce2d4-f53d-4c31-a462-2f5d00979614",
   "metadata": {},
   "source": [
    "**25. What is the average price of books and average number of pages across different languages?**"
   ]
  },
  {
   "cell_type": "code",
   "execution_count": 27,
   "id": "2bd2f190-442a-41ac-9511-258832e21566",
   "metadata": {},
   "outputs": [
    {
     "data": {
      "text/html": [
       "<div>\n",
       "<style scoped>\n",
       "    .dataframe tbody tr th:only-of-type {\n",
       "        vertical-align: middle;\n",
       "    }\n",
       "\n",
       "    .dataframe tbody tr th {\n",
       "        vertical-align: top;\n",
       "    }\n",
       "\n",
       "    .dataframe thead th {\n",
       "        text-align: right;\n",
       "    }\n",
       "</style>\n",
       "<table border=\"1\" class=\"dataframe\">\n",
       "  <thead>\n",
       "    <tr style=\"text-align: right;\">\n",
       "      <th></th>\n",
       "      <th>Price</th>\n",
       "    </tr>\n",
       "    <tr>\n",
       "      <th>Language</th>\n",
       "      <th></th>\n",
       "    </tr>\n",
       "  </thead>\n",
       "  <tbody>\n",
       "    <tr>\n",
       "      <th>English</th>\n",
       "      <td>664.716279</td>\n",
       "    </tr>\n",
       "    <tr>\n",
       "      <th>Hindi</th>\n",
       "      <td>235.666667</td>\n",
       "    </tr>\n",
       "    <tr>\n",
       "      <th>Kannada</th>\n",
       "      <td>153.0</td>\n",
       "    </tr>\n",
       "    <tr>\n",
       "      <th>Malayalam</th>\n",
       "      <td>234.0</td>\n",
       "    </tr>\n",
       "    <tr>\n",
       "      <th>Marathi</th>\n",
       "      <td>250.0</td>\n",
       "    </tr>\n",
       "    <tr>\n",
       "      <th>Tamil</th>\n",
       "      <td>129.0</td>\n",
       "    </tr>\n",
       "    <tr>\n",
       "      <th>Telugu</th>\n",
       "      <td>274.333333</td>\n",
       "    </tr>\n",
       "  </tbody>\n",
       "</table>\n",
       "</div>"
      ],
      "text/plain": [
       "                Price\n",
       "Language             \n",
       "English    664.716279\n",
       "Hindi      235.666667\n",
       "Kannada         153.0\n",
       "Malayalam       234.0\n",
       "Marathi         250.0\n",
       "Tamil           129.0\n",
       "Telugu     274.333333"
      ]
     },
     "execution_count": 27,
     "metadata": {},
     "output_type": "execute_result"
    }
   ],
   "source": [
    "df.pivot_table(values=\"Price\",index=\"Language\",aggfunc=\"mean\")"
   ]
  },
  {
   "cell_type": "markdown",
   "id": "2886e848-7d31-4a04-abed-e5fec684d336",
   "metadata": {},
   "source": [
    "**26. What is the average and maximum price of books, along with the average number of pages, across different languages?**"
   ]
  },
  {
   "cell_type": "code",
   "execution_count": 28,
   "id": "9a7385c0-144b-44d2-9577-fd22996406fe",
   "metadata": {},
   "outputs": [],
   "source": [
    "df_lang = df.groupby(\"Language\").agg(\n",
    "    {\"Price\": [\"mean\",\"max\"],\n",
    "     \"Pages\":\"mean\"}\n",
    ")"
   ]
  },
  {
   "cell_type": "markdown",
   "id": "c9a7d5e4-dc43-424c-8bd3-817b470d3348",
   "metadata": {},
   "source": [
    "**27. How do the average price and average number of pages differ across various languages and categories**"
   ]
  },
  {
   "cell_type": "code",
   "execution_count": 29,
   "id": "f8210286-276d-4b1e-8632-2f5d383002cd",
   "metadata": {},
   "outputs": [
    {
     "data": {
      "text/html": [
       "<div>\n",
       "<style scoped>\n",
       "    .dataframe tbody tr th:only-of-type {\n",
       "        vertical-align: middle;\n",
       "    }\n",
       "\n",
       "    .dataframe tbody tr th {\n",
       "        vertical-align: top;\n",
       "    }\n",
       "\n",
       "    .dataframe thead th {\n",
       "        text-align: right;\n",
       "    }\n",
       "</style>\n",
       "<table border=\"1\" class=\"dataframe\">\n",
       "  <thead>\n",
       "    <tr style=\"text-align: right;\">\n",
       "      <th></th>\n",
       "      <th>Language</th>\n",
       "      <th>Category</th>\n",
       "      <th>Price</th>\n",
       "      <th>Pages</th>\n",
       "    </tr>\n",
       "  </thead>\n",
       "  <tbody>\n",
       "    <tr>\n",
       "      <th>0</th>\n",
       "      <td>English</td>\n",
       "      <td>Finance</td>\n",
       "      <td>387.105263</td>\n",
       "      <td>251.921053</td>\n",
       "    </tr>\n",
       "    <tr>\n",
       "      <th>1</th>\n",
       "      <td>English</td>\n",
       "      <td>Literature</td>\n",
       "      <td>270.432432</td>\n",
       "      <td>397.783784</td>\n",
       "    </tr>\n",
       "    <tr>\n",
       "      <th>2</th>\n",
       "      <td>English</td>\n",
       "      <td>Political</td>\n",
       "      <td>376.727273</td>\n",
       "      <td>314.295455</td>\n",
       "    </tr>\n",
       "    <tr>\n",
       "      <th>3</th>\n",
       "      <td>English</td>\n",
       "      <td>Religion and Spirtuality</td>\n",
       "      <td>1882.208333</td>\n",
       "      <td>396.145833</td>\n",
       "    </tr>\n",
       "    <tr>\n",
       "      <th>4</th>\n",
       "      <td>English</td>\n",
       "      <td>Self Improvement</td>\n",
       "      <td>234.916667</td>\n",
       "      <td>251.354167</td>\n",
       "    </tr>\n",
       "    <tr>\n",
       "      <th>5</th>\n",
       "      <td>Hindi</td>\n",
       "      <td>Finance</td>\n",
       "      <td>227.8</td>\n",
       "      <td>239.600000</td>\n",
       "    </tr>\n",
       "    <tr>\n",
       "      <th>6</th>\n",
       "      <td>Hindi</td>\n",
       "      <td>Literature</td>\n",
       "      <td>207.0</td>\n",
       "      <td>290.333333</td>\n",
       "    </tr>\n",
       "    <tr>\n",
       "      <th>7</th>\n",
       "      <td>Hindi</td>\n",
       "      <td>Political</td>\n",
       "      <td>288.5</td>\n",
       "      <td>345.500000</td>\n",
       "    </tr>\n",
       "    <tr>\n",
       "      <th>8</th>\n",
       "      <td>Kannada</td>\n",
       "      <td>Finance</td>\n",
       "      <td>153.0</td>\n",
       "      <td>152.000000</td>\n",
       "    </tr>\n",
       "    <tr>\n",
       "      <th>9</th>\n",
       "      <td>Malayalam</td>\n",
       "      <td>Finance</td>\n",
       "      <td>169.0</td>\n",
       "      <td>288.000000</td>\n",
       "    </tr>\n",
       "    <tr>\n",
       "      <th>10</th>\n",
       "      <td>Malayalam</td>\n",
       "      <td>Literature</td>\n",
       "      <td>266.5</td>\n",
       "      <td>192.000000</td>\n",
       "    </tr>\n",
       "    <tr>\n",
       "      <th>11</th>\n",
       "      <td>Marathi</td>\n",
       "      <td>Literature</td>\n",
       "      <td>250.0</td>\n",
       "      <td>224.000000</td>\n",
       "    </tr>\n",
       "    <tr>\n",
       "      <th>12</th>\n",
       "      <td>Tamil</td>\n",
       "      <td>Finance</td>\n",
       "      <td>129.0</td>\n",
       "      <td>224.000000</td>\n",
       "    </tr>\n",
       "    <tr>\n",
       "      <th>13</th>\n",
       "      <td>Telugu</td>\n",
       "      <td>Literature</td>\n",
       "      <td>274.333333</td>\n",
       "      <td>293.333333</td>\n",
       "    </tr>\n",
       "  </tbody>\n",
       "</table>\n",
       "</div>"
      ],
      "text/plain": [
       "     Language                  Category        Price       Pages\n",
       "0     English                   Finance   387.105263  251.921053\n",
       "1     English                Literature   270.432432  397.783784\n",
       "2     English                 Political   376.727273  314.295455\n",
       "3     English  Religion and Spirtuality  1882.208333  396.145833\n",
       "4     English          Self Improvement   234.916667  251.354167\n",
       "5       Hindi                   Finance        227.8  239.600000\n",
       "6       Hindi                Literature        207.0  290.333333\n",
       "7       Hindi                 Political        288.5  345.500000\n",
       "8     Kannada                   Finance        153.0  152.000000\n",
       "9   Malayalam                   Finance        169.0  288.000000\n",
       "10  Malayalam                Literature        266.5  192.000000\n",
       "11    Marathi                Literature        250.0  224.000000\n",
       "12      Tamil                   Finance        129.0  224.000000\n",
       "13     Telugu                Literature   274.333333  293.333333"
      ]
     },
     "execution_count": 29,
     "metadata": {},
     "output_type": "execute_result"
    }
   ],
   "source": [
    "grouped_df = df.groupby([\"Language\",\"Category\"]).agg(\n",
    "   { \"Price\": \"mean\",\n",
    "    \"Pages\" : \"mean\"}\n",
    ").reset_index()\n",
    "grouped_df"
   ]
  },
  {
   "cell_type": "markdown",
   "id": "9f9a1d8a-c556-4636-a40a-5f96011fda82",
   "metadata": {},
   "source": [
    "**28. Extract the data for the 'English' language from the previously grouped DataFrame.**"
   ]
  },
  {
   "cell_type": "code",
   "execution_count": 30,
   "id": "7231e98c-7889-44d3-86e9-d8d18672b99d",
   "metadata": {},
   "outputs": [
    {
     "data": {
      "text/html": [
       "<div>\n",
       "<style scoped>\n",
       "    .dataframe tbody tr th:only-of-type {\n",
       "        vertical-align: middle;\n",
       "    }\n",
       "\n",
       "    .dataframe tbody tr th {\n",
       "        vertical-align: top;\n",
       "    }\n",
       "\n",
       "    .dataframe thead th {\n",
       "        text-align: right;\n",
       "    }\n",
       "</style>\n",
       "<table border=\"1\" class=\"dataframe\">\n",
       "  <thead>\n",
       "    <tr style=\"text-align: right;\">\n",
       "      <th></th>\n",
       "      <th>Language</th>\n",
       "      <th>Category</th>\n",
       "      <th>Price</th>\n",
       "      <th>Pages</th>\n",
       "    </tr>\n",
       "  </thead>\n",
       "  <tbody>\n",
       "    <tr>\n",
       "      <th>0</th>\n",
       "      <td>English</td>\n",
       "      <td>Finance</td>\n",
       "      <td>387.105263</td>\n",
       "      <td>251.921053</td>\n",
       "    </tr>\n",
       "    <tr>\n",
       "      <th>1</th>\n",
       "      <td>English</td>\n",
       "      <td>Literature</td>\n",
       "      <td>270.432432</td>\n",
       "      <td>397.783784</td>\n",
       "    </tr>\n",
       "    <tr>\n",
       "      <th>2</th>\n",
       "      <td>English</td>\n",
       "      <td>Political</td>\n",
       "      <td>376.727273</td>\n",
       "      <td>314.295455</td>\n",
       "    </tr>\n",
       "    <tr>\n",
       "      <th>3</th>\n",
       "      <td>English</td>\n",
       "      <td>Religion and Spirtuality</td>\n",
       "      <td>1882.208333</td>\n",
       "      <td>396.145833</td>\n",
       "    </tr>\n",
       "    <tr>\n",
       "      <th>4</th>\n",
       "      <td>English</td>\n",
       "      <td>Self Improvement</td>\n",
       "      <td>234.916667</td>\n",
       "      <td>251.354167</td>\n",
       "    </tr>\n",
       "  </tbody>\n",
       "</table>\n",
       "</div>"
      ],
      "text/plain": [
       "  Language                  Category        Price       Pages\n",
       "0  English                   Finance   387.105263  251.921053\n",
       "1  English                Literature   270.432432  397.783784\n",
       "2  English                 Political   376.727273  314.295455\n",
       "3  English  Religion and Spirtuality  1882.208333  396.145833\n",
       "4  English          Self Improvement   234.916667  251.354167"
      ]
     },
     "execution_count": 30,
     "metadata": {},
     "output_type": "execute_result"
    }
   ],
   "source": [
    "# Extract data for 'English' language\n",
    "english_data = grouped_df[grouped_df['Language'] == 'English']\n",
    "english_data"
   ]
  },
  {
   "cell_type": "markdown",
   "id": "6a926c2d-fb37-4e4b-b34b-43817034935a",
   "metadata": {},
   "source": [
    "**29. Extract the data for the combination of 'English' language and 'Finance' category from the previously grouped DataFrame.**"
   ]
  },
  {
   "cell_type": "code",
   "execution_count": 31,
   "id": "50dc19c5-8fca-4d79-a31f-de6e8e3d529f",
   "metadata": {},
   "outputs": [
    {
     "data": {
      "text/html": [
       "<div>\n",
       "<style scoped>\n",
       "    .dataframe tbody tr th:only-of-type {\n",
       "        vertical-align: middle;\n",
       "    }\n",
       "\n",
       "    .dataframe tbody tr th {\n",
       "        vertical-align: top;\n",
       "    }\n",
       "\n",
       "    .dataframe thead th {\n",
       "        text-align: right;\n",
       "    }\n",
       "</style>\n",
       "<table border=\"1\" class=\"dataframe\">\n",
       "  <thead>\n",
       "    <tr style=\"text-align: right;\">\n",
       "      <th></th>\n",
       "      <th>Language</th>\n",
       "      <th>Category</th>\n",
       "      <th>Price</th>\n",
       "      <th>Pages</th>\n",
       "    </tr>\n",
       "  </thead>\n",
       "  <tbody>\n",
       "    <tr>\n",
       "      <th>0</th>\n",
       "      <td>English</td>\n",
       "      <td>Finance</td>\n",
       "      <td>387.105263</td>\n",
       "      <td>251.921053</td>\n",
       "    </tr>\n",
       "  </tbody>\n",
       "</table>\n",
       "</div>"
      ],
      "text/plain": [
       "  Language Category       Price       Pages\n",
       "0  English  Finance  387.105263  251.921053"
      ]
     },
     "execution_count": 31,
     "metadata": {},
     "output_type": "execute_result"
    }
   ],
   "source": [
    "grouped_df[(grouped_df[\"Language\"]==\"English\") & (grouped_df[\"Category\"]==\"Finance\")]"
   ]
  },
  {
   "cell_type": "markdown",
   "id": "8728d306-ad3e-4804-8121-f151b112a618",
   "metadata": {},
   "source": [
    "**30. Which price range has the most number of books?**"
   ]
  },
  {
   "cell_type": "code",
   "execution_count": 32,
   "id": "f71ef067-82a8-4a8a-bcf0-ba389eca705b",
   "metadata": {},
   "outputs": [
    {
     "data": {
      "text/plain": [
       "Price\n",
       "277.0    19\n",
       "Name: count, dtype: Int64"
      ]
     },
     "execution_count": 32,
     "metadata": {},
     "output_type": "execute_result"
    }
   ],
   "source": [
    "df[\"Price\"].value_counts().head(1)"
   ]
  },
  {
   "cell_type": "markdown",
   "id": "d1d6e399-fc64-4998-927b-b961e0eea2d1",
   "metadata": {},
   "source": [
    "**31. How many books have received more than 1000 ratings?**\n"
   ]
  },
  {
   "cell_type": "code",
   "execution_count": 33,
   "id": "fdaa88a9-3a14-4ef0-8606-914ceb19f2c0",
   "metadata": {},
   "outputs": [
    {
     "data": {
      "text/html": [
       "<div>\n",
       "<style scoped>\n",
       "    .dataframe tbody tr th:only-of-type {\n",
       "        vertical-align: middle;\n",
       "    }\n",
       "\n",
       "    .dataframe tbody tr th {\n",
       "        vertical-align: top;\n",
       "    }\n",
       "\n",
       "    .dataframe thead th {\n",
       "        text-align: right;\n",
       "    }\n",
       "</style>\n",
       "<table border=\"1\" class=\"dataframe\">\n",
       "  <thead>\n",
       "    <tr style=\"text-align: right;\">\n",
       "      <th></th>\n",
       "      <th>Book Name</th>\n",
       "      <th>Author</th>\n",
       "      <th>Pages</th>\n",
       "      <th>Language</th>\n",
       "      <th>Average Ratings</th>\n",
       "      <th>Total Ratings</th>\n",
       "      <th>Price</th>\n",
       "      <th>Category</th>\n",
       "    </tr>\n",
       "  </thead>\n",
       "  <tbody>\n",
       "    <tr>\n",
       "      <th>1</th>\n",
       "      <td>1984 [Paperback] George Orwell</td>\n",
       "      <td>George Orwell</td>\n",
       "      <td>304.0</td>\n",
       "      <td>English</td>\n",
       "      <td>4.5</td>\n",
       "      <td>126238</td>\n",
       "      <td>139.0</td>\n",
       "      <td>Literature</td>\n",
       "    </tr>\n",
       "    <tr>\n",
       "      <th>3</th>\n",
       "      <td>21 Lessons for the 21st Century : 'Truly mind-...</td>\n",
       "      <td>Yuval Noah Harari</td>\n",
       "      <td>432.0</td>\n",
       "      <td>English</td>\n",
       "      <td>4.6</td>\n",
       "      <td>17463</td>\n",
       "      <td>416.0</td>\n",
       "      <td>Self Improvement</td>\n",
       "    </tr>\n",
       "    <tr>\n",
       "      <th>5</th>\n",
       "      <td>33 Days to Morning Glory: A Do-It-Yourself Ret...</td>\n",
       "      <td>Michael E. Gaitley</td>\n",
       "      <td>256.0</td>\n",
       "      <td>English</td>\n",
       "      <td>4.9</td>\n",
       "      <td>3391</td>\n",
       "      <td>277.0</td>\n",
       "      <td>Religion and Spirtuality</td>\n",
       "    </tr>\n",
       "    <tr>\n",
       "      <th>7</th>\n",
       "      <td>41 Anmol Kahaniya - Premchand [Paperback] Prem...</td>\n",
       "      <td>Premchand</td>\n",
       "      <td>368.0</td>\n",
       "      <td>Hindi</td>\n",
       "      <td>4.4</td>\n",
       "      <td>2536</td>\n",
       "      <td>199.0</td>\n",
       "      <td>Literature</td>\n",
       "    </tr>\n",
       "    <tr>\n",
       "      <th>12</th>\n",
       "      <td>Aapke Avchetan Mann Ki Shakti (The Power Of Yo...</td>\n",
       "      <td>Joseph Murphy</td>\n",
       "      <td>232.0</td>\n",
       "      <td>Hindi</td>\n",
       "      <td>4.4</td>\n",
       "      <td>14553</td>\n",
       "      <td>139.0</td>\n",
       "      <td>Finance</td>\n",
       "    </tr>\n",
       "    <tr>\n",
       "      <th>...</th>\n",
       "      <td>...</td>\n",
       "      <td>...</td>\n",
       "      <td>...</td>\n",
       "      <td>...</td>\n",
       "      <td>...</td>\n",
       "      <td>...</td>\n",
       "      <td>...</td>\n",
       "      <td>...</td>\n",
       "    </tr>\n",
       "    <tr>\n",
       "      <th>312</th>\n",
       "      <td>World�s Greatest Classic (Set of 4 Books) [Pap...</td>\n",
       "      <td>Jane Austen F. Scott Fitzgerald, Oscar Wilde, ...</td>\n",
       "      <td>1264.0</td>\n",
       "      <td>English</td>\n",
       "      <td>4.5</td>\n",
       "      <td>2584</td>\n",
       "      <td>499.0</td>\n",
       "      <td>Literature</td>\n",
       "    </tr>\n",
       "    <tr>\n",
       "      <th>313</th>\n",
       "      <td>YOU ARE WORTH IT: Building a Life Worth Fighti...</td>\n",
       "      <td>Kyle Carpenter</td>\n",
       "      <td>320.0</td>\n",
       "      <td>English</td>\n",
       "      <td>4.9</td>\n",
       "      <td>2006</td>\n",
       "      <td>599.0</td>\n",
       "      <td>Religion and Spirtuality</td>\n",
       "    </tr>\n",
       "    <tr>\n",
       "      <th>314</th>\n",
       "      <td>You Can [Paperback] George Matthew Adams</td>\n",
       "      <td>George Matthew Adams</td>\n",
       "      <td>232.0</td>\n",
       "      <td>English</td>\n",
       "      <td>4.3</td>\n",
       "      <td>5336</td>\n",
       "      <td>129.0</td>\n",
       "      <td>Self Improvement</td>\n",
       "    </tr>\n",
       "    <tr>\n",
       "      <th>318</th>\n",
       "      <td>YOU WILL GET THROUGH THIS NIGHT NOTUS NO: The ...</td>\n",
       "      <td>DANIEL HOWELL</td>\n",
       "      <td>352.0</td>\n",
       "      <td>English</td>\n",
       "      <td>4.9</td>\n",
       "      <td>2258</td>\n",
       "      <td>860.0</td>\n",
       "      <td>Religion and Spirtuality</td>\n",
       "    </tr>\n",
       "    <tr>\n",
       "      <th>319</th>\n",
       "      <td>Zero to One (L)</td>\n",
       "      <td>Peter Thiel</td>\n",
       "      <td>210.0</td>\n",
       "      <td>English</td>\n",
       "      <td>4.5</td>\n",
       "      <td>30885</td>\n",
       "      <td>381.0</td>\n",
       "      <td>Finance</td>\n",
       "    </tr>\n",
       "  </tbody>\n",
       "</table>\n",
       "<p>142 rows × 8 columns</p>\n",
       "</div>"
      ],
      "text/plain": [
       "                                             Book Name  \\\n",
       "1                       1984 [Paperback] George Orwell   \n",
       "3    21 Lessons for the 21st Century : 'Truly mind-...   \n",
       "5    33 Days to Morning Glory: A Do-It-Yourself Ret...   \n",
       "7    41 Anmol Kahaniya - Premchand [Paperback] Prem...   \n",
       "12   Aapke Avchetan Mann Ki Shakti (The Power Of Yo...   \n",
       "..                                                 ...   \n",
       "312  World�s Greatest Classic (Set of 4 Books) [Pap...   \n",
       "313  YOU ARE WORTH IT: Building a Life Worth Fighti...   \n",
       "314           You Can [Paperback] George Matthew Adams   \n",
       "318  YOU WILL GET THROUGH THIS NIGHT NOTUS NO: The ...   \n",
       "319                                    Zero to One (L)   \n",
       "\n",
       "                                                Author   Pages Language  \\\n",
       "1                                        George Orwell   304.0  English   \n",
       "3                                    Yuval Noah Harari   432.0  English   \n",
       "5                                   Michael E. Gaitley   256.0  English   \n",
       "7                                            Premchand   368.0    Hindi   \n",
       "12                                       Joseph Murphy   232.0    Hindi   \n",
       "..                                                 ...     ...      ...   \n",
       "312  Jane Austen F. Scott Fitzgerald, Oscar Wilde, ...  1264.0  English   \n",
       "313                                     Kyle Carpenter   320.0  English   \n",
       "314                               George Matthew Adams   232.0  English   \n",
       "318                                      DANIEL HOWELL   352.0  English   \n",
       "319                                        Peter Thiel   210.0  English   \n",
       "\n",
       "     Average Ratings  Total Ratings  Price                  Category  \n",
       "1                4.5         126238  139.0                Literature  \n",
       "3                4.6          17463  416.0          Self Improvement  \n",
       "5                4.9           3391  277.0  Religion and Spirtuality  \n",
       "7                4.4           2536  199.0                Literature  \n",
       "12               4.4          14553  139.0                   Finance  \n",
       "..               ...            ...    ...                       ...  \n",
       "312              4.5           2584  499.0                Literature  \n",
       "313              4.9           2006  599.0  Religion and Spirtuality  \n",
       "314              4.3           5336  129.0          Self Improvement  \n",
       "318              4.9           2258  860.0  Religion and Spirtuality  \n",
       "319              4.5          30885  381.0                   Finance  \n",
       "\n",
       "[142 rows x 8 columns]"
      ]
     },
     "execution_count": 33,
     "metadata": {},
     "output_type": "execute_result"
    }
   ],
   "source": [
    "df[df[\"Total Ratings\"] >= 1000]"
   ]
  },
  {
   "cell_type": "markdown",
   "id": "19ea4c87-5e3a-4700-adf6-d046f60144d3",
   "metadata": {},
   "source": [
    "**32. Which book(s) has the highest rating?**\n"
   ]
  },
  {
   "cell_type": "code",
   "execution_count": 34,
   "id": "b39ad40d-4b24-4993-9501-e6f80e295082",
   "metadata": {},
   "outputs": [
    {
     "data": {
      "text/html": [
       "<div>\n",
       "<style scoped>\n",
       "    .dataframe tbody tr th:only-of-type {\n",
       "        vertical-align: middle;\n",
       "    }\n",
       "\n",
       "    .dataframe tbody tr th {\n",
       "        vertical-align: top;\n",
       "    }\n",
       "\n",
       "    .dataframe thead th {\n",
       "        text-align: right;\n",
       "    }\n",
       "</style>\n",
       "<table border=\"1\" class=\"dataframe\">\n",
       "  <thead>\n",
       "    <tr style=\"text-align: right;\">\n",
       "      <th></th>\n",
       "      <th>Book Name</th>\n",
       "      <th>Total Ratings</th>\n",
       "    </tr>\n",
       "  </thead>\n",
       "  <tbody>\n",
       "    <tr>\n",
       "      <th>270</th>\n",
       "      <td>The Subtle Art of Not Giving A F*ck : A Counte...</td>\n",
       "      <td>143173</td>\n",
       "    </tr>\n",
       "    <tr>\n",
       "      <th>1</th>\n",
       "      <td>1984 [Paperback] George Orwell</td>\n",
       "      <td>126238</td>\n",
       "    </tr>\n",
       "    <tr>\n",
       "      <th>28</th>\n",
       "      <td>Atomic Habits : the life-changing million-copy...</td>\n",
       "      <td>93585</td>\n",
       "    </tr>\n",
       "    <tr>\n",
       "      <th>130</th>\n",
       "      <td>Man's Search For Meaning: The classic tribute ...</td>\n",
       "      <td>85928</td>\n",
       "    </tr>\n",
       "    <tr>\n",
       "      <th>131</th>\n",
       "      <td>Man's Search For Meaning: The classic tribute ...</td>\n",
       "      <td>85928</td>\n",
       "    </tr>\n",
       "  </tbody>\n",
       "</table>\n",
       "</div>"
      ],
      "text/plain": [
       "                                             Book Name  Total Ratings\n",
       "270  The Subtle Art of Not Giving A F*ck : A Counte...         143173\n",
       "1                       1984 [Paperback] George Orwell         126238\n",
       "28   Atomic Habits : the life-changing million-copy...          93585\n",
       "130  Man's Search For Meaning: The classic tribute ...          85928\n",
       "131  Man's Search For Meaning: The classic tribute ...          85928"
      ]
     },
     "execution_count": 34,
     "metadata": {},
     "output_type": "execute_result"
    }
   ],
   "source": [
    "df[[\"Book Name\",\"Total Ratings\"]].sort_values(by=\"Total Ratings\",ascending=False).head()"
   ]
  },
  {
   "cell_type": "markdown",
   "id": "3079c733-dd5b-45f7-bf78-9e995bfd7ef9",
   "metadata": {},
   "source": [
    "**33. What is the average rating across different languages?**"
   ]
  },
  {
   "cell_type": "code",
   "execution_count": 35,
   "id": "8f9f90b7-591f-498e-9d41-60759d51cc6f",
   "metadata": {},
   "outputs": [
    {
     "data": {
      "text/html": [
       "<div>\n",
       "<style scoped>\n",
       "    .dataframe tbody tr th:only-of-type {\n",
       "        vertical-align: middle;\n",
       "    }\n",
       "\n",
       "    .dataframe tbody tr th {\n",
       "        vertical-align: top;\n",
       "    }\n",
       "\n",
       "    .dataframe thead th {\n",
       "        text-align: right;\n",
       "    }\n",
       "</style>\n",
       "<table border=\"1\" class=\"dataframe\">\n",
       "  <thead>\n",
       "    <tr style=\"text-align: right;\">\n",
       "      <th></th>\n",
       "      <th>Language</th>\n",
       "      <th>Total Ratings</th>\n",
       "    </tr>\n",
       "  </thead>\n",
       "  <tbody>\n",
       "    <tr>\n",
       "      <th>0</th>\n",
       "      <td>English</td>\n",
       "      <td>9094.958140</td>\n",
       "    </tr>\n",
       "    <tr>\n",
       "      <th>1</th>\n",
       "      <td>Hindi</td>\n",
       "      <td>1730.333333</td>\n",
       "    </tr>\n",
       "    <tr>\n",
       "      <th>2</th>\n",
       "      <td>Kannada</td>\n",
       "      <td>26.000000</td>\n",
       "    </tr>\n",
       "    <tr>\n",
       "      <th>3</th>\n",
       "      <td>Malayalam</td>\n",
       "      <td>82.000000</td>\n",
       "    </tr>\n",
       "    <tr>\n",
       "      <th>4</th>\n",
       "      <td>Marathi</td>\n",
       "      <td>197.000000</td>\n",
       "    </tr>\n",
       "    <tr>\n",
       "      <th>5</th>\n",
       "      <td>Tamil</td>\n",
       "      <td>37.000000</td>\n",
       "    </tr>\n",
       "    <tr>\n",
       "      <th>6</th>\n",
       "      <td>Telugu</td>\n",
       "      <td>1489.000000</td>\n",
       "    </tr>\n",
       "  </tbody>\n",
       "</table>\n",
       "</div>"
      ],
      "text/plain": [
       "    Language  Total Ratings\n",
       "0    English    9094.958140\n",
       "1      Hindi    1730.333333\n",
       "2    Kannada      26.000000\n",
       "3  Malayalam      82.000000\n",
       "4    Marathi     197.000000\n",
       "5      Tamil      37.000000\n",
       "6     Telugu    1489.000000"
      ]
     },
     "execution_count": 35,
     "metadata": {},
     "output_type": "execute_result"
    }
   ],
   "source": [
    "df.groupby(\"Language\")[\"Total Ratings\"].mean().reset_index()"
   ]
  },
  {
   "cell_type": "markdown",
   "id": "1c4d0417-9474-460c-84bc-c691812b2807",
   "metadata": {},
   "source": [
    "**34. Which authors have the highest average book ratings?**\n"
   ]
  },
  {
   "cell_type": "code",
   "execution_count": 36,
   "id": "c76b8d63-9f41-4c28-8ecc-8fe00b0992be",
   "metadata": {},
   "outputs": [
    {
     "data": {
      "text/plain": [
       "Author\n",
       "Omar Suleiman    5.0\n",
       "Name: Average Ratings, dtype: float64"
      ]
     },
     "execution_count": 36,
     "metadata": {},
     "output_type": "execute_result"
    }
   ],
   "source": [
    "df.groupby(\"Author\")[\"Average Ratings\"].mean().sort_values(ascending=False).head(1)"
   ]
  },
  {
   "cell_type": "markdown",
   "id": "6667d8fe-ce24-4623-a6c3-534f712cd528",
   "metadata": {},
   "source": [
    "**35. Display the longest book(max pages) written by each author.  Sort the result by Pages in descending order**"
   ]
  },
  {
   "cell_type": "code",
   "execution_count": 37,
   "id": "051b1ebf-a987-49f2-aa65-a6ae80a2d10c",
   "metadata": {},
   "outputs": [
    {
     "data": {
      "text/plain": [
       "Author\n",
       "CSB Bibles by Holman CSB Bibles by Holman    2240.0\n",
       "Dorothy Kelley Patterson                     2080.0\n",
       "Zondervan Publishing House                   1666.0\n",
       "Various                                      1536.0\n",
       "Unknown                                      1448.0\n",
       "Name: Pages, dtype: float64"
      ]
     },
     "execution_count": 37,
     "metadata": {},
     "output_type": "execute_result"
    }
   ],
   "source": [
    "df.groupby(\"Author\")[\"Pages\"].max().sort_values(ascending=False).head()"
   ]
  },
  {
   "cell_type": "markdown",
   "id": "5a4e966b-fd27-4e2d-b79d-3baabd752192",
   "metadata": {},
   "source": [
    "**36. Display the total number of ratings received by each author.**\n",
    "\n"
   ]
  },
  {
   "cell_type": "code",
   "execution_count": 38,
   "id": "dbf9d3a2-e50f-4837-a9c6-c426758811b8",
   "metadata": {},
   "outputs": [
    {
     "data": {
      "text/plain": [
       "Author\n",
       "ASHNEER GROVER                 3221\n",
       "Abbie Halberstadt              1353\n",
       "Abhay Xaxa                       31\n",
       "Abiola Abrams                  3090\n",
       "Acharya Prashant               1392\n",
       "                              ...  \n",
       "Wonder House Books              169\n",
       "Yatish Yadav                    579\n",
       "Yuval Noah Harari             17463\n",
       "Zebra Learn                     181\n",
       "Zondervan Publishing House     6257\n",
       "Name: Total Ratings, Length: 201, dtype: int64"
      ]
     },
     "execution_count": 38,
     "metadata": {},
     "output_type": "execute_result"
    }
   ],
   "source": [
    "df.groupby(\"Author\")[\"Total Ratings\"].sum()"
   ]
  },
  {
   "cell_type": "markdown",
   "id": "da87c12b-f885-4eca-97fd-7848c115fa2f",
   "metadata": {},
   "source": [
    "\n",
    "**37. Find top 5 and bottom 5 authors based on total number of ratings received**"
   ]
  },
  {
   "cell_type": "code",
   "execution_count": 39,
   "id": "d4449fb2-8f3c-47da-ad10-1e4a8657ca6f",
   "metadata": {},
   "outputs": [
    {
     "data": {
      "text/plain": [
       "Author\n",
       "George Orwell          285670\n",
       "Victor E. Frankl       171856\n",
       "Mark Manson            143173\n",
       "James Clear             93585\n",
       "Robin Sharma            86609\n",
       "Indrazith Santharaj         1\n",
       "Martin Rowson               1\n",
       "Jay Sandron                 1\n",
       "Na. Vanamamalai             2\n",
       "J. Krishnamurti             4\n",
       "Name: Total Ratings, dtype: int64"
      ]
     },
     "execution_count": 39,
     "metadata": {},
     "output_type": "execute_result"
    }
   ],
   "source": [
    "df1 = df.groupby(\"Author\")[\"Total Ratings\"].sum().sort_values(ascending=False).head()\n",
    "df2 = df.groupby(\"Author\")[\"Total Ratings\"].sum().sort_values(ascending=True).head()\n",
    "df3 = pd.concat([df1, df2])\n",
    "df3"
   ]
  },
  {
   "cell_type": "markdown",
   "id": "eb86e4e8-2c77-46eb-b6b3-9d0193bd0754",
   "metadata": {},
   "source": [
    "**38. Find the top 10 books with the highest number of total ratings.**\n"
   ]
  },
  {
   "cell_type": "code",
   "execution_count": 40,
   "id": "f33dc4e8-29e6-420b-8649-531c5afb7af5",
   "metadata": {},
   "outputs": [
    {
     "data": {
      "text/html": [
       "<div>\n",
       "<style scoped>\n",
       "    .dataframe tbody tr th:only-of-type {\n",
       "        vertical-align: middle;\n",
       "    }\n",
       "\n",
       "    .dataframe tbody tr th {\n",
       "        vertical-align: top;\n",
       "    }\n",
       "\n",
       "    .dataframe thead th {\n",
       "        text-align: right;\n",
       "    }\n",
       "</style>\n",
       "<table border=\"1\" class=\"dataframe\">\n",
       "  <thead>\n",
       "    <tr style=\"text-align: right;\">\n",
       "      <th></th>\n",
       "      <th>Book Name</th>\n",
       "      <th>Total Ratings</th>\n",
       "    </tr>\n",
       "  </thead>\n",
       "  <tbody>\n",
       "    <tr>\n",
       "      <th>270</th>\n",
       "      <td>The Subtle Art of Not Giving A F*ck : A Counte...</td>\n",
       "      <td>143173</td>\n",
       "    </tr>\n",
       "    <tr>\n",
       "      <th>1</th>\n",
       "      <td>1984 [Paperback] George Orwell</td>\n",
       "      <td>126238</td>\n",
       "    </tr>\n",
       "    <tr>\n",
       "      <th>28</th>\n",
       "      <td>Atomic Habits : the life-changing million-copy...</td>\n",
       "      <td>93585</td>\n",
       "    </tr>\n",
       "    <tr>\n",
       "      <th>130</th>\n",
       "      <td>Man's Search For Meaning: The classic tribute ...</td>\n",
       "      <td>85928</td>\n",
       "    </tr>\n",
       "    <tr>\n",
       "      <th>131</th>\n",
       "      <td>Man's Search For Meaning: The classic tribute ...</td>\n",
       "      <td>85928</td>\n",
       "    </tr>\n",
       "    <tr>\n",
       "      <th>18</th>\n",
       "      <td>Animal Farm</td>\n",
       "      <td>79675</td>\n",
       "    </tr>\n",
       "    <tr>\n",
       "      <th>17</th>\n",
       "      <td>Animal Farm</td>\n",
       "      <td>79674</td>\n",
       "    </tr>\n",
       "    <tr>\n",
       "      <th>259</th>\n",
       "      <td>The Psychology of Money</td>\n",
       "      <td>62884</td>\n",
       "    </tr>\n",
       "    <tr>\n",
       "      <th>107</th>\n",
       "      <td>Ikigai</td>\n",
       "      <td>54433</td>\n",
       "    </tr>\n",
       "    <tr>\n",
       "      <th>225</th>\n",
       "      <td>The Good Girl's Guide to Murder: Book 1 (A Goo...</td>\n",
       "      <td>52516</td>\n",
       "    </tr>\n",
       "  </tbody>\n",
       "</table>\n",
       "</div>"
      ],
      "text/plain": [
       "                                             Book Name  Total Ratings\n",
       "270  The Subtle Art of Not Giving A F*ck : A Counte...         143173\n",
       "1                       1984 [Paperback] George Orwell         126238\n",
       "28   Atomic Habits : the life-changing million-copy...          93585\n",
       "130  Man's Search For Meaning: The classic tribute ...          85928\n",
       "131  Man's Search For Meaning: The classic tribute ...          85928\n",
       "18                                         Animal Farm          79675\n",
       "17                                         Animal Farm          79674\n",
       "259                            The Psychology of Money          62884\n",
       "107                                             Ikigai          54433\n",
       "225  The Good Girl's Guide to Murder: Book 1 (A Goo...          52516"
      ]
     },
     "execution_count": 40,
     "metadata": {},
     "output_type": "execute_result"
    }
   ],
   "source": [
    "df[[\"Book Name\",\"Total Ratings\"]].sort_values(by =\"Total Ratings\",ascending=False).head(10)"
   ]
  },
  {
   "cell_type": "markdown",
   "id": "2c814b58-676c-453f-a6e5-f8bfea4e6c1e",
   "metadata": {},
   "source": [
    "**39. Explore how many books exist in each category and language combination.**"
   ]
  },
  {
   "cell_type": "code",
   "execution_count": 41,
   "id": "3033a496-d4ba-46b1-95fe-a54d10a816cb",
   "metadata": {},
   "outputs": [
    {
     "data": {
      "text/html": [
       "<div>\n",
       "<style scoped>\n",
       "    .dataframe tbody tr th:only-of-type {\n",
       "        vertical-align: middle;\n",
       "    }\n",
       "\n",
       "    .dataframe tbody tr th {\n",
       "        vertical-align: top;\n",
       "    }\n",
       "\n",
       "    .dataframe thead th {\n",
       "        text-align: right;\n",
       "    }\n",
       "</style>\n",
       "<table border=\"1\" class=\"dataframe\">\n",
       "  <thead>\n",
       "    <tr style=\"text-align: right;\">\n",
       "      <th></th>\n",
       "      <th></th>\n",
       "      <th>Book Name</th>\n",
       "    </tr>\n",
       "    <tr>\n",
       "      <th>Category</th>\n",
       "      <th>Language</th>\n",
       "      <th></th>\n",
       "    </tr>\n",
       "  </thead>\n",
       "  <tbody>\n",
       "    <tr>\n",
       "      <th rowspan=\"5\" valign=\"top\">Finance</th>\n",
       "      <th>English</th>\n",
       "      <td>38</td>\n",
       "    </tr>\n",
       "    <tr>\n",
       "      <th>Hindi</th>\n",
       "      <td>5</td>\n",
       "    </tr>\n",
       "    <tr>\n",
       "      <th>Kannada</th>\n",
       "      <td>1</td>\n",
       "    </tr>\n",
       "    <tr>\n",
       "      <th>Malayalam</th>\n",
       "      <td>1</td>\n",
       "    </tr>\n",
       "    <tr>\n",
       "      <th>Tamil</th>\n",
       "      <td>1</td>\n",
       "    </tr>\n",
       "    <tr>\n",
       "      <th rowspan=\"5\" valign=\"top\">Literature</th>\n",
       "      <th>English</th>\n",
       "      <td>37</td>\n",
       "    </tr>\n",
       "    <tr>\n",
       "      <th>Hindi</th>\n",
       "      <td>6</td>\n",
       "    </tr>\n",
       "    <tr>\n",
       "      <th>Malayalam</th>\n",
       "      <td>2</td>\n",
       "    </tr>\n",
       "    <tr>\n",
       "      <th>Marathi</th>\n",
       "      <td>1</td>\n",
       "    </tr>\n",
       "    <tr>\n",
       "      <th>Telugu</th>\n",
       "      <td>3</td>\n",
       "    </tr>\n",
       "    <tr>\n",
       "      <th rowspan=\"2\" valign=\"top\">Political</th>\n",
       "      <th>English</th>\n",
       "      <td>44</td>\n",
       "    </tr>\n",
       "    <tr>\n",
       "      <th>Hindi</th>\n",
       "      <td>4</td>\n",
       "    </tr>\n",
       "    <tr>\n",
       "      <th>Religion and Spirtuality</th>\n",
       "      <th>English</th>\n",
       "      <td>48</td>\n",
       "    </tr>\n",
       "    <tr>\n",
       "      <th>Self Improvement</th>\n",
       "      <th>English</th>\n",
       "      <td>48</td>\n",
       "    </tr>\n",
       "  </tbody>\n",
       "</table>\n",
       "</div>"
      ],
      "text/plain": [
       "                                    Book Name\n",
       "Category                 Language            \n",
       "Finance                  English           38\n",
       "                         Hindi              5\n",
       "                         Kannada            1\n",
       "                         Malayalam          1\n",
       "                         Tamil              1\n",
       "Literature               English           37\n",
       "                         Hindi              6\n",
       "                         Malayalam          2\n",
       "                         Marathi            1\n",
       "                         Telugu             3\n",
       "Political                English           44\n",
       "                         Hindi              4\n",
       "Religion and Spirtuality English           48\n",
       "Self Improvement         English           48"
      ]
     },
     "execution_count": 41,
     "metadata": {},
     "output_type": "execute_result"
    }
   ],
   "source": [
    "df.groupby([\"Category\",\"Language\"]).agg({\"Book Name\":\"count\"})"
   ]
  },
  {
   "cell_type": "markdown",
   "id": "34698717-a0c8-4c0c-8a09-7e4719d49bfc",
   "metadata": {},
   "source": [
    "**40 Identify the longest and shortest books by pages within each category.**"
   ]
  },
  {
   "cell_type": "code",
   "execution_count": 42,
   "id": "74f49cea-45bb-4fa2-b582-a7950187d6a0",
   "metadata": {},
   "outputs": [
    {
     "data": {
      "text/html": [
       "<div>\n",
       "<style scoped>\n",
       "    .dataframe tbody tr th:only-of-type {\n",
       "        vertical-align: middle;\n",
       "    }\n",
       "\n",
       "    .dataframe tbody tr th {\n",
       "        vertical-align: top;\n",
       "    }\n",
       "\n",
       "    .dataframe thead tr th {\n",
       "        text-align: left;\n",
       "    }\n",
       "\n",
       "    .dataframe thead tr:last-of-type th {\n",
       "        text-align: right;\n",
       "    }\n",
       "</style>\n",
       "<table border=\"1\" class=\"dataframe\">\n",
       "  <thead>\n",
       "    <tr>\n",
       "      <th></th>\n",
       "      <th colspan=\"2\" halign=\"left\">Pages</th>\n",
       "    </tr>\n",
       "    <tr>\n",
       "      <th></th>\n",
       "      <th>min</th>\n",
       "      <th>max</th>\n",
       "    </tr>\n",
       "    <tr>\n",
       "      <th>Category</th>\n",
       "      <th></th>\n",
       "      <th></th>\n",
       "    </tr>\n",
       "  </thead>\n",
       "  <tbody>\n",
       "    <tr>\n",
       "      <th>Finance</th>\n",
       "      <td>82.0</td>\n",
       "      <td>590.0</td>\n",
       "    </tr>\n",
       "    <tr>\n",
       "      <th>Literature</th>\n",
       "      <td>16.0</td>\n",
       "      <td>1536.0</td>\n",
       "    </tr>\n",
       "    <tr>\n",
       "      <th>Political</th>\n",
       "      <td>46.0</td>\n",
       "      <td>784.0</td>\n",
       "    </tr>\n",
       "    <tr>\n",
       "      <th>Religion and Spirtuality</th>\n",
       "      <td>40.0</td>\n",
       "      <td>2240.0</td>\n",
       "    </tr>\n",
       "    <tr>\n",
       "      <th>Self Improvement</th>\n",
       "      <td>96.0</td>\n",
       "      <td>512.0</td>\n",
       "    </tr>\n",
       "  </tbody>\n",
       "</table>\n",
       "</div>"
      ],
      "text/plain": [
       "                         Pages        \n",
       "                           min     max\n",
       "Category                              \n",
       "Finance                   82.0   590.0\n",
       "Literature                16.0  1536.0\n",
       "Political                 46.0   784.0\n",
       "Religion and Spirtuality  40.0  2240.0\n",
       "Self Improvement          96.0   512.0"
      ]
     },
     "execution_count": 42,
     "metadata": {},
     "output_type": "execute_result"
    }
   ],
   "source": [
    "df.groupby(\"Category\").agg({\"Pages\":[\"min\",\"max\"]})"
   ]
  },
  {
   "cell_type": "markdown",
   "id": "70e85143-0fa4-47d3-b120-c0d97ccd046d",
   "metadata": {},
   "source": [
    "**41. Plot a boxplot of the \"Pages\" column**"
   ]
  },
  {
   "cell_type": "code",
   "execution_count": 43,
   "id": "651b4ad7-afe6-4895-b6be-10b78e108e91",
   "metadata": {},
   "outputs": [
    {
     "data": {
      "image/png": "[encoded data removed]",
      "text/plain": [
       "<Figure size 700x700 with 1 Axes>"
      ]
     },
     "metadata": {},
     "output_type": "display_data"
    }
   ],
   "source": [
    "x = df[\"Pages\"]\n",
    "\n",
    "plt.figure(figsize=(7,7))\n",
    "plt.boxplot(x)\n",
    "plt.ylabel(\"pages\")\n",
    "plt.show()"
   ]
  },
  {
   "cell_type": "markdown",
   "id": "2772863d-a758-4edf-9451-a731f413d7c1",
   "metadata": {},
   "source": [
    "**42. Plot a boxplot of the \"Price\" column**"
   ]
  },
  {
   "cell_type": "code",
   "execution_count": 44,
   "id": "6fbb1198-30e2-4687-b4af-8d3cc5f0b90d",
   "metadata": {},
   "outputs": [
    {
     "data": {
      "image/png": "[encoded data removed]",
      "text/plain": [
       "<Figure size 640x480 with 1 Axes>"
      ]
     },
     "metadata": {},
     "output_type": "display_data"
    }
   ],
   "source": [
    "plt.boxplot(df[\"Price\"])\n",
    "plt.show()"
   ]
  },
  {
   "cell_type": "markdown",
   "id": "1d9d024f-712a-41d0-9351-9dc6ce86ce16",
   "metadata": {},
   "source": [
    "**43. Use the following function to remove outliers from Price and Pages column. Find the number of rows removed and plot boxplots for Price and Pages after removing the oultiers**"
   ]
  },
  {
   "cell_type": "code",
   "execution_count": 45,
   "id": "d6ce50de-49cb-4e1b-84e8-b2546eb15dc5",
   "metadata": {},
   "outputs": [],
   "source": [
    "def remove_outliers(df, column, multiplier=1.5):\n",
    "    # Calculate Q1 (25th percentile) and Q3 (75th percentile) of the column\n",
    "    Q1 = df[column].quantile(0.25)\n",
    "    Q3 = df[column].quantile(0.75)\n",
    "\n",
    "    # Calculate IQR\n",
    "    IQR = Q3 - Q1\n",
    "\n",
    "    # Define the lower and upper bounds for outliers\n",
    "    lower_bound = Q1 - multiplier * IQR\n",
    "    upper_bound = Q3 + multiplier * IQR\n",
    "\n",
    "    # Remove outliers by filtering the column within the bounds\n",
    "    df_cleaned = df[(df[column] >= lower_bound) & (df[column] <= upper_bound)]\n",
    "\n",
    "    return df_cleaned"
   ]
  },
  {
   "cell_type": "code",
   "execution_count": 46,
   "id": "22aedb22-5fff-4595-b046-a0883e736e4c",
   "metadata": {},
   "outputs": [
    {
     "data": {
      "image/png": "[encoded data removed]",
      "text/plain": [
       "<Figure size 640x480 with 1 Axes>"
      ]
     },
     "metadata": {},
     "output_type": "display_data"
    }
   ],
   "source": [
    "\n",
    "df_cleaned_price = remove_outliers(df,column=\"Price\",multiplier=0.0)\n",
    "plt.boxplot(df_cleaned_price[\"Price\"])\n",
    "plt.show()"
   ]
  },
  {
   "cell_type": "code",
   "execution_count": 47,
   "id": "541f3381-fb34-421c-80e0-1eb1b9698e70",
   "metadata": {},
   "outputs": [
    {
     "data": {
      "image/png": "[encoded data removed]",
      "text/plain": [
       "<Figure size 640x480 with 1 Axes>"
      ]
     },
     "metadata": {},
     "output_type": "display_data"
    }
   ],
   "source": [
    "df_cleaned_pages = remove_outliers(df,column=\"Pages\",multiplier=0.0)\n",
    "plt.boxplot(df_cleaned_price[\"Pages\"])\n",
    "plt.show()"
   ]
  },
  {
   "cell_type": "code",
   "execution_count": null,
   "id": "3328cdb9-8425-4b04-9d56-a2d5d458e57e",
   "metadata": {},
   "outputs": [],
   "source": []
  },
  {
   "cell_type": "markdown",
   "id": "19daded1-93e0-4ff3-a4ec-e67f15a74da3",
   "metadata": {},
   "source": [
    "**44. Compare the distribution of book prices across different categories using box plots.**\n"
   ]
  },
  {
   "cell_type": "code",
   "execution_count": 48,
   "id": "d2225a15-b0a5-474d-8696-da5f989400a9",
   "metadata": {},
   "outputs": [
    {
     "data": {
      "image/png": "[encoded data removed]",
      "text/plain": [
       "<Figure size 640x480 with 1 Axes>"
      ]
     },
     "metadata": {},
     "output_type": "display_data"
    }
   ],
   "source": [
    "import seaborn as sns\n",
    "x = df[\"Price\"]\n",
    "y = df[\"Category\"]\n",
    "\n",
    "sns.boxplot(x=y,y=x,data=df)\n",
    "plt.show()"
   ]
  },
  {
   "cell_type": "markdown",
   "id": "1d3b0dd9-ff1e-4b4d-bf4c-544a96c675e3",
   "metadata": {},
   "source": [
    "**45. Explore how the average rating varies across different languages using a bar plot**\n"
   ]
  },
  {
   "cell_type": "code",
   "execution_count": 49,
   "id": "a37c431c-72b7-425d-9d6f-f2090e6d636a",
   "metadata": {},
   "outputs": [
    {
     "data": {
      "image/png": "[encoded data removed]",
      "text/plain": [
       "<Figure size 700x400 with 1 Axes>"
      ]
     },
     "metadata": {},
     "output_type": "display_data"
    }
   ],
   "source": [
    "plt.figure(figsize=(7,4))\n",
    "plt.bar(df[\"Language\"],df[\"Average Ratings\"])\n",
    "plt.xlabel(\"Languages\")\n",
    "plt.ylabel(\"Ratings\")\n",
    "plt.show()"
   ]
  },
  {
   "cell_type": "markdown",
   "id": "db805656-4bb9-469f-ad61-d482b00fa4b9",
   "metadata": {},
   "source": [
    "**46. Analyze the correlation between numerical variables such as Price, Pages, Average Rating, Total Ratings, etc.**"
   ]
  },
  {
   "cell_type": "code",
   "execution_count": 50,
   "id": "aa423867-21ca-4aaa-8d17-c092dd04ed91",
   "metadata": {},
   "outputs": [
    {
     "data": {
      "text/html": [
       "<div>\n",
       "<style scoped>\n",
       "    .dataframe tbody tr th:only-of-type {\n",
       "        vertical-align: middle;\n",
       "    }\n",
       "\n",
       "    .dataframe tbody tr th {\n",
       "        vertical-align: top;\n",
       "    }\n",
       "\n",
       "    .dataframe thead th {\n",
       "        text-align: right;\n",
       "    }\n",
       "</style>\n",
       "<table border=\"1\" class=\"dataframe\">\n",
       "  <thead>\n",
       "    <tr style=\"text-align: right;\">\n",
       "      <th></th>\n",
       "      <th>Pages</th>\n",
       "      <th>Average Ratings</th>\n",
       "      <th>Total Ratings</th>\n",
       "      <th>Price</th>\n",
       "    </tr>\n",
       "  </thead>\n",
       "  <tbody>\n",
       "    <tr>\n",
       "      <th>Pages</th>\n",
       "      <td>1.000000</td>\n",
       "      <td>0.084830</td>\n",
       "      <td>-0.063443</td>\n",
       "      <td>0.359610</td>\n",
       "    </tr>\n",
       "    <tr>\n",
       "      <th>Average Ratings</th>\n",
       "      <td>0.084830</td>\n",
       "      <td>1.000000</td>\n",
       "      <td>-0.032714</td>\n",
       "      <td>0.298285</td>\n",
       "    </tr>\n",
       "    <tr>\n",
       "      <th>Total Ratings</th>\n",
       "      <td>-0.063443</td>\n",
       "      <td>-0.032714</td>\n",
       "      <td>1.000000</td>\n",
       "      <td>-0.023572</td>\n",
       "    </tr>\n",
       "    <tr>\n",
       "      <th>Price</th>\n",
       "      <td>0.359610</td>\n",
       "      <td>0.298285</td>\n",
       "      <td>-0.023572</td>\n",
       "      <td>1.000000</td>\n",
       "    </tr>\n",
       "  </tbody>\n",
       "</table>\n",
       "</div>"
      ],
      "text/plain": [
       "                    Pages  Average Ratings  Total Ratings     Price\n",
       "Pages            1.000000         0.084830      -0.063443  0.359610\n",
       "Average Ratings  0.084830         1.000000      -0.032714  0.298285\n",
       "Total Ratings   -0.063443        -0.032714       1.000000 -0.023572\n",
       "Price            0.359610         0.298285      -0.023572  1.000000"
      ]
     },
     "execution_count": 50,
     "metadata": {},
     "output_type": "execute_result"
    }
   ],
   "source": [
    "correlation = df.corr(numeric_only=True)\n",
    "correlation"
   ]
  },
  {
   "cell_type": "markdown",
   "id": "98011a4f-abd4-4e71-a8b0-c82b970fa77a",
   "metadata": {},
   "source": [
    "**47. Visualize the correlation between book price and number of pages.**"
   ]
  },
  {
   "cell_type": "code",
   "execution_count": 51,
   "id": "3198f8d1-d650-400d-8857-d6107c9bfb74",
   "metadata": {},
   "outputs": [
    {
     "data": {
      "text/plain": [
       "<Axes: >"
      ]
     },
     "execution_count": 51,
     "metadata": {},
     "output_type": "execute_result"
    },
    {
     "data": {
      "image/png": "[encoded data removed]",
      "text/plain": [
       "<Figure size 640x480 with 2 Axes>"
      ]
     },
     "metadata": {},
     "output_type": "display_data"
    }
   ],
   "source": [
    "sns.heatmap(correlation,annot=True)"
   ]
  },
  {
   "cell_type": "markdown",
   "id": "e71caba9-da7a-4888-9f60-23e65285c367",
   "metadata": {},
   "source": [
    "**48. Plot a histogram for the distribution of ratings**"
   ]
  },
  {
   "cell_type": "code",
   "execution_count": 52,
   "id": "d2189eed-df6a-41c3-9c63-022aabfd19fb",
   "metadata": {},
   "outputs": [
    {
     "data": {
      "image/png": "[encoded data removed]",
      "text/plain": [
       "<Figure size 640x480 with 1 Axes>"
      ]
     },
     "metadata": {},
     "output_type": "display_data"
    }
   ],
   "source": [
    "sns.histplot(df[\"Average Ratings\"],bins=10,kde=True,color=\"green\")\n",
    "plt.show()"
   ]
  },
  {
   "cell_type": "markdown",
   "id": "f61550e6-fc38-4232-b0d4-f2ce2f4c3b5d",
   "metadata": {},
   "source": [
    "**49. Draw a line plot to show average price for each rating level**"
   ]
  },
  {
   "cell_type": "code",
   "execution_count": 53,
   "id": "00795269-7cfa-439f-afcc-007275d93184",
   "metadata": {},
   "outputs": [
    {
     "data": {
      "image/png": "[encoded data removed]",
      "text/plain": [
       "<Figure size 640x480 with 1 Axes>"
      ]
     },
     "metadata": {},
     "output_type": "display_data"
    }
   ],
   "source": [
    "avg_price = df.groupby(\"Average Ratings\")[\"Price\"].mean()\n",
    "avg_price.plot(kind=\"line\",marker='o',color=\"purple\")\n",
    "plt.grid()\n",
    "plt.show()"
   ]
  },
  {
   "cell_type": "markdown",
   "id": "fe89fc1b-4299-4027-8ac7-7fa0747b329f",
   "metadata": {},
   "source": [
    "# Educational Website "
   ]
  },
  {
   "cell_type": "code",
   "execution_count": 54,
   "id": "90440c9f-74d9-4a20-847c-69938eaef584",
   "metadata": {},
   "outputs": [],
   "source": [
    "# Read all CSV files into DataFrames\n",
    "users_df = pd.read_csv(\"users.csv\",parse_dates=['date_of_birth','registration_date'], dayfirst=True)\n",
    "courses_df = pd.read_csv(\"courses.csv\",parse_dates=['created_on','last_updated_on'], dayfirst=True)\n",
    "ratings_df = pd.read_csv(\"ratings.csv\",parse_dates=['first_reviewed_on','last_updated_on'], dayfirst=True)\n",
    "enrollments_df = pd.read_csv(\"enrollments.csv\",parse_dates=['enrollment_date'], dayfirst=True)\n",
    "payments_df = pd.read_csv(\"payments.csv\",parse_dates=['transaction_date'], dayfirst=True)\n",
    "refunds_df = pd.read_csv(\"refunds.csv\",parse_dates=['refund_date'], dayfirst=True)"
   ]
  },
  {
   "cell_type": "code",
   "execution_count": 55,
   "id": "b72b46db-8102-4af7-a1ee-f09a65db172b",
   "metadata": {},
   "outputs": [
    {
     "name": "stdout",
     "output_type": "stream",
     "text": [
      "Users DataFrame columns: ['user_id', 'name', 'date_of_birth', 'email', 'gender', 'category', 'registration_date', 'country', 'last_login_date', 'user_type'] \n",
      "\n",
      "Courses DataFrame columns: ['course_id', 'title', 'category', 'language', 'subtitles', 'price', 'instructor_id', 'length', 'difficulty_level', 'created_on', 'last_updated_on', 'number_of_videos', 'number_of_quizzes', 'view_count', 'average_watch_duration', 'certification_available', 'completion_rate', 'bookmark_count'] \n",
      "\n",
      "Ratings DataFrame columns: ['review_id', 'course_id', 'student_id', 'rating', 'review_text', 'first_reviewed_on', 'last_updated_on', 'helpful_count', 'reported_count'] \n",
      "\n",
      "Enrollments DataFrame columns: ['enrollment_id', 'student_id', 'course_id', 'enrollment_date'] \n",
      "\n",
      "Payments DataFrame columns: ['payment_id', 'enrollment_id', 'discount_percent', 'amount_paid', 'coupon_code', 'payment_method', 'transaction_date', 'transaction_id', 'payment_status'] \n",
      "\n",
      "Refunds DataFrame columns: ['refund_id', 'enrollment_id', 'refund_date', 'refund_reason', 'refund_amount'] \n",
      "\n"
     ]
    }
   ],
   "source": [
    "print(\"Users DataFrame columns:\", users_df.columns.tolist(), \"\\n\")\n",
    "print(\"Courses DataFrame columns:\", courses_df.columns.tolist(), \"\\n\")\n",
    "print(\"Ratings DataFrame columns:\", ratings_df.columns.tolist(), \"\\n\")\n",
    "print(\"Enrollments DataFrame columns:\", enrollments_df.columns.tolist(), \"\\n\")\n",
    "print(\"Payments DataFrame columns:\", payments_df.columns.tolist(), \"\\n\")\n",
    "print(\"Refunds DataFrame columns:\", refunds_df.columns.tolist(), \"\\n\")"
   ]
  },
  {
   "cell_type": "markdown",
   "id": "f51d8e38-eef2-494c-b02e-8fbe68a7802a",
   "metadata": {},
   "source": [
    "**50. How many courses are free and how many courses have a price associated with them?**\n"
   ]
  },
  {
   "cell_type": "code",
   "execution_count": 56,
   "id": "6691350e-09d2-45f0-b80e-6a2e87c7b2dc",
   "metadata": {},
   "outputs": [
    {
     "name": "stdout",
     "output_type": "stream",
     "text": [
      " the free courser are 18, and the paid courses are 45\n"
     ]
    }
   ],
   "source": [
    "free_course = (courses_df['price']==0).sum()\n",
    "paid_courses = (courses_df['price']>0).sum()\n",
    "print(f\" the free courser are {free_course}, and the paid courses are {paid_courses}\")"
   ]
  },
  {
   "cell_type": "markdown",
   "id": "90bf8887-ce11-4d66-b29f-ca29a3e39060",
   "metadata": {},
   "source": [
    "**51. How many courses is each instructor teaching on the platform?**"
   ]
  },
  {
   "cell_type": "code",
   "execution_count": 57,
   "id": "3786fe1f-1354-4917-a2f7-fb5bf1e2cc4f",
   "metadata": {},
   "outputs": [
    {
     "data": {
      "text/plain": [
       "instructor_id\n",
       "457246    6\n",
       "871007    5\n",
       "220585    5\n",
       "668495    4\n",
       "536923    4\n",
       "838186    3\n",
       "767050    3\n",
       "751788    3\n",
       "712134    3\n",
       "582060    3\n",
       "525207    3\n",
       "278667    3\n",
       "204568    2\n",
       "632410    2\n",
       "742878    2\n",
       "288315    2\n",
       "764597    2\n",
       "173468    2\n",
       "424379    1\n",
       "417012    1\n",
       "370558    1\n",
       "364202    1\n",
       "295438    1\n",
       "241479    1\n",
       "Name: course_id, dtype: int64"
      ]
     },
     "execution_count": 57,
     "metadata": {},
     "output_type": "execute_result"
    }
   ],
   "source": [
    "courses_df.groupby(\"instructor_id\")[\"course_id\"].count().sort_values(ascending=False)"
   ]
  },
  {
   "cell_type": "markdown",
   "id": "f46f3e6e-eaf0-475c-b8bf-2e689a4488e5",
   "metadata": {},
   "source": [
    "**52. Which courses are the most popular based on the number of bookmarks?**"
   ]
  },
  {
   "cell_type": "code",
   "execution_count": 58,
   "id": "9d037c46-e013-4340-965e-cf9b741b8471",
   "metadata": {},
   "outputs": [
    {
     "data": {
      "text/plain": [
       "title\n",
       "Genetics: From DNA to Evolution                         485\n",
       "Python Masterclass                                      476\n",
       "Physics Made Simple: Fundamentals to Advanced           458\n",
       "Instructional Design for Online Learning                452\n",
       "Leadership and Strategic Management                     450\n",
       "                                                       ... \n",
       "Gamification in Education                                34\n",
       "Anatomy and Physiology: Understanding the Human Body     34\n",
       "Project Management: From Initiation to Execution         32\n",
       "First Aid and CPR Certification                          32\n",
       "Developing Curriculum for K-12 Education                  4\n",
       "Name: bookmark_count, Length: 63, dtype: int64"
      ]
     },
     "execution_count": 58,
     "metadata": {},
     "output_type": "execute_result"
    }
   ],
   "source": [
    "courses_df.groupby(\"title\")[\"bookmark_count\"].sum().sort_values(ascending=False)"
   ]
  },
  {
   "cell_type": "markdown",
   "id": "95bb6d67-752c-4da2-a644-7e88079b9ee0",
   "metadata": {},
   "source": [
    "**53. How many users are registered in each user category (e.g., Working, Student, Homemaker, Retired)?**"
   ]
  },
  {
   "cell_type": "code",
   "execution_count": 59,
   "id": "25e8461c-bffb-4b76-8a1f-e9741ad0652e",
   "metadata": {},
   "outputs": [
    {
     "data": {
      "text/plain": [
       "category\n",
       "homemaker    744\n",
       "retired      766\n",
       "student      717\n",
       "working      715\n",
       "Name: user_id, dtype: int64"
      ]
     },
     "execution_count": 59,
     "metadata": {},
     "output_type": "execute_result"
    }
   ],
   "source": [
    "merge_df = users_df.merge(courses_df,how=\"left\",on=\"category\")\n",
    "merge_df.groupby(\"category\")[\"user_id\"].count()"
   ]
  },
  {
   "cell_type": "markdown",
   "id": "e93d8e87-8e3d-4852-beef-09df44e39b32",
   "metadata": {},
   "source": [
    "**54. What is the male-to-female ratio among the users?**"
   ]
  },
  {
   "cell_type": "code",
   "execution_count": 60,
   "id": "1fbeb322-7b0f-40d1-afbf-e0cf6a18344f",
   "metadata": {},
   "outputs": [
    {
     "data": {
      "text/plain": [
       "1.520994001713796"
      ]
     },
     "execution_count": 60,
     "metadata": {},
     "output_type": "execute_result"
    }
   ],
   "source": [
    "males = (users_df[\"gender\"]==\"male\").sum()\n",
    "females = (users_df[\"gender\"]==\"female\").sum()\n",
    "ratio = males/females\n",
    "ratio"
   ]
  },
  {
   "cell_type": "markdown",
   "id": "5ee2fa35-21b7-4ce7-9247-8e85a4ce7143",
   "metadata": {},
   "source": [
    "**55. Which courses have the worst completion rates?**\n"
   ]
  },
  {
   "cell_type": "code",
   "execution_count": 61,
   "id": "0c390f44-ec96-48ae-9049-b11a9980f367",
   "metadata": {},
   "outputs": [
    {
     "data": {
      "text/html": [
       "<div>\n",
       "<style scoped>\n",
       "    .dataframe tbody tr th:only-of-type {\n",
       "        vertical-align: middle;\n",
       "    }\n",
       "\n",
       "    .dataframe tbody tr th {\n",
       "        vertical-align: top;\n",
       "    }\n",
       "\n",
       "    .dataframe thead th {\n",
       "        text-align: right;\n",
       "    }\n",
       "</style>\n",
       "<table border=\"1\" class=\"dataframe\">\n",
       "  <thead>\n",
       "    <tr style=\"text-align: right;\">\n",
       "      <th></th>\n",
       "      <th>course_id</th>\n",
       "      <th>title</th>\n",
       "      <th>category</th>\n",
       "      <th>language</th>\n",
       "      <th>subtitles</th>\n",
       "      <th>price</th>\n",
       "      <th>instructor_id</th>\n",
       "      <th>length</th>\n",
       "      <th>difficulty_level</th>\n",
       "      <th>created_on</th>\n",
       "      <th>last_updated_on</th>\n",
       "      <th>number_of_videos</th>\n",
       "      <th>number_of_quizzes</th>\n",
       "      <th>view_count</th>\n",
       "      <th>average_watch_duration</th>\n",
       "      <th>certification_available</th>\n",
       "      <th>completion_rate</th>\n",
       "      <th>bookmark_count</th>\n",
       "    </tr>\n",
       "  </thead>\n",
       "  <tbody>\n",
       "    <tr>\n",
       "      <th>27</th>\n",
       "      <td>27431</td>\n",
       "      <td>Biology: Understanding the Human Body</td>\n",
       "      <td>Science and Mathematics</td>\n",
       "      <td>English</td>\n",
       "      <td>yes</td>\n",
       "      <td>188</td>\n",
       "      <td>751788</td>\n",
       "      <td>10:27</td>\n",
       "      <td>Advanced</td>\n",
       "      <td>2021-04-07</td>\n",
       "      <td>2025-01-02</td>\n",
       "      <td>85</td>\n",
       "      <td>15</td>\n",
       "      <td>9821</td>\n",
       "      <td>01:43</td>\n",
       "      <td>yes</td>\n",
       "      <td>12.52</td>\n",
       "      <td>163</td>\n",
       "    </tr>\n",
       "  </tbody>\n",
       "</table>\n",
       "</div>"
      ],
      "text/plain": [
       "    course_id                                  title                 category  \\\n",
       "27      27431  Biology: Understanding the Human Body  Science and Mathematics   \n",
       "\n",
       "   language subtitles  price  instructor_id length difficulty_level  \\\n",
       "27  English       yes    188         751788  10:27         Advanced   \n",
       "\n",
       "   created_on last_updated_on  number_of_videos  number_of_quizzes  \\\n",
       "27 2021-04-07      2025-01-02                85                 15   \n",
       "\n",
       "    view_count average_watch_duration certification_available  \\\n",
       "27        9821                  01:43                     yes   \n",
       "\n",
       "    completion_rate  bookmark_count  \n",
       "27            12.52             163  "
      ]
     },
     "execution_count": 61,
     "metadata": {},
     "output_type": "execute_result"
    }
   ],
   "source": [
    "courses_df.sort_values(by=\"completion_rate\",ascending=True).head(1)"
   ]
  },
  {
   "cell_type": "markdown",
   "id": "6b6c73ac-fe0e-4dae-ae55-740867883b24",
   "metadata": {},
   "source": [
    "**56. What is the most common rating given by students?**"
   ]
  },
  {
   "cell_type": "code",
   "execution_count": 62,
   "id": "9c64dcb1-0ef5-4fbe-857e-4a4eaec446fd",
   "metadata": {},
   "outputs": [
    {
     "data": {
      "text/plain": [
       "5"
      ]
     },
     "execution_count": 62,
     "metadata": {},
     "output_type": "execute_result"
    }
   ],
   "source": [
    "comman_rating = ratings_df[\"rating\"].mode()[0]\n",
    "comman_rating"
   ]
  },
  {
   "cell_type": "markdown",
   "id": "a5b7a13d-ac53-4f67-973d-b219f08ed006",
   "metadata": {},
   "source": [
    "**57. How many unique users are enrolled in at least one course?**"
   ]
  },
  {
   "cell_type": "code",
   "execution_count": 63,
   "id": "a2d683b0-4aca-4ed1-80f8-81df5118a2fc",
   "metadata": {},
   "outputs": [
    {
     "data": {
      "text/plain": [
       "enrollment_id    277\n",
       "course_id         45\n",
       "dtype: int64"
      ]
     },
     "execution_count": 63,
     "metadata": {},
     "output_type": "execute_result"
    }
   ],
   "source": [
    "enrollments_df[[\"enrollment_id\",\"course_id\"]].nunique()"
   ]
  },
  {
   "cell_type": "markdown",
   "id": "7d172d1f-e280-4950-8d5c-d121782c431e",
   "metadata": {},
   "source": [
    "**58. How many users are enrolled in multiple courses?**"
   ]
  },
  {
   "cell_type": "code",
   "execution_count": 64,
   "id": "2f1548b7-3cb7-46a9-bf49-eac23a9489e3",
   "metadata": {},
   "outputs": [
    {
     "name": "stdout",
     "output_type": "stream",
     "text": [
      "the numeber of user enrolled in multiple courses is  14\n"
     ]
    }
   ],
   "source": [
    "user_course_count = enrollments_df.groupby(\"student_id\")[\"course_id\"].nunique()\n",
    "multi_course_count = user_course_count[user_course_count>1]\n",
    "print(f\"the numeber of user enrolled in multiple courses is  {multi_course_count.count()}\")\n",
    "\n"
   ]
  },
  {
   "cell_type": "markdown",
   "id": "e4033207-0971-4061-8e24-255ddb04a82c",
   "metadata": {},
   "source": [
    "**59. Which 5 courses have the most enrollments?**"
   ]
  },
  {
   "cell_type": "code",
   "execution_count": 65,
   "id": "02da48fc-64f8-4ab9-8625-33908b938d0d",
   "metadata": {},
   "outputs": [
    {
     "data": {
      "text/plain": [
       "course_id\n",
       "76064    20\n",
       "64796    19\n",
       "92956    18\n",
       "79177    18\n",
       "13258    15\n",
       "Name: count, dtype: int64"
      ]
     },
     "execution_count": 65,
     "metadata": {},
     "output_type": "execute_result"
    }
   ],
   "source": [
    "top_5_course = enrollments_df[\"course_id\"].value_counts().head()\n",
    "top_5_course"
   ]
  },
  {
   "cell_type": "markdown",
   "id": "ce042503-0bfa-4bc9-9bcd-70c7132bf47b",
   "metadata": {},
   "source": [
    "**60. Find the total revenue generated from successful payments.**"
   ]
  },
  {
   "cell_type": "code",
   "execution_count": 66,
   "id": "5cc591b1-9634-48f1-a975-0010517ae822",
   "metadata": {},
   "outputs": [
    {
     "name": "stdout",
     "output_type": "stream",
     "text": [
      "the Total Revenue is 4009.0\n"
     ]
    }
   ],
   "source": [
    "total_revenue = payments_df[\"amount_paid\"].sum()\n",
    "print(f\"the Total Revenue is {total_revenue}\")"
   ]
  },
  {
   "cell_type": "markdown",
   "id": "59242b70-2f9c-4879-8d3e-e307b322e388",
   "metadata": {},
   "source": [
    "**61. What is the average discount percentage applied across all discounted payments?**"
   ]
  },
  {
   "cell_type": "code",
   "execution_count": 67,
   "id": "8a363b11-22fc-44ac-8151-8eb71a75e8a8",
   "metadata": {},
   "outputs": [
    {
     "data": {
      "text/plain": [
       "payment_method\n",
       "PayPal    12.000000\n",
       "UPI       13.947368\n",
       "card      14.545455\n",
       "Name: discount_percent, dtype: float64"
      ]
     },
     "execution_count": 67,
     "metadata": {},
     "output_type": "execute_result"
    }
   ],
   "source": [
    "avg_discount = payments_df[\"discount_percent\"].mean()\n",
    "payments_df.groupby(\"payment_method\")[\"discount_percent\"].mean()"
   ]
  },
  {
   "cell_type": "markdown",
   "id": "f304e62c-c4e5-4b4e-bcf8-46874e55e802",
   "metadata": {},
   "source": [
    "**62. Find top 3 countries with the highest number of students**"
   ]
  },
  {
   "cell_type": "code",
   "execution_count": 68,
   "id": "a151afa6-e9fd-4061-a744-11f52c223127",
   "metadata": {},
   "outputs": [
    {
     "data": {
      "text/plain": [
       "country\n",
       "India    287\n",
       "US       202\n",
       "China    119\n",
       "Name: count, dtype: int64"
      ]
     },
     "execution_count": 68,
     "metadata": {},
     "output_type": "execute_result"
    }
   ],
   "source": [
    "student_df = users_df[users_df[\"category\"]==\"student\"]\n",
    "student_df[\"country\"].value_counts().head(3)"
   ]
  },
  {
   "cell_type": "markdown",
   "id": "57a31eba-0c40-461b-94c8-8c6440490a8a",
   "metadata": {},
   "source": [
    "**63. What is the most common reasons for refunds?**"
   ]
  },
  {
   "cell_type": "code",
   "execution_count": 69,
   "id": "64602ac8-149b-40c7-831f-60858ddc9b7f",
   "metadata": {},
   "outputs": [
    {
     "data": {
      "text/plain": [
       "0    Course content not satisfactory\n",
       "1                Enrolled by mistake\n",
       "Name: refund_reason, dtype: object"
      ]
     },
     "execution_count": 69,
     "metadata": {},
     "output_type": "execute_result"
    }
   ],
   "source": [
    "refunds_df[\"refund_reason\"].mode()"
   ]
  },
  {
   "cell_type": "markdown",
   "id": "656f8f5a-f886-459e-8873-9155cb0fb4ca",
   "metadata": {},
   "source": [
    "**64. Add an age column to the users table and then calculate average age of the students on the website**"
   ]
  },
  {
   "cell_type": "code",
   "execution_count": 70,
   "id": "e3f6c46f-934a-4a92-bad9-46a88cb47b2a",
   "metadata": {},
   "outputs": [
    {
     "name": "stdout",
     "output_type": "stream",
     "text": [
      "the average age of the students is 42\n"
     ]
    }
   ],
   "source": [
    "from datetime import datetime\n",
    "current_date = datetime.today().year\n",
    "users_df[\"age\"] = current_date - users_df[\"date_of_birth\"].dt.year\n",
    "avg_age = users_df[\"age\"].mean()\n",
    "print(f\"the average age of the students is {int(avg_age)}\")\n"
   ]
  },
  {
   "cell_type": "markdown",
   "id": "ae6e64fe-f93d-49bc-b96c-c11360c247d6",
   "metadata": {},
   "source": [
    "**65. Find average age of the students in each course**"
   ]
  },
  {
   "cell_type": "code",
   "execution_count": 71,
   "id": "d5591a7c-14a4-4915-82b6-063eb15261fa",
   "metadata": {},
   "outputs": [
    {
     "data": {
      "text/html": [
       "<div>\n",
       "<style scoped>\n",
       "    .dataframe tbody tr th:only-of-type {\n",
       "        vertical-align: middle;\n",
       "    }\n",
       "\n",
       "    .dataframe tbody tr th {\n",
       "        vertical-align: top;\n",
       "    }\n",
       "\n",
       "    .dataframe thead th {\n",
       "        text-align: right;\n",
       "    }\n",
       "</style>\n",
       "<table border=\"1\" class=\"dataframe\">\n",
       "  <thead>\n",
       "    <tr style=\"text-align: right;\">\n",
       "      <th></th>\n",
       "      <th>course_id</th>\n",
       "      <th>age</th>\n",
       "    </tr>\n",
       "  </thead>\n",
       "  <tbody>\n",
       "    <tr>\n",
       "      <th>0</th>\n",
       "      <td>13258.0</td>\n",
       "      <td>42.600000</td>\n",
       "    </tr>\n",
       "    <tr>\n",
       "      <th>1</th>\n",
       "      <td>18426.0</td>\n",
       "      <td>40.769231</td>\n",
       "    </tr>\n",
       "    <tr>\n",
       "      <th>2</th>\n",
       "      <td>20195.0</td>\n",
       "      <td>52.000000</td>\n",
       "    </tr>\n",
       "    <tr>\n",
       "      <th>3</th>\n",
       "      <td>21108.0</td>\n",
       "      <td>38.714286</td>\n",
       "    </tr>\n",
       "    <tr>\n",
       "      <th>4</th>\n",
       "      <td>21248.0</td>\n",
       "      <td>39.500000</td>\n",
       "    </tr>\n",
       "    <tr>\n",
       "      <th>5</th>\n",
       "      <td>22005.0</td>\n",
       "      <td>70.000000</td>\n",
       "    </tr>\n",
       "    <tr>\n",
       "      <th>6</th>\n",
       "      <td>27385.0</td>\n",
       "      <td>47.500000</td>\n",
       "    </tr>\n",
       "    <tr>\n",
       "      <th>7</th>\n",
       "      <td>27431.0</td>\n",
       "      <td>16.500000</td>\n",
       "    </tr>\n",
       "    <tr>\n",
       "      <th>8</th>\n",
       "      <td>30371.0</td>\n",
       "      <td>42.533333</td>\n",
       "    </tr>\n",
       "    <tr>\n",
       "      <th>9</th>\n",
       "      <td>30790.0</td>\n",
       "      <td>48.000000</td>\n",
       "    </tr>\n",
       "    <tr>\n",
       "      <th>10</th>\n",
       "      <td>31874.0</td>\n",
       "      <td>35.000000</td>\n",
       "    </tr>\n",
       "    <tr>\n",
       "      <th>11</th>\n",
       "      <td>32369.0</td>\n",
       "      <td>39.375000</td>\n",
       "    </tr>\n",
       "    <tr>\n",
       "      <th>12</th>\n",
       "      <td>33057.0</td>\n",
       "      <td>43.166667</td>\n",
       "    </tr>\n",
       "    <tr>\n",
       "      <th>13</th>\n",
       "      <td>39766.0</td>\n",
       "      <td>24.000000</td>\n",
       "    </tr>\n",
       "    <tr>\n",
       "      <th>14</th>\n",
       "      <td>45770.0</td>\n",
       "      <td>37.200000</td>\n",
       "    </tr>\n",
       "    <tr>\n",
       "      <th>15</th>\n",
       "      <td>48950.0</td>\n",
       "      <td>80.000000</td>\n",
       "    </tr>\n",
       "    <tr>\n",
       "      <th>16</th>\n",
       "      <td>49963.0</td>\n",
       "      <td>30.307692</td>\n",
       "    </tr>\n",
       "    <tr>\n",
       "      <th>17</th>\n",
       "      <td>51293.0</td>\n",
       "      <td>48.090909</td>\n",
       "    </tr>\n",
       "    <tr>\n",
       "      <th>18</th>\n",
       "      <td>54046.0</td>\n",
       "      <td>44.000000</td>\n",
       "    </tr>\n",
       "    <tr>\n",
       "      <th>19</th>\n",
       "      <td>54145.0</td>\n",
       "      <td>48.444444</td>\n",
       "    </tr>\n",
       "    <tr>\n",
       "      <th>20</th>\n",
       "      <td>56446.0</td>\n",
       "      <td>42.750000</td>\n",
       "    </tr>\n",
       "    <tr>\n",
       "      <th>21</th>\n",
       "      <td>56799.0</td>\n",
       "      <td>43.500000</td>\n",
       "    </tr>\n",
       "    <tr>\n",
       "      <th>22</th>\n",
       "      <td>59716.0</td>\n",
       "      <td>18.000000</td>\n",
       "    </tr>\n",
       "    <tr>\n",
       "      <th>23</th>\n",
       "      <td>62276.0</td>\n",
       "      <td>35.000000</td>\n",
       "    </tr>\n",
       "    <tr>\n",
       "      <th>24</th>\n",
       "      <td>62660.0</td>\n",
       "      <td>31.000000</td>\n",
       "    </tr>\n",
       "    <tr>\n",
       "      <th>25</th>\n",
       "      <td>64561.0</td>\n",
       "      <td>67.666667</td>\n",
       "    </tr>\n",
       "    <tr>\n",
       "      <th>26</th>\n",
       "      <td>64796.0</td>\n",
       "      <td>40.631579</td>\n",
       "    </tr>\n",
       "    <tr>\n",
       "      <th>27</th>\n",
       "      <td>65005.0</td>\n",
       "      <td>34.125000</td>\n",
       "    </tr>\n",
       "    <tr>\n",
       "      <th>28</th>\n",
       "      <td>67194.0</td>\n",
       "      <td>36.000000</td>\n",
       "    </tr>\n",
       "    <tr>\n",
       "      <th>29</th>\n",
       "      <td>72387.0</td>\n",
       "      <td>63.000000</td>\n",
       "    </tr>\n",
       "    <tr>\n",
       "      <th>30</th>\n",
       "      <td>76064.0</td>\n",
       "      <td>43.300000</td>\n",
       "    </tr>\n",
       "    <tr>\n",
       "      <th>31</th>\n",
       "      <td>78724.0</td>\n",
       "      <td>50.250000</td>\n",
       "    </tr>\n",
       "    <tr>\n",
       "      <th>32</th>\n",
       "      <td>79177.0</td>\n",
       "      <td>40.888889</td>\n",
       "    </tr>\n",
       "    <tr>\n",
       "      <th>33</th>\n",
       "      <td>85886.0</td>\n",
       "      <td>27.000000</td>\n",
       "    </tr>\n",
       "    <tr>\n",
       "      <th>34</th>\n",
       "      <td>86558.0</td>\n",
       "      <td>49.000000</td>\n",
       "    </tr>\n",
       "    <tr>\n",
       "      <th>35</th>\n",
       "      <td>86724.0</td>\n",
       "      <td>48.000000</td>\n",
       "    </tr>\n",
       "    <tr>\n",
       "      <th>36</th>\n",
       "      <td>89472.0</td>\n",
       "      <td>25.000000</td>\n",
       "    </tr>\n",
       "    <tr>\n",
       "      <th>37</th>\n",
       "      <td>92956.0</td>\n",
       "      <td>50.500000</td>\n",
       "    </tr>\n",
       "    <tr>\n",
       "      <th>38</th>\n",
       "      <td>93178.0</td>\n",
       "      <td>39.000000</td>\n",
       "    </tr>\n",
       "    <tr>\n",
       "      <th>39</th>\n",
       "      <td>93568.0</td>\n",
       "      <td>55.000000</td>\n",
       "    </tr>\n",
       "    <tr>\n",
       "      <th>40</th>\n",
       "      <td>93619.0</td>\n",
       "      <td>44.133333</td>\n",
       "    </tr>\n",
       "    <tr>\n",
       "      <th>41</th>\n",
       "      <td>96323.0</td>\n",
       "      <td>54.000000</td>\n",
       "    </tr>\n",
       "    <tr>\n",
       "      <th>42</th>\n",
       "      <td>97039.0</td>\n",
       "      <td>41.833333</td>\n",
       "    </tr>\n",
       "    <tr>\n",
       "      <th>43</th>\n",
       "      <td>97988.0</td>\n",
       "      <td>41.733333</td>\n",
       "    </tr>\n",
       "    <tr>\n",
       "      <th>44</th>\n",
       "      <td>99133.0</td>\n",
       "      <td>51.000000</td>\n",
       "    </tr>\n",
       "  </tbody>\n",
       "</table>\n",
       "</div>"
      ],
      "text/plain": [
       "    course_id        age\n",
       "0     13258.0  42.600000\n",
       "1     18426.0  40.769231\n",
       "2     20195.0  52.000000\n",
       "3     21108.0  38.714286\n",
       "4     21248.0  39.500000\n",
       "5     22005.0  70.000000\n",
       "6     27385.0  47.500000\n",
       "7     27431.0  16.500000\n",
       "8     30371.0  42.533333\n",
       "9     30790.0  48.000000\n",
       "10    31874.0  35.000000\n",
       "11    32369.0  39.375000\n",
       "12    33057.0  43.166667\n",
       "13    39766.0  24.000000\n",
       "14    45770.0  37.200000\n",
       "15    48950.0  80.000000\n",
       "16    49963.0  30.307692\n",
       "17    51293.0  48.090909\n",
       "18    54046.0  44.000000\n",
       "19    54145.0  48.444444\n",
       "20    56446.0  42.750000\n",
       "21    56799.0  43.500000\n",
       "22    59716.0  18.000000\n",
       "23    62276.0  35.000000\n",
       "24    62660.0  31.000000\n",
       "25    64561.0  67.666667\n",
       "26    64796.0  40.631579\n",
       "27    65005.0  34.125000\n",
       "28    67194.0  36.000000\n",
       "29    72387.0  63.000000\n",
       "30    76064.0  43.300000\n",
       "31    78724.0  50.250000\n",
       "32    79177.0  40.888889\n",
       "33    85886.0  27.000000\n",
       "34    86558.0  49.000000\n",
       "35    86724.0  48.000000\n",
       "36    89472.0  25.000000\n",
       "37    92956.0  50.500000\n",
       "38    93178.0  39.000000\n",
       "39    93568.0  55.000000\n",
       "40    93619.0  44.133333\n",
       "41    96323.0  54.000000\n",
       "42    97039.0  41.833333\n",
       "43    97988.0  41.733333\n",
       "44    99133.0  51.000000"
      ]
     },
     "execution_count": 71,
     "metadata": {},
     "output_type": "execute_result"
    }
   ],
   "source": [
    "merge_df1 = pd.merge(users_df,enrollments_df,left_on=\"user_id\",right_on=\"student_id\",how=\"left\")\n",
    "merge_df1.groupby(\"course_id\")[\"age\"].mean().reset_index()"
   ]
  },
  {
   "cell_type": "markdown",
   "id": "b09eba25-f087-44cd-90df-bd95a6e750f7",
   "metadata": {},
   "source": [
    "**66. Find average age of the students in each course category**"
   ]
  },
  {
   "cell_type": "code",
   "execution_count": 72,
   "id": "ebd0030d-7ed5-4a04-9018-cac75bd60e25",
   "metadata": {},
   "outputs": [
    {
     "data": {
      "text/plain": [
       "category\n",
       "Arts and Design               44.550000\n",
       "Business and Management       43.500000\n",
       "Education                     40.366197\n",
       "Health                        43.971429\n",
       "Personal Development          65.500000\n",
       "Science and Mathematics       40.767442\n",
       "Technology and Programming    42.333333\n",
       "Name: age, dtype: float64"
      ]
     },
     "execution_count": 72,
     "metadata": {},
     "output_type": "execute_result"
    }
   ],
   "source": [
    "ave_age_per_catgory = enrollments_df.merge(users_df[[\"user_id\",\"age\"]],left_on=\"student_id\",right_on=\"user_id\").merge(courses_df[[\"course_id\",\"category\"]],on=\"course_id\").groupby(\"category\")[\"age\"].mean()\n",
    "ave_age_per_catgory"
   ]
  },
  {
   "cell_type": "markdown",
   "id": "ece4178a-ff3b-4615-bd88-e4e2a94a3da4",
   "metadata": {},
   "source": [
    "**67. Calculate the average age of users for each user category (e.g., Working, Student, Homemaker, Retired)**\n"
   ]
  },
  {
   "cell_type": "code",
   "execution_count": 73,
   "id": "be4d2909-0880-43a6-9f6e-f0628b09395e",
   "metadata": {},
   "outputs": [
    {
     "data": {
      "text/plain": [
       "category\n",
       "homemaker    42.822581\n",
       "retired      42.556136\n",
       "student      42.043236\n",
       "working      42.958042\n",
       "Name: age, dtype: float64"
      ]
     },
     "execution_count": 73,
     "metadata": {},
     "output_type": "execute_result"
    }
   ],
   "source": [
    "users_df.groupby(\"category\")[\"age\"].mean()"
   ]
  },
  {
   "cell_type": "markdown",
   "id": "f7782bb7-086f-4364-9102-d98c91dc21f7",
   "metadata": {},
   "source": [
    "**68. Plot the age distribution of all the users**"
   ]
  },
  {
   "cell_type": "code",
   "execution_count": 74,
   "id": "1e22d651-8188-45d6-bac3-ead0281d20c6",
   "metadata": {},
   "outputs": [
    {
     "data": {
      "image/png": "[encoded data removed]",
      "text/plain": [
       "<Figure size 640x480 with 1 Axes>"
      ]
     },
     "metadata": {},
     "output_type": "display_data"
    }
   ],
   "source": [
    "import seaborn as sns\n",
    "sns.histplot(users_df[\"age\"],kde=True)\n",
    "plt.show()"
   ]
  },
  {
   "cell_type": "markdown",
   "id": "068f71bd-8074-47b5-bf9b-cb8d2dc7f7b7",
   "metadata": {},
   "source": [
    "**69. Plot the gender distribution to understand the gender breakdown of users**"
   ]
  },
  {
   "cell_type": "code",
   "execution_count": 75,
   "id": "2ffeea07-cf10-4386-b822-f9da26b15b81",
   "metadata": {},
   "outputs": [
    {
     "data": {
      "image/png": "[encoded data removed]",
      "text/plain": [
       "<Figure size 640x480 with 1 Axes>"
      ]
     },
     "metadata": {},
     "output_type": "display_data"
    }
   ],
   "source": [
    "sns.histplot(users_df[\"gender\"])\n",
    "plt.show()"
   ]
  },
  {
   "cell_type": "markdown",
   "id": "0dbe9963-a52f-4a10-a5f9-950f0a6c408a",
   "metadata": {},
   "source": [
    "**70. Plot the geographic distribution of users (based on country)**"
   ]
  },
  {
   "cell_type": "code",
   "execution_count": 76,
   "id": "2daffd39-29f5-4f52-b114-97ab4104ed51",
   "metadata": {},
   "outputs": [
    {
     "name": "stderr",
     "output_type": "stream",
     "text": [
      "C:\\Users\\prash\\AppData\\Local\\Temp\\ipykernel_10164\\3695258807.py:2: FutureWarning: \n",
      "\n",
      "Passing `palette` without assigning `hue` is deprecated and will be removed in v0.14.0. Assign the `x` variable to `hue` and set `legend=False` for the same effect.\n",
      "\n",
      "  sns.barplot(x=country_count.index,y=country_count.values,palette=\"viridis\")\n"
     ]
    },
    {
     "data": {
      "image/png": "[encoded data removed]",
      "text/plain": [
       "<Figure size 640x480 with 1 Axes>"
      ]
     },
     "metadata": {},
     "output_type": "display_data"
    }
   ],
   "source": [
    "country_count = users_df[\"country\"].value_counts()\n",
    "sns.barplot(x=country_count.index,y=country_count.values,palette=\"viridis\")\n",
    "plt.show()"
   ]
  },
  {
   "cell_type": "markdown",
   "id": "5eafdc18-09df-4496-b774-5debc2ab1de8",
   "metadata": {},
   "source": [
    "**71. Show how the age distribution varies for different user types.**"
   ]
  },
  {
   "cell_type": "code",
   "execution_count": 77,
   "id": "aa87d632-f9f5-4275-8859-5f13d74e7142",
   "metadata": {},
   "outputs": [
    {
     "data": {
      "image/png": "[encoded data removed]",
      "text/plain": [
       "<Figure size 640x480 with 1 Axes>"
      ]
     },
     "metadata": {},
     "output_type": "display_data"
    }
   ],
   "source": [
    "sns.violinplot(x=users_df[\"category\"],y=users_df[\"age\"])\n",
    "plt.show()"
   ]
  },
  {
   "cell_type": "markdown",
   "id": "8a92cc37-71c7-487a-8f51-e68d443cd34f",
   "metadata": {},
   "source": [
    "**72. Find the top 5 most popular courses based on view counts**"
   ]
  },
  {
   "cell_type": "code",
   "execution_count": 78,
   "id": "a6d2f69d-115a-44cd-9a7c-24307744fdc6",
   "metadata": {},
   "outputs": [
    {
     "data": {
      "text/plain": [
       "title\n",
       "Full-Stack Web Development Bootcamp      9989\n",
       "Biology: Understanding the Human Body    9821\n",
       "Mastering React: Advanced Concepts       9445\n",
       "Marine Biology: Life Under the Sea       9320\n",
       "Genetics: From DNA to Evolution          9230\n",
       "Name: view_count, dtype: int64"
      ]
     },
     "execution_count": 78,
     "metadata": {},
     "output_type": "execute_result"
    }
   ],
   "source": [
    "courses_df.head()\n",
    "courses_df.groupby(\"title\")[\"view_count\"].sum().sort_values(ascending=False).head(5)"
   ]
  },
  {
   "cell_type": "markdown",
   "id": "40e76cf7-edd7-4c59-a028-5c0bdf85e997",
   "metadata": {},
   "source": [
    "**73. Find the top 2 popular courses in each category based on view counts**"
   ]
  },
  {
   "cell_type": "code",
   "execution_count": 79,
   "id": "a568e800-fe1a-41a7-9f0b-baecee4da59b",
   "metadata": {},
   "outputs": [
    {
     "data": {
      "text/plain": [
       "category\n",
       "Science and Mathematics       76855\n",
       "Technology and Programming    71155\n",
       "Name: view_count, dtype: int64"
      ]
     },
     "execution_count": 79,
     "metadata": {},
     "output_type": "execute_result"
    }
   ],
   "source": [
    "courses_df.groupby(\"category\")[\"view_count\"].sum().sort_values(ascending=False).head(2)"
   ]
  },
  {
   "cell_type": "markdown",
   "id": "84df4554-ffdd-401f-b297-f6d64795a0f7",
   "metadata": {},
   "source": [
    "**74. What is the average course duration per category.**"
   ]
  },
  {
   "cell_type": "code",
   "execution_count": 80,
   "id": "2e87c094-29e8-42dd-a2ac-6d00a61cdc2b",
   "metadata": {},
   "outputs": [
    {
     "data": {
      "text/plain": [
       "category\n",
       "Arts and Design                7.852000\n",
       "Business and Management        6.894000\n",
       "Education                      8.081818\n",
       "Health                        11.732000\n",
       "Personal Development           9.886000\n",
       "Science and Mathematics       11.333077\n",
       "Technology and Programming    12.294286\n",
       "Name: length, dtype: float64"
      ]
     },
     "execution_count": 80,
     "metadata": {},
     "output_type": "execute_result"
    }
   ],
   "source": [
    "courses_df[\"length\"] = courses_df[\"length\"].str.replace(\":\",\".\")\n",
    "courses_df[\"length\"] = courses_df[\"length\"].astype(float)\n",
    "courses_df.groupby(\"category\")[\"length\"].mean()"
   ]
  },
  {
   "cell_type": "markdown",
   "id": "bf7f2b8c-1f7a-41f6-8222-204078e382d9",
   "metadata": {},
   "source": [
    "**75. Find the top 5 highest revenue generating courses**"
   ]
  },
  {
   "cell_type": "code",
   "execution_count": 81,
   "id": "8787f7ab-01f5-4aba-802f-9078e4c5cb7b",
   "metadata": {},
   "outputs": [
    {
     "data": {
      "text/plain": [
       "course_id\n",
       "64561    345.80\n",
       "78724    335.80\n",
       "56446    295.25\n",
       "21248    278.00\n",
       "62660    249.00\n",
       "Name: amount_paid, dtype: float64"
      ]
     },
     "execution_count": 81,
     "metadata": {},
     "output_type": "execute_result"
    }
   ],
   "source": [
    "payments_df.head()\n",
    "revenue = payments_df.merge(enrollments_df,on=\"enrollment_id\")\n",
    "revenue.groupby(\"course_id\")[\"amount_paid\"].sum().sort_values(ascending=False).head()"
   ]
  },
  {
   "cell_type": "markdown",
   "id": "dcf7cd0b-91ef-427d-974b-f052db7686ec",
   "metadata": {},
   "source": [
    "**76. What is the average transaction amount for each payment method.**"
   ]
  },
  {
   "cell_type": "code",
   "execution_count": 82,
   "id": "05b1a6ae-4dee-45ee-ad1b-1e0595411c46",
   "metadata": {},
   "outputs": [
    {
     "data": {
      "text/plain": [
       "payment_method\n",
       "PayPal    81.346667\n",
       "UPI       89.202632\n",
       "card      99.450000\n",
       "Name: amount_paid, dtype: float64"
      ]
     },
     "execution_count": 82,
     "metadata": {},
     "output_type": "execute_result"
    }
   ],
   "source": [
    "payments_df.groupby(\"payment_method\")[\"amount_paid\"].mean()"
   ]
  },
  {
   "cell_type": "markdown",
   "id": "00e2a40c-b263-4a8e-a7a8-d411ad6a2d9d",
   "metadata": {},
   "source": [
    "**77. Calulate the average rating for each course and add a column average_rating in courses_df**"
   ]
  },
  {
   "cell_type": "code",
   "execution_count": 83,
   "id": "a410abd0-be08-4fed-84ca-1ce40ec6f852",
   "metadata": {},
   "outputs": [
    {
     "data": {
      "text/html": [
       "<div>\n",
       "<style scoped>\n",
       "    .dataframe tbody tr th:only-of-type {\n",
       "        vertical-align: middle;\n",
       "    }\n",
       "\n",
       "    .dataframe tbody tr th {\n",
       "        vertical-align: top;\n",
       "    }\n",
       "\n",
       "    .dataframe thead th {\n",
       "        text-align: right;\n",
       "    }\n",
       "</style>\n",
       "<table border=\"1\" class=\"dataframe\">\n",
       "  <thead>\n",
       "    <tr style=\"text-align: right;\">\n",
       "      <th></th>\n",
       "      <th>course_id</th>\n",
       "      <th>title</th>\n",
       "      <th>category</th>\n",
       "      <th>language</th>\n",
       "      <th>subtitles</th>\n",
       "      <th>price</th>\n",
       "      <th>instructor_id</th>\n",
       "      <th>length</th>\n",
       "      <th>difficulty_level</th>\n",
       "      <th>created_on</th>\n",
       "      <th>last_updated_on</th>\n",
       "      <th>number_of_videos</th>\n",
       "      <th>number_of_quizzes</th>\n",
       "      <th>view_count</th>\n",
       "      <th>average_watch_duration</th>\n",
       "      <th>certification_available</th>\n",
       "      <th>completion_rate</th>\n",
       "      <th>bookmark_count</th>\n",
       "      <th>Average Ratings</th>\n",
       "    </tr>\n",
       "  </thead>\n",
       "  <tbody>\n",
       "    <tr>\n",
       "      <th>0</th>\n",
       "      <td>54145</td>\n",
       "      <td>Data structures through C++</td>\n",
       "      <td>Technology and Programming</td>\n",
       "      <td>English</td>\n",
       "      <td>no</td>\n",
       "      <td>0</td>\n",
       "      <td>668495</td>\n",
       "      <td>10.16</td>\n",
       "      <td>Beginner</td>\n",
       "      <td>2020-11-18</td>\n",
       "      <td>2025-01-09</td>\n",
       "      <td>28</td>\n",
       "      <td>9</td>\n",
       "      <td>514</td>\n",
       "      <td>00:41</td>\n",
       "      <td>yes</td>\n",
       "      <td>43.71</td>\n",
       "      <td>188</td>\n",
       "      <td>4.0</td>\n",
       "    </tr>\n",
       "    <tr>\n",
       "      <th>1</th>\n",
       "      <td>45770</td>\n",
       "      <td>Advanced Mathematics for Engineers</td>\n",
       "      <td>Science and Mathematics</td>\n",
       "      <td>English</td>\n",
       "      <td>yes</td>\n",
       "      <td>0</td>\n",
       "      <td>767050</td>\n",
       "      <td>20.28</td>\n",
       "      <td>Intermediate</td>\n",
       "      <td>2020-10-04</td>\n",
       "      <td>2025-01-07</td>\n",
       "      <td>23</td>\n",
       "      <td>8</td>\n",
       "      <td>7570</td>\n",
       "      <td>08:12</td>\n",
       "      <td>no</td>\n",
       "      <td>46.27</td>\n",
       "      <td>83</td>\n",
       "      <td>NaN</td>\n",
       "    </tr>\n",
       "    <tr>\n",
       "      <th>2</th>\n",
       "      <td>33057</td>\n",
       "      <td>Advanced Data structures through Python</td>\n",
       "      <td>Technology and Programming</td>\n",
       "      <td>Hindi</td>\n",
       "      <td>yes</td>\n",
       "      <td>0</td>\n",
       "      <td>220585</td>\n",
       "      <td>11.35</td>\n",
       "      <td>Intermediate</td>\n",
       "      <td>2021-11-16</td>\n",
       "      <td>2025-01-14</td>\n",
       "      <td>57</td>\n",
       "      <td>4</td>\n",
       "      <td>5265</td>\n",
       "      <td>12:35</td>\n",
       "      <td>yes</td>\n",
       "      <td>44.74</td>\n",
       "      <td>165</td>\n",
       "      <td>4.4</td>\n",
       "    </tr>\n",
       "    <tr>\n",
       "      <th>3</th>\n",
       "      <td>64796</td>\n",
       "      <td>First Aid and CPR Certification</td>\n",
       "      <td>Health</td>\n",
       "      <td>English</td>\n",
       "      <td>yes</td>\n",
       "      <td>0</td>\n",
       "      <td>871007</td>\n",
       "      <td>10.20</td>\n",
       "      <td>Advanced</td>\n",
       "      <td>2020-08-24</td>\n",
       "      <td>2025-01-08</td>\n",
       "      <td>82</td>\n",
       "      <td>1</td>\n",
       "      <td>8483</td>\n",
       "      <td>01:46</td>\n",
       "      <td>no</td>\n",
       "      <td>20.55</td>\n",
       "      <td>32</td>\n",
       "      <td>4.0</td>\n",
       "    </tr>\n",
       "    <tr>\n",
       "      <th>4</th>\n",
       "      <td>51293</td>\n",
       "      <td>Managing Diabetes and Chronic Diseases</td>\n",
       "      <td>Health</td>\n",
       "      <td>English</td>\n",
       "      <td>yes</td>\n",
       "      <td>0</td>\n",
       "      <td>278667</td>\n",
       "      <td>8.05</td>\n",
       "      <td>Intermediate</td>\n",
       "      <td>2020-03-07</td>\n",
       "      <td>2025-01-15</td>\n",
       "      <td>55</td>\n",
       "      <td>10</td>\n",
       "      <td>1429</td>\n",
       "      <td>13:21</td>\n",
       "      <td>no</td>\n",
       "      <td>49.40</td>\n",
       "      <td>279</td>\n",
       "      <td>3.4</td>\n",
       "    </tr>\n",
       "  </tbody>\n",
       "</table>\n",
       "</div>"
      ],
      "text/plain": [
       "   course_id                                    title  \\\n",
       "0      54145              Data structures through C++   \n",
       "1      45770       Advanced Mathematics for Engineers   \n",
       "2      33057  Advanced Data structures through Python   \n",
       "3      64796          First Aid and CPR Certification   \n",
       "4      51293   Managing Diabetes and Chronic Diseases   \n",
       "\n",
       "                     category language subtitles  price  instructor_id  \\\n",
       "0  Technology and Programming  English        no      0         668495   \n",
       "1     Science and Mathematics  English       yes      0         767050   \n",
       "2  Technology and Programming    Hindi       yes      0         220585   \n",
       "3                      Health  English       yes      0         871007   \n",
       "4                      Health  English       yes      0         278667   \n",
       "\n",
       "   length difficulty_level created_on last_updated_on  number_of_videos  \\\n",
       "0   10.16         Beginner 2020-11-18      2025-01-09                28   \n",
       "1   20.28     Intermediate 2020-10-04      2025-01-07                23   \n",
       "2   11.35     Intermediate 2021-11-16      2025-01-14                57   \n",
       "3   10.20         Advanced 2020-08-24      2025-01-08                82   \n",
       "4    8.05     Intermediate 2020-03-07      2025-01-15                55   \n",
       "\n",
       "   number_of_quizzes  view_count average_watch_duration  \\\n",
       "0                  9         514                  00:41   \n",
       "1                  8        7570                  08:12   \n",
       "2                  4        5265                  12:35   \n",
       "3                  1        8483                  01:46   \n",
       "4                 10        1429                  13:21   \n",
       "\n",
       "  certification_available  completion_rate  bookmark_count  Average Ratings  \n",
       "0                     yes            43.71             188              4.0  \n",
       "1                      no            46.27              83              NaN  \n",
       "2                     yes            44.74             165              4.4  \n",
       "3                      no            20.55              32              4.0  \n",
       "4                      no            49.40             279              3.4  "
      ]
     },
     "execution_count": 83,
     "metadata": {},
     "output_type": "execute_result"
    }
   ],
   "source": [
    "avg_course_ratings = ratings_df.groupby(\"course_id\")[\"rating\"].mean()\n",
    "courses_df[\"Average Ratings\"] = courses_df[\"course_id\"].map(avg_course_ratings).round(1)\n",
    "courses_df.head()"
   ]
  },
  {
   "cell_type": "markdown",
   "id": "715fa925-5ff9-48c2-bca2-dfc15996e75a",
   "metadata": {},
   "source": [
    "**78. Find 2 top rated courses in each course category**"
   ]
  },
  {
   "cell_type": "code",
   "execution_count": 84,
   "id": "9f6169c3-e47f-4a95-8e81-4087c9ff4817",
   "metadata": {},
   "outputs": [
    {
     "name": "stderr",
     "output_type": "stream",
     "text": [
      "C:\\Users\\prash\\AppData\\Local\\Temp\\ipykernel_10164\\3916624009.py:1: DeprecationWarning: DataFrameGroupBy.apply operated on the grouping columns. This behavior is deprecated, and in a future version of pandas the grouping columns will be excluded from the operation. Either pass `include_groups=False` to exclude the groupings or explicitly select the grouping columns after groupby to silence this warning.\n",
      "  top_courses = courses_df.groupby(\"category\").apply(lambda x : x.nlargest(2,\"Average Ratings\")).reset_index(drop=True)\n"
     ]
    },
    {
     "data": {
      "text/html": [
       "<div>\n",
       "<style scoped>\n",
       "    .dataframe tbody tr th:only-of-type {\n",
       "        vertical-align: middle;\n",
       "    }\n",
       "\n",
       "    .dataframe tbody tr th {\n",
       "        vertical-align: top;\n",
       "    }\n",
       "\n",
       "    .dataframe thead th {\n",
       "        text-align: right;\n",
       "    }\n",
       "</style>\n",
       "<table border=\"1\" class=\"dataframe\">\n",
       "  <thead>\n",
       "    <tr style=\"text-align: right;\">\n",
       "      <th></th>\n",
       "      <th>category</th>\n",
       "      <th>title</th>\n",
       "      <th>Average Ratings</th>\n",
       "    </tr>\n",
       "  </thead>\n",
       "  <tbody>\n",
       "    <tr>\n",
       "      <th>0</th>\n",
       "      <td>Arts and Design</td>\n",
       "      <td>Photography: From Beginner to Pro</td>\n",
       "      <td>5.0</td>\n",
       "    </tr>\n",
       "    <tr>\n",
       "      <th>1</th>\n",
       "      <td>Arts and Design</td>\n",
       "      <td>Graphic Design Essentials: Tools and Techniques</td>\n",
       "      <td>4.7</td>\n",
       "    </tr>\n",
       "    <tr>\n",
       "      <th>2</th>\n",
       "      <td>Business and Management</td>\n",
       "      <td>Entrepreneurship 101: Building Your First Startup</td>\n",
       "      <td>5.0</td>\n",
       "    </tr>\n",
       "    <tr>\n",
       "      <th>3</th>\n",
       "      <td>Business and Management</td>\n",
       "      <td>Financial Analysis for Decision-Making</td>\n",
       "      <td>4.3</td>\n",
       "    </tr>\n",
       "    <tr>\n",
       "      <th>4</th>\n",
       "      <td>Education</td>\n",
       "      <td>Childhood Education Fundamentals</td>\n",
       "      <td>4.8</td>\n",
       "    </tr>\n",
       "    <tr>\n",
       "      <th>5</th>\n",
       "      <td>Education</td>\n",
       "      <td>Early Childhood Education Fundamentals</td>\n",
       "      <td>4.5</td>\n",
       "    </tr>\n",
       "    <tr>\n",
       "      <th>6</th>\n",
       "      <td>Health</td>\n",
       "      <td>Anatomy and Physiology: Understanding the Huma...</td>\n",
       "      <td>5.0</td>\n",
       "    </tr>\n",
       "    <tr>\n",
       "      <th>7</th>\n",
       "      <td>Health</td>\n",
       "      <td>Introduction to Medical Terminology</td>\n",
       "      <td>4.5</td>\n",
       "    </tr>\n",
       "    <tr>\n",
       "      <th>8</th>\n",
       "      <td>Personal Development</td>\n",
       "      <td>The Art of Negotiation and Persuasion</td>\n",
       "      <td>4.5</td>\n",
       "    </tr>\n",
       "    <tr>\n",
       "      <th>9</th>\n",
       "      <td>Personal Development</td>\n",
       "      <td>Public Speaking and Communication Mastery</td>\n",
       "      <td>4.0</td>\n",
       "    </tr>\n",
       "    <tr>\n",
       "      <th>10</th>\n",
       "      <td>Science and Mathematics</td>\n",
       "      <td>Biology: Understanding the Human Body</td>\n",
       "      <td>4.7</td>\n",
       "    </tr>\n",
       "    <tr>\n",
       "      <th>11</th>\n",
       "      <td>Science and Mathematics</td>\n",
       "      <td>Biotechnology: Applications and Impact</td>\n",
       "      <td>4.7</td>\n",
       "    </tr>\n",
       "    <tr>\n",
       "      <th>12</th>\n",
       "      <td>Technology and Programming</td>\n",
       "      <td>Python Masterclass</td>\n",
       "      <td>4.7</td>\n",
       "    </tr>\n",
       "    <tr>\n",
       "      <th>13</th>\n",
       "      <td>Technology and Programming</td>\n",
       "      <td>Data structures through C</td>\n",
       "      <td>4.6</td>\n",
       "    </tr>\n",
       "  </tbody>\n",
       "</table>\n",
       "</div>"
      ],
      "text/plain": [
       "                      category  \\\n",
       "0              Arts and Design   \n",
       "1              Arts and Design   \n",
       "2      Business and Management   \n",
       "3      Business and Management   \n",
       "4                    Education   \n",
       "5                    Education   \n",
       "6                       Health   \n",
       "7                       Health   \n",
       "8         Personal Development   \n",
       "9         Personal Development   \n",
       "10     Science and Mathematics   \n",
       "11     Science and Mathematics   \n",
       "12  Technology and Programming   \n",
       "13  Technology and Programming   \n",
       "\n",
       "                                                title  Average Ratings  \n",
       "0                   Photography: From Beginner to Pro              5.0  \n",
       "1     Graphic Design Essentials: Tools and Techniques              4.7  \n",
       "2   Entrepreneurship 101: Building Your First Startup              5.0  \n",
       "3              Financial Analysis for Decision-Making              4.3  \n",
       "4                    Childhood Education Fundamentals              4.8  \n",
       "5              Early Childhood Education Fundamentals              4.5  \n",
       "6   Anatomy and Physiology: Understanding the Huma...              5.0  \n",
       "7                 Introduction to Medical Terminology              4.5  \n",
       "8               The Art of Negotiation and Persuasion              4.5  \n",
       "9           Public Speaking and Communication Mastery              4.0  \n",
       "10              Biology: Understanding the Human Body              4.7  \n",
       "11             Biotechnology: Applications and Impact              4.7  \n",
       "12                                 Python Masterclass              4.7  \n",
       "13                          Data structures through C              4.6  "
      ]
     },
     "execution_count": 84,
     "metadata": {},
     "output_type": "execute_result"
    }
   ],
   "source": [
    "top_courses = courses_df.groupby(\"category\").apply(lambda x : x.nlargest(2,\"Average Ratings\")).reset_index(drop=True)\n",
    "top_courses[[\"category\",\"title\",\"Average Ratings\"]]"
   ]
  },
  {
   "cell_type": "markdown",
   "id": "9eff72f8-fa3a-42f2-9d7c-5df10b32508e",
   "metadata": {},
   "source": [
    "**79. Display the average rating of each course category**"
   ]
  },
  {
   "cell_type": "code",
   "execution_count": 85,
   "id": "cf575474-fe60-4f34-889b-53efcaca1c6a",
   "metadata": {},
   "outputs": [
    {
     "data": {
      "text/plain": [
       "category\n",
       "Arts and Design               4.4\n",
       "Business and Management       4.3\n",
       "Education                     4.0\n",
       "Health                        4.2\n",
       "Personal Development          3.5\n",
       "Science and Mathematics       4.0\n",
       "Technology and Programming    4.0\n",
       "Name: Average Ratings, dtype: float64"
      ]
     },
     "execution_count": 85,
     "metadata": {},
     "output_type": "execute_result"
    }
   ],
   "source": [
    "courses_df.groupby(\"category\")[\"Average Ratings\"].mean().round(1)"
   ]
  },
  {
   "cell_type": "markdown",
   "id": "11ffb0ab-4aaf-4e78-adc0-c48702694e6c",
   "metadata": {},
   "source": [
    "**80. Calculate the average rating for each instructor.**\n"
   ]
  },
  {
   "cell_type": "code",
   "execution_count": 86,
   "id": "a566c4c2-4b0f-4b4d-885c-b272263db24c",
   "metadata": {},
   "outputs": [
    {
     "data": {
      "text/html": [
       "<div>\n",
       "<style scoped>\n",
       "    .dataframe tbody tr th:only-of-type {\n",
       "        vertical-align: middle;\n",
       "    }\n",
       "\n",
       "    .dataframe tbody tr th {\n",
       "        vertical-align: top;\n",
       "    }\n",
       "\n",
       "    .dataframe thead th {\n",
       "        text-align: right;\n",
       "    }\n",
       "</style>\n",
       "<table border=\"1\" class=\"dataframe\">\n",
       "  <thead>\n",
       "    <tr style=\"text-align: right;\">\n",
       "      <th></th>\n",
       "      <th>instructor_id</th>\n",
       "      <th>Average Ratings</th>\n",
       "    </tr>\n",
       "  </thead>\n",
       "  <tbody>\n",
       "    <tr>\n",
       "      <th>0</th>\n",
       "      <td>173468</td>\n",
       "      <td>3.250000</td>\n",
       "    </tr>\n",
       "    <tr>\n",
       "      <th>1</th>\n",
       "      <td>204568</td>\n",
       "      <td>4.100000</td>\n",
       "    </tr>\n",
       "    <tr>\n",
       "      <th>2</th>\n",
       "      <td>220585</td>\n",
       "      <td>4.300000</td>\n",
       "    </tr>\n",
       "    <tr>\n",
       "      <th>3</th>\n",
       "      <td>241479</td>\n",
       "      <td>4.100000</td>\n",
       "    </tr>\n",
       "    <tr>\n",
       "      <th>4</th>\n",
       "      <td>278667</td>\n",
       "      <td>3.566667</td>\n",
       "    </tr>\n",
       "    <tr>\n",
       "      <th>5</th>\n",
       "      <td>288315</td>\n",
       "      <td>3.750000</td>\n",
       "    </tr>\n",
       "    <tr>\n",
       "      <th>6</th>\n",
       "      <td>295438</td>\n",
       "      <td>4.000000</td>\n",
       "    </tr>\n",
       "    <tr>\n",
       "      <th>7</th>\n",
       "      <td>364202</td>\n",
       "      <td>4.300000</td>\n",
       "    </tr>\n",
       "    <tr>\n",
       "      <th>8</th>\n",
       "      <td>370558</td>\n",
       "      <td>4.500000</td>\n",
       "    </tr>\n",
       "    <tr>\n",
       "      <th>9</th>\n",
       "      <td>417012</td>\n",
       "      <td>3.800000</td>\n",
       "    </tr>\n",
       "    <tr>\n",
       "      <th>10</th>\n",
       "      <td>424379</td>\n",
       "      <td>4.200000</td>\n",
       "    </tr>\n",
       "    <tr>\n",
       "      <th>11</th>\n",
       "      <td>457246</td>\n",
       "      <td>4.016667</td>\n",
       "    </tr>\n",
       "    <tr>\n",
       "      <th>12</th>\n",
       "      <td>525207</td>\n",
       "      <td>4.000000</td>\n",
       "    </tr>\n",
       "    <tr>\n",
       "      <th>13</th>\n",
       "      <td>536923</td>\n",
       "      <td>4.350000</td>\n",
       "    </tr>\n",
       "    <tr>\n",
       "      <th>14</th>\n",
       "      <td>582060</td>\n",
       "      <td>4.233333</td>\n",
       "    </tr>\n",
       "    <tr>\n",
       "      <th>15</th>\n",
       "      <td>632410</td>\n",
       "      <td>4.600000</td>\n",
       "    </tr>\n",
       "    <tr>\n",
       "      <th>16</th>\n",
       "      <td>668495</td>\n",
       "      <td>3.850000</td>\n",
       "    </tr>\n",
       "    <tr>\n",
       "      <th>17</th>\n",
       "      <td>712134</td>\n",
       "      <td>3.966667</td>\n",
       "    </tr>\n",
       "    <tr>\n",
       "      <th>18</th>\n",
       "      <td>742878</td>\n",
       "      <td>4.650000</td>\n",
       "    </tr>\n",
       "    <tr>\n",
       "      <th>19</th>\n",
       "      <td>751788</td>\n",
       "      <td>4.233333</td>\n",
       "    </tr>\n",
       "    <tr>\n",
       "      <th>20</th>\n",
       "      <td>764597</td>\n",
       "      <td>4.050000</td>\n",
       "    </tr>\n",
       "    <tr>\n",
       "      <th>21</th>\n",
       "      <td>767050</td>\n",
       "      <td>3.750000</td>\n",
       "    </tr>\n",
       "    <tr>\n",
       "      <th>22</th>\n",
       "      <td>838186</td>\n",
       "      <td>3.850000</td>\n",
       "    </tr>\n",
       "    <tr>\n",
       "      <th>23</th>\n",
       "      <td>871007</td>\n",
       "      <td>4.080000</td>\n",
       "    </tr>\n",
       "  </tbody>\n",
       "</table>\n",
       "</div>"
      ],
      "text/plain": [
       "    instructor_id  Average Ratings\n",
       "0          173468         3.250000\n",
       "1          204568         4.100000\n",
       "2          220585         4.300000\n",
       "3          241479         4.100000\n",
       "4          278667         3.566667\n",
       "5          288315         3.750000\n",
       "6          295438         4.000000\n",
       "7          364202         4.300000\n",
       "8          370558         4.500000\n",
       "9          417012         3.800000\n",
       "10         424379         4.200000\n",
       "11         457246         4.016667\n",
       "12         525207         4.000000\n",
       "13         536923         4.350000\n",
       "14         582060         4.233333\n",
       "15         632410         4.600000\n",
       "16         668495         3.850000\n",
       "17         712134         3.966667\n",
       "18         742878         4.650000\n",
       "19         751788         4.233333\n",
       "20         764597         4.050000\n",
       "21         767050         3.750000\n",
       "22         838186         3.850000\n",
       "23         871007         4.080000"
      ]
     },
     "execution_count": 86,
     "metadata": {},
     "output_type": "execute_result"
    }
   ],
   "source": [
    "instructor_id = courses_df.groupby(\"instructor_id\")[\"Average Ratings\"].mean().reset_index()\n",
    "instructor_id"
   ]
  },
  {
   "cell_type": "markdown",
   "id": "ec9c6126-c516-4994-a63f-fa1d3add4a09",
   "metadata": {},
   "source": [
    "**81. Display courses with no ratings**"
   ]
  },
  {
   "cell_type": "code",
   "execution_count": 87,
   "id": "1e843e36-e99d-4e67-ac2f-9066c0144ec4",
   "metadata": {},
   "outputs": [
    {
     "data": {
      "text/html": [
       "<div>\n",
       "<style scoped>\n",
       "    .dataframe tbody tr th:only-of-type {\n",
       "        vertical-align: middle;\n",
       "    }\n",
       "\n",
       "    .dataframe tbody tr th {\n",
       "        vertical-align: top;\n",
       "    }\n",
       "\n",
       "    .dataframe thead th {\n",
       "        text-align: right;\n",
       "    }\n",
       "</style>\n",
       "<table border=\"1\" class=\"dataframe\">\n",
       "  <thead>\n",
       "    <tr style=\"text-align: right;\">\n",
       "      <th></th>\n",
       "      <th>title</th>\n",
       "      <th>Average Ratings</th>\n",
       "    </tr>\n",
       "  </thead>\n",
       "  <tbody>\n",
       "    <tr>\n",
       "      <th>1</th>\n",
       "      <td>Advanced Mathematics for Engineers</td>\n",
       "      <td>NaN</td>\n",
       "    </tr>\n",
       "    <tr>\n",
       "      <th>24</th>\n",
       "      <td>Physics Made Simple: Fundamentals to Advanced</td>\n",
       "      <td>NaN</td>\n",
       "    </tr>\n",
       "    <tr>\n",
       "      <th>28</th>\n",
       "      <td>Introduction to Astrophysics</td>\n",
       "      <td>NaN</td>\n",
       "    </tr>\n",
       "    <tr>\n",
       "      <th>44</th>\n",
       "      <td>Mental Health Awareness and Support</td>\n",
       "      <td>NaN</td>\n",
       "    </tr>\n",
       "  </tbody>\n",
       "</table>\n",
       "</div>"
      ],
      "text/plain": [
       "                                            title  Average Ratings\n",
       "1              Advanced Mathematics for Engineers              NaN\n",
       "24  Physics Made Simple: Fundamentals to Advanced              NaN\n",
       "28                   Introduction to Astrophysics              NaN\n",
       "44            Mental Health Awareness and Support              NaN"
      ]
     },
     "execution_count": 87,
     "metadata": {},
     "output_type": "execute_result"
    }
   ],
   "source": [
    "no_rating_courses = courses_df[courses_df[\"Average Ratings\"].isnull()]\n",
    "no_rating_courses[[\"title\",\"Average Ratings\"]]"
   ]
  },
  {
   "cell_type": "markdown",
   "id": "b9584e14-d981-420f-9e22-f9323f48502a",
   "metadata": {},
   "source": [
    "**82. Find courses that have no students enrolled in them**"
   ]
  },
  {
   "cell_type": "code",
   "execution_count": 88,
   "id": "2c09c64c-1565-4d59-a746-6caca80a1976",
   "metadata": {},
   "outputs": [
    {
     "data": {
      "text/plain": [
       "18    Entrepreneurship 101: Building Your First Startup\n",
       "21         Python for Data Science and Machine Learning\n",
       "24        Physics Made Simple: Fundamentals to Advanced\n",
       "25                            Data structures through C\n",
       "28                         Introduction to Astrophysics\n",
       "30                Climate Change: Science and Solutions\n",
       "31               Biotechnology: Applications and Impact\n",
       "33                   Marine Biology: Life Under the Sea\n",
       "37                    Mindfulness and Stress Management\n",
       "38            Public Speaking and Communication Mastery\n",
       "41               Time Management for Busy Professionals\n",
       "43                           Data structures through C#\n",
       "44                  Mental Health Awareness and Support\n",
       "47    Anatomy and Physiology: Understanding the Huma...\n",
       "51                  Introduction to Medical Terminology\n",
       "55                         Data structures through Java\n",
       "61             Developing Curriculum for K-12 Education\n",
       "62                     Childhood Education Fundamentals\n",
       "Name: title, dtype: object"
      ]
     },
     "execution_count": 88,
     "metadata": {},
     "output_type": "execute_result"
    }
   ],
   "source": [
    "enrollment_course = enrollments_df[\"course_id\"].unique()\n",
    "no_enrollment_course = courses_df[~courses_df[\"course_id\"].isin(enrollment_course)]\n",
    "no_enrollment_course.title\n"
   ]
  },
  {
   "cell_type": "markdown",
   "id": "7db1c063-78e8-4405-8b6e-31ee14184381",
   "metadata": {},
   "source": [
    "**83. Find the number of students from each country based on their enrollments.**\n"
   ]
  },
  {
   "cell_type": "code",
   "execution_count": 89,
   "id": "483a2e58-2f42-4325-8b7d-e3df4cd37aac",
   "metadata": {},
   "outputs": [
    {
     "data": {
      "text/plain": [
       "country\n",
       "China    20\n",
       "India    26\n",
       "UK       11\n",
       "US       16\n",
       "Name: student_id, dtype: int64"
      ]
     },
     "execution_count": 89,
     "metadata": {},
     "output_type": "execute_result"
    }
   ],
   "source": [
    "student_df = users_df[users_df[\"category\"]==\"student\"]\n",
    "student_df.merge(enrollments_df,left_on=\"user_id\",right_on=\"student_id\").groupby(\"country\")[\"student_id\"].count()"
   ]
  },
  {
   "cell_type": "markdown",
   "id": "18fbcf27-dcbd-4d92-a07e-79abe92b6806",
   "metadata": {},
   "source": [
    "**84. Get the course popularity details by country i.e. find the course with the highest number of students in each country.**"
   ]
  },
  {
   "cell_type": "code",
   "execution_count": 90,
   "id": "2d3fd97d-8c37-42c9-9d31-50d109ea5e0a",
   "metadata": {},
   "outputs": [
    {
     "data": {
      "text/html": [
       "<div>\n",
       "<style scoped>\n",
       "    .dataframe tbody tr th:only-of-type {\n",
       "        vertical-align: middle;\n",
       "    }\n",
       "\n",
       "    .dataframe tbody tr th {\n",
       "        vertical-align: top;\n",
       "    }\n",
       "\n",
       "    .dataframe thead th {\n",
       "        text-align: right;\n",
       "    }\n",
       "</style>\n",
       "<table border=\"1\" class=\"dataframe\">\n",
       "  <thead>\n",
       "    <tr style=\"text-align: right;\">\n",
       "      <th></th>\n",
       "      <th>country</th>\n",
       "      <th>course_id</th>\n",
       "      <th>enrollemnt_count</th>\n",
       "    </tr>\n",
       "  </thead>\n",
       "  <tbody>\n",
       "    <tr>\n",
       "      <th>9</th>\n",
       "      <td>China</td>\n",
       "      <td>49963</td>\n",
       "      <td>5</td>\n",
       "    </tr>\n",
       "    <tr>\n",
       "      <th>25</th>\n",
       "      <td>Germany</td>\n",
       "      <td>27385</td>\n",
       "      <td>1</td>\n",
       "    </tr>\n",
       "    <tr>\n",
       "      <th>59</th>\n",
       "      <td>India</td>\n",
       "      <td>93619</td>\n",
       "      <td>9</td>\n",
       "    </tr>\n",
       "    <tr>\n",
       "      <th>74</th>\n",
       "      <td>UK</td>\n",
       "      <td>64796</td>\n",
       "      <td>5</td>\n",
       "    </tr>\n",
       "    <tr>\n",
       "      <th>94</th>\n",
       "      <td>US</td>\n",
       "      <td>64796</td>\n",
       "      <td>8</td>\n",
       "    </tr>\n",
       "  </tbody>\n",
       "</table>\n",
       "</div>"
      ],
      "text/plain": [
       "    country  course_id  enrollemnt_count\n",
       "9     China      49963                 5\n",
       "25  Germany      27385                 1\n",
       "59    India      93619                 9\n",
       "74       UK      64796                 5\n",
       "94       US      64796                 8"
      ]
     },
     "execution_count": 90,
     "metadata": {},
     "output_type": "execute_result"
    }
   ],
   "source": [
    "course_popularity = enrollments_df[[\"student_id\",\"course_id\"]].merge(users_df[[\"user_id\",\"country\"]],left_on=\"student_id\",right_on=\"user_id\").groupby([\"country\",\"course_id\"]).size().reset_index(name=\"enrollemnt_count\")\n",
    "course_popularity.loc[course_popularity.groupby(\"country\")[\"enrollemnt_count\"].idxmax()]"
   ]
  },
  {
   "cell_type": "markdown",
   "id": "c11e0830-f6b2-4c96-b71c-89bac4bca771",
   "metadata": {},
   "source": [
    "**85. Find the top 5 bestselling paid courses**"
   ]
  },
  {
   "cell_type": "code",
   "execution_count": 91,
   "id": "c30e0f26-10ae-43b6-95a8-5766939faf57",
   "metadata": {},
   "outputs": [
    {
     "data": {
      "text/html": [
       "<div>\n",
       "<style scoped>\n",
       "    .dataframe tbody tr th:only-of-type {\n",
       "        vertical-align: middle;\n",
       "    }\n",
       "\n",
       "    .dataframe tbody tr th {\n",
       "        vertical-align: top;\n",
       "    }\n",
       "\n",
       "    .dataframe thead th {\n",
       "        text-align: right;\n",
       "    }\n",
       "</style>\n",
       "<table border=\"1\" class=\"dataframe\">\n",
       "  <thead>\n",
       "    <tr style=\"text-align: right;\">\n",
       "      <th></th>\n",
       "      <th>course_id</th>\n",
       "      <th>amount_paid</th>\n",
       "    </tr>\n",
       "  </thead>\n",
       "  <tbody>\n",
       "    <tr>\n",
       "      <th>0</th>\n",
       "      <td>64561</td>\n",
       "      <td>345.80</td>\n",
       "    </tr>\n",
       "    <tr>\n",
       "      <th>1</th>\n",
       "      <td>78724</td>\n",
       "      <td>335.80</td>\n",
       "    </tr>\n",
       "    <tr>\n",
       "      <th>2</th>\n",
       "      <td>56446</td>\n",
       "      <td>295.25</td>\n",
       "    </tr>\n",
       "    <tr>\n",
       "      <th>3</th>\n",
       "      <td>21248</td>\n",
       "      <td>278.00</td>\n",
       "    </tr>\n",
       "    <tr>\n",
       "      <th>4</th>\n",
       "      <td>62660</td>\n",
       "      <td>249.00</td>\n",
       "    </tr>\n",
       "  </tbody>\n",
       "</table>\n",
       "</div>"
      ],
      "text/plain": [
       "   course_id  amount_paid\n",
       "0      64561       345.80\n",
       "1      78724       335.80\n",
       "2      56446       295.25\n",
       "3      21248       278.00\n",
       "4      62660       249.00"
      ]
     },
     "execution_count": 91,
     "metadata": {},
     "output_type": "execute_result"
    }
   ],
   "source": [
    "bestselling_courses = enrollments_df.merge(payments_df[payments_df[\"amount_paid\"]>0],on=\"enrollment_id\").groupby(\"course_id\")[\"amount_paid\"].sum().nlargest(5).reset_index()\n",
    "bestselling_courses"
   ]
  },
  {
   "cell_type": "code",
   "execution_count": 92,
   "id": "ba646525",
   "metadata": {},
   "outputs": [
    {
     "data": {
      "text/html": [
       "<div>\n",
       "<style scoped>\n",
       "    .dataframe tbody tr th:only-of-type {\n",
       "        vertical-align: middle;\n",
       "    }\n",
       "\n",
       "    .dataframe tbody tr th {\n",
       "        vertical-align: top;\n",
       "    }\n",
       "\n",
       "    .dataframe thead th {\n",
       "        text-align: right;\n",
       "    }\n",
       "</style>\n",
       "<table border=\"1\" class=\"dataframe\">\n",
       "  <thead>\n",
       "    <tr style=\"text-align: right;\">\n",
       "      <th></th>\n",
       "      <th>payment_id</th>\n",
       "      <th>enrollment_id</th>\n",
       "      <th>discount_percent</th>\n",
       "      <th>amount_paid</th>\n",
       "      <th>coupon_code</th>\n",
       "      <th>payment_method</th>\n",
       "      <th>transaction_date</th>\n",
       "      <th>transaction_id</th>\n",
       "      <th>payment_status</th>\n",
       "    </tr>\n",
       "  </thead>\n",
       "  <tbody>\n",
       "    <tr>\n",
       "      <th>0</th>\n",
       "      <td>217816</td>\n",
       "      <td>639069</td>\n",
       "      <td>20</td>\n",
       "      <td>64.8</td>\n",
       "      <td>GITHUB34</td>\n",
       "      <td>card</td>\n",
       "      <td>2025-01-09</td>\n",
       "      <td>710cb8b1-4783-471e-a87a-70171576bf26</td>\n",
       "      <td>success</td>\n",
       "    </tr>\n",
       "  </tbody>\n",
       "</table>\n",
       "</div>"
      ],
      "text/plain": [
       "   payment_id  enrollment_id  discount_percent  amount_paid coupon_code  \\\n",
       "0      217816         639069                20         64.8    GITHUB34   \n",
       "\n",
       "  payment_method transaction_date                        transaction_id  \\\n",
       "0           card       2025-01-09  710cb8b1-4783-471e-a87a-70171576bf26   \n",
       "\n",
       "  payment_status  \n",
       "0        success  "
      ]
     },
     "execution_count": 92,
     "metadata": {},
     "output_type": "execute_result"
    }
   ],
   "source": [
    "payments_df.head(1)"
   ]
  },
  {
   "cell_type": "markdown",
   "id": "2833bec7-e020-4597-80fb-54e7e72b4032",
   "metadata": {},
   "source": [
    "**86. Find the bestselling course in each category**"
   ]
  },
  {
   "cell_type": "code",
   "execution_count": 93,
   "id": "bc03d762-f08b-4d17-9cac-402ebb8370a9",
   "metadata": {},
   "outputs": [
    {
     "data": {
      "text/html": [
       "<div>\n",
       "<style scoped>\n",
       "    .dataframe tbody tr th:only-of-type {\n",
       "        vertical-align: middle;\n",
       "    }\n",
       "\n",
       "    .dataframe tbody tr th {\n",
       "        vertical-align: top;\n",
       "    }\n",
       "\n",
       "    .dataframe thead th {\n",
       "        text-align: right;\n",
       "    }\n",
       "</style>\n",
       "<table border=\"1\" class=\"dataframe\">\n",
       "  <thead>\n",
       "    <tr style=\"text-align: right;\">\n",
       "      <th></th>\n",
       "      <th>course_id</th>\n",
       "      <th>category</th>\n",
       "      <th>amount_paid</th>\n",
       "    </tr>\n",
       "  </thead>\n",
       "  <tbody>\n",
       "    <tr>\n",
       "      <th>15</th>\n",
       "      <td>64561</td>\n",
       "      <td>Arts and Design</td>\n",
       "      <td>345.80</td>\n",
       "    </tr>\n",
       "    <tr>\n",
       "      <th>18</th>\n",
       "      <td>78724</td>\n",
       "      <td>Education</td>\n",
       "      <td>335.80</td>\n",
       "    </tr>\n",
       "    <tr>\n",
       "      <th>25</th>\n",
       "      <td>96323</td>\n",
       "      <td>Health</td>\n",
       "      <td>173.70</td>\n",
       "    </tr>\n",
       "    <tr>\n",
       "      <th>26</th>\n",
       "      <td>99133</td>\n",
       "      <td>Personal Development</td>\n",
       "      <td>99.00</td>\n",
       "    </tr>\n",
       "    <tr>\n",
       "      <th>14</th>\n",
       "      <td>62660</td>\n",
       "      <td>Science and Mathematics</td>\n",
       "      <td>249.00</td>\n",
       "    </tr>\n",
       "    <tr>\n",
       "      <th>10</th>\n",
       "      <td>56446</td>\n",
       "      <td>Technology and Programming</td>\n",
       "      <td>295.25</td>\n",
       "    </tr>\n",
       "  </tbody>\n",
       "</table>\n",
       "</div>"
      ],
      "text/plain": [
       "    course_id                    category  amount_paid\n",
       "15      64561             Arts and Design       345.80\n",
       "18      78724                   Education       335.80\n",
       "25      96323                      Health       173.70\n",
       "26      99133        Personal Development        99.00\n",
       "14      62660     Science and Mathematics       249.00\n",
       "10      56446  Technology and Programming       295.25"
      ]
     },
     "execution_count": 93,
     "metadata": {},
     "output_type": "execute_result"
    }
   ],
   "source": [
    "top_saling_courses = enrollments_df.merge(payments_df,on=\"enrollment_id\").merge(courses_df).groupby([\"course_id\",\"category\"])[\"amount_paid\"].sum().reset_index()\n",
    "top_saling_courses.loc[top_saling_courses.groupby(\"category\")[\"amount_paid\"].idxmax()]"
   ]
  },
  {
   "cell_type": "markdown",
   "id": "cbc28a3e-fa01-4833-aba7-a41e80ebd540",
   "metadata": {},
   "source": [
    "**87. Calculate the number of free enrollments and paid enrollments**"
   ]
  },
  {
   "cell_type": "code",
   "execution_count": 94,
   "id": "d20d7e33-dc6a-4174-a136-25d1d84f6623",
   "metadata": {},
   "outputs": [
    {
     "name": "stdout",
     "output_type": "stream",
     "text": [
      "there are  234 free courses and 45 paid course which are enrolled by people\n"
     ]
    }
   ],
   "source": [
    "course_enrollments = courses_df.merge(enrollments_df[[\"course_id\",\"enrollment_id\"]],on=\"course_id\",how=\"right\")\n",
    "free_course = (course_enrollments[\"price\"]==0).sum()\n",
    "paid_course = (course_enrollments[\"price\"]>0).sum()\n",
    "print(f\"there are  {free_course} free courses and {paid_courses} paid course which are enrolled by people\")"
   ]
  },
  {
   "cell_type": "markdown",
   "id": "ff5d8525-82d1-4692-925e-9a2356eed0b4",
   "metadata": {},
   "source": [
    "**88. Find correlation between the number of videos and the completion_rate.**"
   ]
  },
  {
   "cell_type": "code",
   "execution_count": 95,
   "id": "cf7fdb34-56b4-46fe-8ac5-2a0fbbd71658",
   "metadata": {},
   "outputs": [
    {
     "data": {
      "text/html": [
       "<div>\n",
       "<style scoped>\n",
       "    .dataframe tbody tr th:only-of-type {\n",
       "        vertical-align: middle;\n",
       "    }\n",
       "\n",
       "    .dataframe tbody tr th {\n",
       "        vertical-align: top;\n",
       "    }\n",
       "\n",
       "    .dataframe thead th {\n",
       "        text-align: right;\n",
       "    }\n",
       "</style>\n",
       "<table border=\"1\" class=\"dataframe\">\n",
       "  <thead>\n",
       "    <tr style=\"text-align: right;\">\n",
       "      <th></th>\n",
       "      <th>number_of_videos</th>\n",
       "      <th>completion_rate</th>\n",
       "    </tr>\n",
       "  </thead>\n",
       "  <tbody>\n",
       "    <tr>\n",
       "      <th>number_of_videos</th>\n",
       "      <td>1.000000</td>\n",
       "      <td>-0.066153</td>\n",
       "    </tr>\n",
       "    <tr>\n",
       "      <th>completion_rate</th>\n",
       "      <td>-0.066153</td>\n",
       "      <td>1.000000</td>\n",
       "    </tr>\n",
       "  </tbody>\n",
       "</table>\n",
       "</div>"
      ],
      "text/plain": [
       "                  number_of_videos  completion_rate\n",
       "number_of_videos          1.000000        -0.066153\n",
       "completion_rate          -0.066153         1.000000"
      ]
     },
     "execution_count": 95,
     "metadata": {},
     "output_type": "execute_result"
    }
   ],
   "source": [
    "videodf = courses_df[[\"number_of_videos\",\"completion_rate\"]]\n",
    "videodf.corr()"
   ]
  },
  {
   "cell_type": "markdown",
   "id": "6d678178-4b00-4ff0-98bf-8496c4ab8c6a",
   "metadata": {},
   "source": [
    "**89. Find the correlation between number of Quizzes and average rating for each course**"
   ]
  },
  {
   "cell_type": "code",
   "execution_count": 96,
   "id": "89e80a96-39ae-400d-8ebf-3cfef36f9d4a",
   "metadata": {},
   "outputs": [
    {
     "data": {
      "text/html": [
       "<div>\n",
       "<style scoped>\n",
       "    .dataframe tbody tr th:only-of-type {\n",
       "        vertical-align: middle;\n",
       "    }\n",
       "\n",
       "    .dataframe tbody tr th {\n",
       "        vertical-align: top;\n",
       "    }\n",
       "\n",
       "    .dataframe thead th {\n",
       "        text-align: right;\n",
       "    }\n",
       "</style>\n",
       "<table border=\"1\" class=\"dataframe\">\n",
       "  <thead>\n",
       "    <tr style=\"text-align: right;\">\n",
       "      <th></th>\n",
       "      <th>number_of_quizzes</th>\n",
       "      <th>Average Ratings</th>\n",
       "    </tr>\n",
       "  </thead>\n",
       "  <tbody>\n",
       "    <tr>\n",
       "      <th>number_of_quizzes</th>\n",
       "      <td>1.000000</td>\n",
       "      <td>-0.210402</td>\n",
       "    </tr>\n",
       "    <tr>\n",
       "      <th>Average Ratings</th>\n",
       "      <td>-0.210402</td>\n",
       "      <td>1.000000</td>\n",
       "    </tr>\n",
       "  </tbody>\n",
       "</table>\n",
       "</div>"
      ],
      "text/plain": [
       "                   number_of_quizzes  Average Ratings\n",
       "number_of_quizzes           1.000000        -0.210402\n",
       "Average Ratings            -0.210402         1.000000"
      ]
     },
     "execution_count": 96,
     "metadata": {},
     "output_type": "execute_result"
    }
   ],
   "source": [
    "course_rating_df = courses_df.groupby([\"course_id\",\"number_of_quizzes\"])[\"Average Ratings\"].mean().reset_index()\n",
    "course_rating_df[[\"number_of_quizzes\",\"Average Ratings\"]].corr()"
   ]
  },
  {
   "cell_type": "markdown",
   "id": "a5d21a7f-2922-4362-9fea-0e8cb1021985",
   "metadata": {},
   "source": [
    "**90. How many payment transactions failed using paypal**"
   ]
  },
  {
   "cell_type": "code",
   "execution_count": 97,
   "id": "de4db065-0f42-4f39-9654-5727c82fdfb3",
   "metadata": {},
   "outputs": [
    {
     "data": {
      "text/plain": [
       "15"
      ]
     },
     "execution_count": 97,
     "metadata": {},
     "output_type": "execute_result"
    }
   ],
   "source": [
    "(payments_df[\"payment_method\"]==\"PayPal\").sum()"
   ]
  },
  {
   "cell_type": "markdown",
   "id": "7bfa0b34-a972-4eac-8268-964db012713f",
   "metadata": {},
   "source": [
    "**91. Get a summary of payment methods, including how many successful, failed or pending payments are there for each method.**"
   ]
  },
  {
   "cell_type": "code",
   "execution_count": 98,
   "id": "48eb362a-3330-43a6-996f-ff44390ed94e",
   "metadata": {},
   "outputs": [
    {
     "data": {
      "text/html": [
       "<div>\n",
       "<style scoped>\n",
       "    .dataframe tbody tr th:only-of-type {\n",
       "        vertical-align: middle;\n",
       "    }\n",
       "\n",
       "    .dataframe tbody tr th {\n",
       "        vertical-align: top;\n",
       "    }\n",
       "\n",
       "    .dataframe thead th {\n",
       "        text-align: right;\n",
       "    }\n",
       "</style>\n",
       "<table border=\"1\" class=\"dataframe\">\n",
       "  <thead>\n",
       "    <tr style=\"text-align: right;\">\n",
       "      <th>payment_status</th>\n",
       "      <th>failed</th>\n",
       "      <th>pending</th>\n",
       "      <th>success</th>\n",
       "    </tr>\n",
       "    <tr>\n",
       "      <th>payment_method</th>\n",
       "      <th></th>\n",
       "      <th></th>\n",
       "      <th></th>\n",
       "    </tr>\n",
       "  </thead>\n",
       "  <tbody>\n",
       "    <tr>\n",
       "      <th>PayPal</th>\n",
       "      <td>1.0</td>\n",
       "      <td>0.0</td>\n",
       "      <td>14.0</td>\n",
       "    </tr>\n",
       "    <tr>\n",
       "      <th>UPI</th>\n",
       "      <td>0.0</td>\n",
       "      <td>1.0</td>\n",
       "      <td>18.0</td>\n",
       "    </tr>\n",
       "    <tr>\n",
       "      <th>card</th>\n",
       "      <td>0.0</td>\n",
       "      <td>0.0</td>\n",
       "      <td>11.0</td>\n",
       "    </tr>\n",
       "  </tbody>\n",
       "</table>\n",
       "</div>"
      ],
      "text/plain": [
       "payment_status  failed  pending  success\n",
       "payment_method                          \n",
       "PayPal             1.0      0.0     14.0\n",
       "UPI                0.0      1.0     18.0\n",
       "card               0.0      0.0     11.0"
      ]
     },
     "execution_count": 98,
     "metadata": {},
     "output_type": "execute_result"
    }
   ],
   "source": [
    "payments_df.pivot_table(columns=\"payment_status\",index=\"payment_method\",aggfunc=\"size\").fillna(0)"
   ]
  },
  {
   "cell_type": "markdown",
   "id": "69b70c69-794b-45e4-a515-0701d8fe2fb6",
   "metadata": {},
   "source": [
    "**92. Display the courses that were never refunded**"
   ]
  },
  {
   "cell_type": "code",
   "execution_count": 99,
   "id": "d9f4773d-917e-4737-9a8e-30f45b232ba7",
   "metadata": {},
   "outputs": [
    {
     "data": {
      "text/html": [
       "<div>\n",
       "<style scoped>\n",
       "    .dataframe tbody tr th:only-of-type {\n",
       "        vertical-align: middle;\n",
       "    }\n",
       "\n",
       "    .dataframe tbody tr th {\n",
       "        vertical-align: top;\n",
       "    }\n",
       "\n",
       "    .dataframe thead th {\n",
       "        text-align: right;\n",
       "    }\n",
       "</style>\n",
       "<table border=\"1\" class=\"dataframe\">\n",
       "  <thead>\n",
       "    <tr style=\"text-align: right;\">\n",
       "      <th></th>\n",
       "      <th>course_id</th>\n",
       "      <th>title</th>\n",
       "    </tr>\n",
       "  </thead>\n",
       "  <tbody>\n",
       "    <tr>\n",
       "      <th>0</th>\n",
       "      <td>54145</td>\n",
       "      <td>Data structures through C++</td>\n",
       "    </tr>\n",
       "    <tr>\n",
       "      <th>9</th>\n",
       "      <td>45770</td>\n",
       "      <td>Advanced Mathematics for Engineers</td>\n",
       "    </tr>\n",
       "    <tr>\n",
       "      <th>14</th>\n",
       "      <td>33057</td>\n",
       "      <td>Advanced Data structures through Python</td>\n",
       "    </tr>\n",
       "    <tr>\n",
       "      <th>26</th>\n",
       "      <td>64796</td>\n",
       "      <td>First Aid and CPR Certification</td>\n",
       "    </tr>\n",
       "    <tr>\n",
       "      <th>45</th>\n",
       "      <td>51293</td>\n",
       "      <td>Managing Diabetes and Chronic Diseases</td>\n",
       "    </tr>\n",
       "    <tr>\n",
       "      <th>56</th>\n",
       "      <td>49963</td>\n",
       "      <td>How to Teach Reading and Writing Effectively</td>\n",
       "    </tr>\n",
       "    <tr>\n",
       "      <th>69</th>\n",
       "      <td>93619</td>\n",
       "      <td>Environmental Science: Understanding Ecosystems</td>\n",
       "    </tr>\n",
       "    <tr>\n",
       "      <th>84</th>\n",
       "      <td>30371</td>\n",
       "      <td>Introduction to Quantum Physics</td>\n",
       "    </tr>\n",
       "    <tr>\n",
       "      <th>100</th>\n",
       "      <td>18426</td>\n",
       "      <td>Creative Writing: Crafting Compelling Stories</td>\n",
       "    </tr>\n",
       "    <tr>\n",
       "      <th>112</th>\n",
       "      <td>21108</td>\n",
       "      <td>Teaching Strategies for the 21st Century</td>\n",
       "    </tr>\n",
       "    <tr>\n",
       "      <th>126</th>\n",
       "      <td>97988</td>\n",
       "      <td>Classroom Management: Techniques for Success</td>\n",
       "    </tr>\n",
       "    <tr>\n",
       "      <th>141</th>\n",
       "      <td>13258</td>\n",
       "      <td>Instructional Design for Online Learning</td>\n",
       "    </tr>\n",
       "    <tr>\n",
       "      <th>156</th>\n",
       "      <td>97039</td>\n",
       "      <td>Early Childhood Education Fundamentals</td>\n",
       "    </tr>\n",
       "    <tr>\n",
       "      <th>162</th>\n",
       "      <td>32369</td>\n",
       "      <td>Python Masterclass</td>\n",
       "    </tr>\n",
       "    <tr>\n",
       "      <th>170</th>\n",
       "      <td>65005</td>\n",
       "      <td>Digital Marketing Masterclass</td>\n",
       "    </tr>\n",
       "    <tr>\n",
       "      <th>178</th>\n",
       "      <td>76064</td>\n",
       "      <td>Leadership and Strategic Management</td>\n",
       "    </tr>\n",
       "    <tr>\n",
       "      <th>198</th>\n",
       "      <td>79177</td>\n",
       "      <td>Financial Analysis for Decision-Making</td>\n",
       "    </tr>\n",
       "    <tr>\n",
       "      <th>216</th>\n",
       "      <td>92956</td>\n",
       "      <td>Project Management: From Initiation to Execution</td>\n",
       "    </tr>\n",
       "    <tr>\n",
       "      <th>234</th>\n",
       "      <td>85886</td>\n",
       "      <td>Graphic Design Essentials: Tools and Techniques</td>\n",
       "    </tr>\n",
       "    <tr>\n",
       "      <th>235</th>\n",
       "      <td>62276</td>\n",
       "      <td>UX/UI Design Fundamentals</td>\n",
       "    </tr>\n",
       "    <tr>\n",
       "      <th>236</th>\n",
       "      <td>64561</td>\n",
       "      <td>Photography: From Beginner to Pro</td>\n",
       "    </tr>\n",
       "    <tr>\n",
       "      <th>239</th>\n",
       "      <td>30790</td>\n",
       "      <td>Introduction to Animation and Motion Graphics</td>\n",
       "    </tr>\n",
       "    <tr>\n",
       "      <th>241</th>\n",
       "      <td>56799</td>\n",
       "      <td>The Science of Everyday Chemistry</td>\n",
       "    </tr>\n",
       "    <tr>\n",
       "      <th>243</th>\n",
       "      <td>27431</td>\n",
       "      <td>Biology: Understanding the Human Body</td>\n",
       "    </tr>\n",
       "    <tr>\n",
       "      <th>245</th>\n",
       "      <td>21248</td>\n",
       "      <td>Full-Stack Web Development Bootcamp</td>\n",
       "    </tr>\n",
       "    <tr>\n",
       "      <th>247</th>\n",
       "      <td>67194</td>\n",
       "      <td>Astronomy: Exploring the Universe</td>\n",
       "    </tr>\n",
       "    <tr>\n",
       "      <th>248</th>\n",
       "      <td>86558</td>\n",
       "      <td>Genetics: From DNA to Evolution</td>\n",
       "    </tr>\n",
       "    <tr>\n",
       "      <th>249</th>\n",
       "      <td>27385</td>\n",
       "      <td>Mastering React: Advanced Concepts</td>\n",
       "    </tr>\n",
       "    <tr>\n",
       "      <th>251</th>\n",
       "      <td>62660</td>\n",
       "      <td>Renewable Energy: Technologies and Applications</td>\n",
       "    </tr>\n",
       "    <tr>\n",
       "      <th>253</th>\n",
       "      <td>48950</td>\n",
       "      <td>Productivity Hacks: Achieve More Every Day</td>\n",
       "    </tr>\n",
       "    <tr>\n",
       "      <th>254</th>\n",
       "      <td>99133</td>\n",
       "      <td>The Art of Negotiation and Persuasion</td>\n",
       "    </tr>\n",
       "    <tr>\n",
       "      <th>255</th>\n",
       "      <td>22005</td>\n",
       "      <td>Nutrition and Healthy Living</td>\n",
       "    </tr>\n",
       "    <tr>\n",
       "      <th>256</th>\n",
       "      <td>39766</td>\n",
       "      <td>Fitness Coaching: Becoming a Personal Trainer</td>\n",
       "    </tr>\n",
       "    <tr>\n",
       "      <th>257</th>\n",
       "      <td>31874</td>\n",
       "      <td>Public Health: Foundations and Future Trends</td>\n",
       "    </tr>\n",
       "    <tr>\n",
       "      <th>258</th>\n",
       "      <td>93568</td>\n",
       "      <td>Yoga and Mindfulness for Wellness</td>\n",
       "    </tr>\n",
       "    <tr>\n",
       "      <th>259</th>\n",
       "      <td>96323</td>\n",
       "      <td>Global Health and Epidemiology</td>\n",
       "    </tr>\n",
       "    <tr>\n",
       "      <th>260</th>\n",
       "      <td>89472</td>\n",
       "      <td>Introduction to Cybersecurity</td>\n",
       "    </tr>\n",
       "    <tr>\n",
       "      <th>262</th>\n",
       "      <td>56446</td>\n",
       "      <td>Advanced Data structures through C++</td>\n",
       "    </tr>\n",
       "    <tr>\n",
       "      <th>266</th>\n",
       "      <td>20195</td>\n",
       "      <td>Advanced Data structures through C#</td>\n",
       "    </tr>\n",
       "    <tr>\n",
       "      <th>267</th>\n",
       "      <td>59716</td>\n",
       "      <td>Advanced Data structures through Java</td>\n",
       "    </tr>\n",
       "    <tr>\n",
       "      <th>268</th>\n",
       "      <td>78724</td>\n",
       "      <td>Special Education: Understanding Disabilities</td>\n",
       "    </tr>\n",
       "    <tr>\n",
       "      <th>272</th>\n",
       "      <td>72387</td>\n",
       "      <td>Culturally Responsive Teaching</td>\n",
       "    </tr>\n",
       "    <tr>\n",
       "      <th>274</th>\n",
       "      <td>54046</td>\n",
       "      <td>AI and Deep Learning with TensorFlow</td>\n",
       "    </tr>\n",
       "    <tr>\n",
       "      <th>275</th>\n",
       "      <td>93178</td>\n",
       "      <td>Gamification in Education</td>\n",
       "    </tr>\n",
       "    <tr>\n",
       "      <th>276</th>\n",
       "      <td>86724</td>\n",
       "      <td>Educational Psychology: Enhancing Learning Out...</td>\n",
       "    </tr>\n",
       "  </tbody>\n",
       "</table>\n",
       "</div>"
      ],
      "text/plain": [
       "     course_id                                              title\n",
       "0        54145                        Data structures through C++\n",
       "9        45770                 Advanced Mathematics for Engineers\n",
       "14       33057            Advanced Data structures through Python\n",
       "26       64796                    First Aid and CPR Certification\n",
       "45       51293             Managing Diabetes and Chronic Diseases\n",
       "56       49963       How to Teach Reading and Writing Effectively\n",
       "69       93619    Environmental Science: Understanding Ecosystems\n",
       "84       30371                    Introduction to Quantum Physics\n",
       "100      18426      Creative Writing: Crafting Compelling Stories\n",
       "112      21108           Teaching Strategies for the 21st Century\n",
       "126      97988       Classroom Management: Techniques for Success\n",
       "141      13258           Instructional Design for Online Learning\n",
       "156      97039             Early Childhood Education Fundamentals\n",
       "162      32369                                 Python Masterclass\n",
       "170      65005                      Digital Marketing Masterclass\n",
       "178      76064                Leadership and Strategic Management\n",
       "198      79177             Financial Analysis for Decision-Making\n",
       "216      92956   Project Management: From Initiation to Execution\n",
       "234      85886    Graphic Design Essentials: Tools and Techniques\n",
       "235      62276                          UX/UI Design Fundamentals\n",
       "236      64561                  Photography: From Beginner to Pro\n",
       "239      30790      Introduction to Animation and Motion Graphics\n",
       "241      56799                  The Science of Everyday Chemistry\n",
       "243      27431              Biology: Understanding the Human Body\n",
       "245      21248                Full-Stack Web Development Bootcamp\n",
       "247      67194                  Astronomy: Exploring the Universe\n",
       "248      86558                    Genetics: From DNA to Evolution\n",
       "249      27385                 Mastering React: Advanced Concepts\n",
       "251      62660    Renewable Energy: Technologies and Applications\n",
       "253      48950         Productivity Hacks: Achieve More Every Day\n",
       "254      99133              The Art of Negotiation and Persuasion\n",
       "255      22005                       Nutrition and Healthy Living\n",
       "256      39766      Fitness Coaching: Becoming a Personal Trainer\n",
       "257      31874       Public Health: Foundations and Future Trends\n",
       "258      93568                  Yoga and Mindfulness for Wellness\n",
       "259      96323                     Global Health and Epidemiology\n",
       "260      89472                      Introduction to Cybersecurity\n",
       "262      56446               Advanced Data structures through C++\n",
       "266      20195                Advanced Data structures through C#\n",
       "267      59716              Advanced Data structures through Java\n",
       "268      78724      Special Education: Understanding Disabilities\n",
       "272      72387                     Culturally Responsive Teaching\n",
       "274      54046               AI and Deep Learning with TensorFlow\n",
       "275      93178                          Gamification in Education\n",
       "276      86724  Educational Psychology: Enhancing Learning Out..."
      ]
     },
     "execution_count": 99,
     "metadata": {},
     "output_type": "execute_result"
    }
   ],
   "source": [
    "refunded_enroll= courses_df.merge(enrollments_df,on=\"course_id\").merge(refunds_df,on=\"enrollment_id\",how=\"left\")\n",
    "non_refunded_courses = refunded_enroll[refunded_enroll.refund_id.isna()]\n",
    "non_refunded_courses[[\"course_id\", \"title\"]].drop_duplicates()\n"
   ]
  },
  {
   "cell_type": "markdown",
   "id": "eb31d8b8-51e3-4eca-a42c-8c8ff428e22d",
   "metadata": {},
   "source": [
    "**93. Use box plot to plot distribution of completion rates by difficulty level.**"
   ]
  },
  {
   "cell_type": "code",
   "execution_count": 100,
   "id": "8485eb65-bf9a-4ddf-9976-47200a401da5",
   "metadata": {},
   "outputs": [
    {
     "data": {
      "image/png": "[encoded data removed]",
      "text/plain": [
       "<Figure size 640x480 with 1 Axes>"
      ]
     },
     "metadata": {},
     "output_type": "display_data"
    }
   ],
   "source": [
    "sns.boxplot(x=courses_df[\"difficulty_level\"],y=courses_df[\"completion_rate\"])\n",
    "plt.show()\n"
   ]
  },
  {
   "cell_type": "markdown",
   "id": "95fb7e8a-26a1-4973-ae4c-535b11305531",
   "metadata": {},
   "source": [
    "**94. Identify the course category with the most enrollments**"
   ]
  },
  {
   "cell_type": "code",
   "execution_count": 101,
   "id": "af9e85ba-f447-404f-9df2-22602436cb36",
   "metadata": {},
   "outputs": [
    {
     "data": {
      "text/plain": [
       "0    Technology and Programming\n",
       "Name: category, dtype: object"
      ]
     },
     "execution_count": 101,
     "metadata": {},
     "output_type": "execute_result"
    }
   ],
   "source": [
    "import numpy as np\n",
    "courses_df[\"category\"].mode()"
   ]
  },
  {
   "cell_type": "markdown",
   "id": "bf95283c-e668-41c8-89ec-a4a0154a5f6e",
   "metadata": {},
   "source": [
    "**95. Find the number of inactive users - users who have not logged in during the last 30 days.**"
   ]
  },
  {
   "cell_type": "code",
   "execution_count": 102,
   "id": "88d8167e-990d-4bc9-a2e5-1c414937e86c",
   "metadata": {},
   "outputs": [
    {
     "name": "stderr",
     "output_type": "stream",
     "text": [
      "C:\\Users\\prash\\AppData\\Local\\Temp\\ipykernel_10164\\2887685345.py:3: UserWarning: Parsing dates in %d-%m-%Y format when dayfirst=False (the default) was specified. Pass `dayfirst=True` or specify a format to silence this warning.\n",
      "  users_df[\"last_login_date\"] = pd.to_datetime(users_df[\"last_login_date\"])\n"
     ]
    },
    {
     "data": {
      "text/plain": [
       "2851"
      ]
     },
     "execution_count": 102,
     "metadata": {},
     "output_type": "execute_result"
    }
   ],
   "source": [
    "from datetime import  datetime, timedelta\n",
    "\n",
    "users_df[\"last_login_date\"] = pd.to_datetime(users_df[\"last_login_date\"])\n",
    "\n",
    "threshold_date = datetime.now() - timedelta(days=30)\n",
    "\n",
    "inactive_user_count = users_df[users_df[\"last_login_date\"]< threshold_date].shape[0]\n",
    "inactive_user_count"
   ]
  },
  {
   "cell_type": "markdown",
   "id": "883aa4e3-a8b5-40b3-a3b5-fc91be3526b3",
   "metadata": {},
   "source": [
    "**96. What is the average price of courses in each category? (exclude the free courses)**"
   ]
  },
  {
   "cell_type": "code",
   "execution_count": 103,
   "id": "4ec044cd-3665-4174-882d-c4a8e71a8ab2",
   "metadata": {},
   "outputs": [
    {
     "data": {
      "text/plain": [
       "category\n",
       "Arts and Design               93.914286\n",
       "Education                     83.518750\n",
       "Health                        99.150000\n",
       "Personal Development          75.600000\n",
       "Science and Mathematics       92.125000\n",
       "Technology and Programming    81.615385\n",
       "Name: amount_paid, dtype: float64"
      ]
     },
     "execution_count": 103,
     "metadata": {},
     "output_type": "execute_result"
    }
   ],
   "source": [
    "course_info = courses_df.merge(enrollments_df[[\"enrollment_id\",\"course_id\"]],on=\"course_id\",how=\"inner\").merge(payments_df,on=\"enrollment_id\",how=\"right\")\n",
    "course_info.groupby(\"category\")[\"amount_paid\"].mean()"
   ]
  },
  {
   "cell_type": "markdown",
   "id": "7c83c027-bbdc-45cf-9889-6fec14a6eb2b",
   "metadata": {},
   "source": [
    "**97. How many courses are available with subtitles?**"
   ]
  },
  {
   "cell_type": "code",
   "execution_count": 104,
   "id": "f3a717d1-5ba3-4a38-a546-252d19ecba36",
   "metadata": {},
   "outputs": [
    {
     "data": {
      "text/plain": [
       "1                    Advanced Mathematics for Engineers\n",
       "2               Advanced Data structures through Python\n",
       "3                       First Aid and CPR Certification\n",
       "4                Managing Diabetes and Chronic Diseases\n",
       "5          How to Teach Reading and Writing Effectively\n",
       "6       Environmental Science: Understanding Ecosystems\n",
       "7                       Introduction to Quantum Physics\n",
       "8         Creative Writing: Crafting Compelling Stories\n",
       "9              Teaching Strategies for the 21st Century\n",
       "10         Classroom Management: Techniques for Success\n",
       "11             Instructional Design for Online Learning\n",
       "12               Early Childhood Education Fundamentals\n",
       "13                                   Python Masterclass\n",
       "14                        Digital Marketing Masterclass\n",
       "16               Financial Analysis for Decision-Making\n",
       "17     Project Management: From Initiation to Execution\n",
       "18    Entrepreneurship 101: Building Your First Startup\n",
       "19      Graphic Design Essentials: Tools and Techniques\n",
       "20                            UX/UI Design Fundamentals\n",
       "22                    Photography: From Beginner to Pro\n",
       "23        Introduction to Animation and Motion Graphics\n",
       "24        Physics Made Simple: Fundamentals to Advanced\n",
       "25                            Data structures through C\n",
       "26                    The Science of Everyday Chemistry\n",
       "27                Biology: Understanding the Human Body\n",
       "28                         Introduction to Astrophysics\n",
       "29                  Full-Stack Web Development Bootcamp\n",
       "30                Climate Change: Science and Solutions\n",
       "31               Biotechnology: Applications and Impact\n",
       "32                    Astronomy: Exploring the Universe\n",
       "34                      Genetics: From DNA to Evolution\n",
       "35                   Mastering React: Advanced Concepts\n",
       "36      Renewable Energy: Technologies and Applications\n",
       "37                    Mindfulness and Stress Management\n",
       "38            Public Speaking and Communication Mastery\n",
       "39           Productivity Hacks: Achieve More Every Day\n",
       "41               Time Management for Busy Professionals\n",
       "42                         Nutrition and Healthy Living\n",
       "43                           Data structures through C#\n",
       "44                  Mental Health Awareness and Support\n",
       "45        Fitness Coaching: Becoming a Personal Trainer\n",
       "46         Public Health: Foundations and Future Trends\n",
       "47    Anatomy and Physiology: Understanding the Huma...\n",
       "48                    Yoga and Mindfulness for Wellness\n",
       "49                       Global Health and Epidemiology\n",
       "51                  Introduction to Medical Terminology\n",
       "52                 Advanced Data structures through C++\n",
       "53                  Advanced Data structures through C#\n",
       "54                Advanced Data structures through Java\n",
       "55                         Data structures through Java\n",
       "57                       Culturally Responsive Teaching\n",
       "58                 AI and Deep Learning with TensorFlow\n",
       "60    Educational Psychology: Enhancing Learning Out...\n",
       "61             Developing Curriculum for K-12 Education\n",
       "62                     Childhood Education Fundamentals\n",
       "Name: title, dtype: object"
      ]
     },
     "execution_count": 104,
     "metadata": {},
     "output_type": "execute_result"
    }
   ],
   "source": [
    "courses_with_subtitle  = courses_df[courses_df[\"subtitles\"]==\"yes\"]\n",
    "courses_with_subtitle[\"title\"].drop_duplicates()"
   ]
  },
  {
   "cell_type": "markdown",
   "id": "c91b4762-6bdc-4c07-9fdc-cb90eb210d82",
   "metadata": {},
   "source": [
    "**98. What percentage of courses offer certifications?**"
   ]
  },
  {
   "cell_type": "code",
   "execution_count": 105,
   "id": "72d01b20-3c56-4c70-95e9-f776d5bd92d8",
   "metadata": {},
   "outputs": [
    {
     "data": {
      "text/plain": [
       "66.67"
      ]
     },
     "execution_count": 105,
     "metadata": {},
     "output_type": "execute_result"
    }
   ],
   "source": [
    "total_courses = courses_df.shape[0]\n",
    "courses_with_certification =courses_df[courses_df[\"certification_available\"]==\"yes\"].shape[0]\n",
    "percentege_of_certification_avalabe = round((courses_with_certification/total_courses)*100,2)\n",
    "percentege_of_certification_avalabe"
   ]
  },
  {
   "cell_type": "markdown",
   "id": "ab27337a-7a9d-4772-8fce-b3b1417bbb05",
   "metadata": {},
   "source": [
    "**99. What is the average time gap between a user's registration date and their first enrollment date?**"
   ]
  },
  {
   "cell_type": "code",
   "execution_count": 106,
   "id": "2ac4b060-ac60-462f-9196-5117cba0304f",
   "metadata": {},
   "outputs": [
    {
     "data": {
      "text/plain": [
       "Timedelta('937 days 09:42:14.296028880')"
      ]
     },
     "execution_count": 106,
     "metadata": {},
     "output_type": "execute_result"
    }
   ],
   "source": [
    "# users_df.merge(enrollments_df,on=\"course_id\")\n",
    "user_enrollments = users_df.merge(enrollments_df,left_on=\"user_id\",right_on=\"student_id\")\n",
    "day_gap = user_enrollments[\"enrollment_date\"]- user_enrollments[\"registration_date\"] \n",
    "day_gap.mean()\n"
   ]
  },
  {
   "cell_type": "code",
   "execution_count": 107,
   "id": "e5072f89",
   "metadata": {},
   "outputs": [
    {
     "data": {
      "text/plain": [
       "Timedelta('898 days 13:30:58.483754512')"
      ]
     },
     "execution_count": 107,
     "metadata": {},
     "output_type": "execute_result"
    }
   ],
   "source": [
    "days_gap =enrollments_df[\"enrollment_date\"] - users_df[\"registration_date\"] \n",
    "days_gap.mean()"
   ]
  },
  {
   "cell_type": "markdown",
   "id": "9f4798b4-079a-4e67-97b3-e958f31cb9aa",
   "metadata": {},
   "source": [
    "**100. Get the email addresses and names of users who have signed up but have not enrolled in any course.**"
   ]
  },
  {
   "cell_type": "code",
   "execution_count": 108,
   "id": "dcccc9b3-8337-4811-b0b4-f7576781017d",
   "metadata": {},
   "outputs": [
    {
     "data": {
      "text/html": [
       "<div>\n",
       "<style scoped>\n",
       "    .dataframe tbody tr th:only-of-type {\n",
       "        vertical-align: middle;\n",
       "    }\n",
       "\n",
       "    .dataframe tbody tr th {\n",
       "        vertical-align: top;\n",
       "    }\n",
       "\n",
       "    .dataframe thead th {\n",
       "        text-align: right;\n",
       "    }\n",
       "</style>\n",
       "<table border=\"1\" class=\"dataframe\">\n",
       "  <thead>\n",
       "    <tr style=\"text-align: right;\">\n",
       "      <th></th>\n",
       "      <th>name</th>\n",
       "      <th>email</th>\n",
       "    </tr>\n",
       "  </thead>\n",
       "  <tbody>\n",
       "    <tr>\n",
       "      <th>0</th>\n",
       "      <td>Allison Hill</td>\n",
       "      <td>garzaanthony@robinson.org</td>\n",
       "    </tr>\n",
       "    <tr>\n",
       "      <th>1</th>\n",
       "      <td>George Davis</td>\n",
       "      <td>lindsay78@gmail.com</td>\n",
       "    </tr>\n",
       "    <tr>\n",
       "      <th>2</th>\n",
       "      <td>Mark Diaz</td>\n",
       "      <td>jacqueline19@jackson.biz</td>\n",
       "    </tr>\n",
       "    <tr>\n",
       "      <th>3</th>\n",
       "      <td>Thomas Ellis</td>\n",
       "      <td>julie69@cox-osborn.com</td>\n",
       "    </tr>\n",
       "    <tr>\n",
       "      <th>4</th>\n",
       "      <td>Alexandra Le</td>\n",
       "      <td>cartereric@gmail.com</td>\n",
       "    </tr>\n",
       "    <tr>\n",
       "      <th>...</th>\n",
       "      <td>...</td>\n",
       "      <td>...</td>\n",
       "    </tr>\n",
       "    <tr>\n",
       "      <th>2937</th>\n",
       "      <td>Stacy Russell</td>\n",
       "      <td>williamhill@gmail.com</td>\n",
       "    </tr>\n",
       "    <tr>\n",
       "      <th>2938</th>\n",
       "      <td>Tammy Marsh DDS</td>\n",
       "      <td>rebeccahunt@yahoo.com</td>\n",
       "    </tr>\n",
       "    <tr>\n",
       "      <th>2939</th>\n",
       "      <td>Kevin Floyd</td>\n",
       "      <td>andrew73@rodriguez.org</td>\n",
       "    </tr>\n",
       "    <tr>\n",
       "      <th>2940</th>\n",
       "      <td>Nancy Galloway</td>\n",
       "      <td>hjohnston@shields-sanchez.net</td>\n",
       "    </tr>\n",
       "    <tr>\n",
       "      <th>2941</th>\n",
       "      <td>Walter Cochran DDS</td>\n",
       "      <td>gcurry@espinoza-rodriguez.info</td>\n",
       "    </tr>\n",
       "  </tbody>\n",
       "</table>\n",
       "<p>2681 rows × 2 columns</p>\n",
       "</div>"
      ],
      "text/plain": [
       "                    name                           email\n",
       "0           Allison Hill       garzaanthony@robinson.org\n",
       "1           George Davis             lindsay78@gmail.com\n",
       "2              Mark Diaz        jacqueline19@jackson.biz\n",
       "3           Thomas Ellis          julie69@cox-osborn.com\n",
       "4           Alexandra Le            cartereric@gmail.com\n",
       "...                  ...                             ...\n",
       "2937       Stacy Russell           williamhill@gmail.com\n",
       "2938     Tammy Marsh DDS           rebeccahunt@yahoo.com\n",
       "2939         Kevin Floyd          andrew73@rodriguez.org\n",
       "2940      Nancy Galloway   hjohnston@shields-sanchez.net\n",
       "2941  Walter Cochran DDS  gcurry@espinoza-rodriguez.info\n",
       "\n",
       "[2681 rows x 2 columns]"
      ]
     },
     "execution_count": 108,
     "metadata": {},
     "output_type": "execute_result"
    }
   ],
   "source": [
    "unenrooled_user = users_df[~users_df[\"user_id\"].isin(enrollments_df[\"student_id\"])]\n",
    "unenrooled_user[[\"name\",\"email\"]]"
   ]
  },
  {
   "cell_type": "markdown",
   "id": "6238b5c7-f8d0-4d2b-a163-b2be08c80ba2",
   "metadata": {},
   "source": [
    "**101. Find the customers who are refunding without any reason**"
   ]
  },
  {
   "cell_type": "code",
   "execution_count": 109,
   "id": "34b61c6e-d2dc-4631-9804-bcf837d53c2f",
   "metadata": {},
   "outputs": [
    {
     "data": {
      "text/html": [
       "<div>\n",
       "<style scoped>\n",
       "    .dataframe tbody tr th:only-of-type {\n",
       "        vertical-align: middle;\n",
       "    }\n",
       "\n",
       "    .dataframe tbody tr th {\n",
       "        vertical-align: top;\n",
       "    }\n",
       "\n",
       "    .dataframe thead th {\n",
       "        text-align: right;\n",
       "    }\n",
       "</style>\n",
       "<table border=\"1\" class=\"dataframe\">\n",
       "  <thead>\n",
       "    <tr style=\"text-align: right;\">\n",
       "      <th></th>\n",
       "      <th>refund_id</th>\n",
       "      <th>enrollment_id</th>\n",
       "      <th>refund_date</th>\n",
       "      <th>refund_reason</th>\n",
       "      <th>refund_amount</th>\n",
       "    </tr>\n",
       "  </thead>\n",
       "  <tbody>\n",
       "    <tr>\n",
       "      <th>2</th>\n",
       "      <td>773858</td>\n",
       "      <td>625488</td>\n",
       "      <td>2025-01-15</td>\n",
       "      <td>NaN</td>\n",
       "      <td>10</td>\n",
       "    </tr>\n",
       "    <tr>\n",
       "      <th>7</th>\n",
       "      <td>984653</td>\n",
       "      <td>990338</td>\n",
       "      <td>2025-01-16</td>\n",
       "      <td>NaN</td>\n",
       "      <td>6</td>\n",
       "    </tr>\n",
       "    <tr>\n",
       "      <th>8</th>\n",
       "      <td>477922</td>\n",
       "      <td>203994</td>\n",
       "      <td>2025-01-16</td>\n",
       "      <td>NaN</td>\n",
       "      <td>7</td>\n",
       "    </tr>\n",
       "    <tr>\n",
       "      <th>10</th>\n",
       "      <td>101561</td>\n",
       "      <td>127363</td>\n",
       "      <td>2025-01-02</td>\n",
       "      <td>NaN</td>\n",
       "      <td>4</td>\n",
       "    </tr>\n",
       "  </tbody>\n",
       "</table>\n",
       "</div>"
      ],
      "text/plain": [
       "    refund_id  enrollment_id refund_date refund_reason  refund_amount\n",
       "2      773858         625488  2025-01-15           NaN             10\n",
       "7      984653         990338  2025-01-16           NaN              6\n",
       "8      477922         203994  2025-01-16           NaN              7\n",
       "10     101561         127363  2025-01-02           NaN              4"
      ]
     },
     "execution_count": 109,
     "metadata": {},
     "output_type": "execute_result"
    }
   ],
   "source": [
    "no_reason_refund = refunds_df[refunds_df[\"refund_reason\"].isna() | (refunds_df[\"refund_reason\"]==\" \")]\n",
    "no_reason_refund"
   ]
  },
  {
   "cell_type": "markdown",
   "id": "5b139885-3a56-4378-90aa-202cd0f77aac",
   "metadata": {},
   "source": [
    "**102. Analyze monthly new user growth to understand monthly trends**"
   ]
  },
  {
   "cell_type": "code",
   "execution_count": 110,
   "id": "bdd7f745-cf2a-4706-a94f-d9e43c280d5e",
   "metadata": {},
   "outputs": [
    {
     "data": {
      "text/html": [
       "<div>\n",
       "<style scoped>\n",
       "    .dataframe tbody tr th:only-of-type {\n",
       "        vertical-align: middle;\n",
       "    }\n",
       "\n",
       "    .dataframe tbody tr th {\n",
       "        vertical-align: top;\n",
       "    }\n",
       "\n",
       "    .dataframe thead th {\n",
       "        text-align: right;\n",
       "    }\n",
       "</style>\n",
       "<table border=\"1\" class=\"dataframe\">\n",
       "  <thead>\n",
       "    <tr style=\"text-align: right;\">\n",
       "      <th></th>\n",
       "      <th>Month</th>\n",
       "      <th>user_id</th>\n",
       "    </tr>\n",
       "  </thead>\n",
       "  <tbody>\n",
       "    <tr>\n",
       "      <th>0</th>\n",
       "      <td>1</td>\n",
       "      <td>291</td>\n",
       "    </tr>\n",
       "    <tr>\n",
       "      <th>1</th>\n",
       "      <td>2</td>\n",
       "      <td>231</td>\n",
       "    </tr>\n",
       "    <tr>\n",
       "      <th>2</th>\n",
       "      <td>3</td>\n",
       "      <td>260</td>\n",
       "    </tr>\n",
       "    <tr>\n",
       "      <th>3</th>\n",
       "      <td>4</td>\n",
       "      <td>266</td>\n",
       "    </tr>\n",
       "    <tr>\n",
       "      <th>4</th>\n",
       "      <td>5</td>\n",
       "      <td>241</td>\n",
       "    </tr>\n",
       "    <tr>\n",
       "      <th>5</th>\n",
       "      <td>6</td>\n",
       "      <td>217</td>\n",
       "    </tr>\n",
       "    <tr>\n",
       "      <th>6</th>\n",
       "      <td>7</td>\n",
       "      <td>256</td>\n",
       "    </tr>\n",
       "    <tr>\n",
       "      <th>7</th>\n",
       "      <td>8</td>\n",
       "      <td>231</td>\n",
       "    </tr>\n",
       "    <tr>\n",
       "      <th>8</th>\n",
       "      <td>9</td>\n",
       "      <td>228</td>\n",
       "    </tr>\n",
       "    <tr>\n",
       "      <th>9</th>\n",
       "      <td>10</td>\n",
       "      <td>248</td>\n",
       "    </tr>\n",
       "    <tr>\n",
       "      <th>10</th>\n",
       "      <td>11</td>\n",
       "      <td>242</td>\n",
       "    </tr>\n",
       "    <tr>\n",
       "      <th>11</th>\n",
       "      <td>12</td>\n",
       "      <td>231</td>\n",
       "    </tr>\n",
       "  </tbody>\n",
       "</table>\n",
       "</div>"
      ],
      "text/plain": [
       "    Month  user_id\n",
       "0       1      291\n",
       "1       2      231\n",
       "2       3      260\n",
       "3       4      266\n",
       "4       5      241\n",
       "5       6      217\n",
       "6       7      256\n",
       "7       8      231\n",
       "8       9      228\n",
       "9      10      248\n",
       "10     11      242\n",
       "11     12      231"
      ]
     },
     "execution_count": 110,
     "metadata": {},
     "output_type": "execute_result"
    }
   ],
   "source": [
    "users_df[\"Month\"] = users_df[\"registration_date\"].dt.month\n",
    "user_count = users_df.groupby(\"Month\")[\"user_id\"].count().reset_index()\n",
    "user_count"
   ]
  },
  {
   "cell_type": "code",
   "execution_count": 111,
   "id": "0919161a",
   "metadata": {},
   "outputs": [
    {
     "data": {
      "text/plain": [
       "<BarContainer object of 12 artists>"
      ]
     },
     "execution_count": 111,
     "metadata": {},
     "output_type": "execute_result"
    },
    {
     "data": {
      "image/png": "[encoded data removed]",
      "text/plain": [
       "<Figure size 640x480 with 1 Axes>"
      ]
     },
     "metadata": {},
     "output_type": "display_data"
    }
   ],
   "source": [
    "plt.bar(user_count[\"Month\"],user_count[\"user_id\"])"
   ]
  },
  {
   "cell_type": "markdown",
   "id": "b4767553-6e0e-4946-bba4-63fd31bf4293",
   "metadata": {},
   "source": [
    "**103. Calculate and plot the cumulative user growth**"
   ]
  },
  {
   "cell_type": "code",
   "execution_count": 112,
   "id": "75c98f03-8b25-4e98-9dd9-8714c1f6d066",
   "metadata": {},
   "outputs": [
    {
     "data": {
      "image/png": "[encoded data removed]",
      "text/plain": [
       "<Figure size 1000x500 with 1 Axes>"
      ]
     },
     "metadata": {},
     "output_type": "display_data"
    }
   ],
   "source": [
    "import pandas as pd\n",
    "import matplotlib.pyplot as plt\n",
    "\n",
    "# Sample Users DataFrame (Assuming it's already loaded)\n",
    "users_df['registration_date'] = pd.to_datetime(users_df['registration_date'])\n",
    "\n",
    "# Count new users per day\n",
    "user_growth = users_df.groupby('registration_date').size().reset_index(name='new_users')\n",
    "\n",
    "# Compute cumulative sum\n",
    "user_growth['cumulative_users'] = user_growth['new_users'].cumsum()\n",
    "\n",
    "# Plot the cumulative user growth\n",
    "plt.figure(figsize=(10, 5))\n",
    "plt.plot(user_growth['registration_date'], user_growth['cumulative_users'], marker='o', linestyle='-', label=\"Cumulative Users\")\n",
    "plt.xlabel('Date')\n",
    "plt.ylabel('Cumulative Users')\n",
    "plt.title('Cumulative Growth of Users in Teaching Domain')\n",
    "plt.legend()\n",
    "plt.grid()\n",
    "plt.show()\n"
   ]
  },
  {
   "cell_type": "markdown",
   "id": "3b300024-f606-4b53-ac43-eaeb0da557bb",
   "metadata": {},
   "source": [
    "**104. Generate the monthly revenue report** "
   ]
  },
  {
   "cell_type": "code",
   "execution_count": 113,
   "id": "0305fd69-058a-4be1-bd2e-d605e436eb46",
   "metadata": {},
   "outputs": [
    {
     "data": {
      "text/html": [
       "<div>\n",
       "<style scoped>\n",
       "    .dataframe tbody tr th:only-of-type {\n",
       "        vertical-align: middle;\n",
       "    }\n",
       "\n",
       "    .dataframe tbody tr th {\n",
       "        vertical-align: top;\n",
       "    }\n",
       "\n",
       "    .dataframe thead th {\n",
       "        text-align: right;\n",
       "    }\n",
       "</style>\n",
       "<table border=\"1\" class=\"dataframe\">\n",
       "  <thead>\n",
       "    <tr style=\"text-align: right;\">\n",
       "      <th></th>\n",
       "      <th>month_year</th>\n",
       "      <th>Total Revenue</th>\n",
       "      <th>Total_refunds</th>\n",
       "      <th>net_revenue</th>\n",
       "    </tr>\n",
       "  </thead>\n",
       "  <tbody>\n",
       "    <tr>\n",
       "      <th>0</th>\n",
       "      <td>1</td>\n",
       "      <td>4009.0</td>\n",
       "      <td>89</td>\n",
       "      <td>3920.0</td>\n",
       "    </tr>\n",
       "  </tbody>\n",
       "</table>\n",
       "</div>"
      ],
      "text/plain": [
       "   month_year  Total Revenue  Total_refunds  net_revenue\n",
       "0           1         4009.0             89       3920.0"
      ]
     },
     "execution_count": 113,
     "metadata": {},
     "output_type": "execute_result"
    }
   ],
   "source": [
    "payments_df[\"month_year\"] = payments_df[\"transaction_date\"].dt.month\n",
    "refunds_df[\"month_year\"] = refunds_df[\"refund_date\"].dt.month\n",
    "\n",
    "monthly_revenue = payments_df.groupby(\"month_year\")[\"amount_paid\"].sum().reset_index()\n",
    "monthly_revenue.rename(columns={\"amount_paid\":\"Total Revenue\"},inplace=True)\n",
    "\n",
    "monthly_refund = refunds_df.groupby(\"month_year\")[\"refund_amount\"].sum().reset_index()\n",
    "monthly_refund.rename(columns={\"refund_amount\":\"Total_refunds\"},inplace=True)\n",
    "\n",
    "monthly_report = pd.merge(monthly_revenue,monthly_refund,on=\"month_year\",how=\"left\").fillna(0)\n",
    "monthly_report[\"net_revenue\"] = monthly_report[\"Total Revenue\"] - monthly_report[\"Total_refunds\"]\n",
    "monthly_report"
   ]
  },
  {
   "cell_type": "markdown",
   "id": "2754be8f-6e8c-45b1-95f9-d79c38c7d2d3",
   "metadata": {},
   "source": [
    "**105. Generate the annual revenue report** "
   ]
  },
  {
   "cell_type": "code",
   "execution_count": 114,
   "id": "9071f47c-ec19-4d9c-b440-891b4f3b1b35",
   "metadata": {},
   "outputs": [
    {
     "data": {
      "text/html": [
       "<div>\n",
       "<style scoped>\n",
       "    .dataframe tbody tr th:only-of-type {\n",
       "        vertical-align: middle;\n",
       "    }\n",
       "\n",
       "    .dataframe tbody tr th {\n",
       "        vertical-align: top;\n",
       "    }\n",
       "\n",
       "    .dataframe thead th {\n",
       "        text-align: right;\n",
       "    }\n",
       "</style>\n",
       "<table border=\"1\" class=\"dataframe\">\n",
       "  <thead>\n",
       "    <tr style=\"text-align: right;\">\n",
       "      <th></th>\n",
       "      <th>year</th>\n",
       "      <th>Total Revenue</th>\n",
       "      <th>Total_refunds</th>\n",
       "      <th>net_revenue</th>\n",
       "    </tr>\n",
       "  </thead>\n",
       "  <tbody>\n",
       "    <tr>\n",
       "      <th>0</th>\n",
       "      <td>2025</td>\n",
       "      <td>4009.0</td>\n",
       "      <td>89</td>\n",
       "      <td>3920.0</td>\n",
       "    </tr>\n",
       "  </tbody>\n",
       "</table>\n",
       "</div>"
      ],
      "text/plain": [
       "   year  Total Revenue  Total_refunds  net_revenue\n",
       "0  2025         4009.0             89       3920.0"
      ]
     },
     "execution_count": 114,
     "metadata": {},
     "output_type": "execute_result"
    }
   ],
   "source": [
    "payments_df[\"year\"] = payments_df[\"transaction_date\"].dt.year\n",
    "refunds_df[\"year\"] = refunds_df[\"refund_date\"].dt.year\n",
    "\n",
    "monthly_revenue = payments_df.groupby(\"year\")[\"amount_paid\"].sum().reset_index()\n",
    "monthly_revenue.rename(columns={\"amount_paid\":\"Total Revenue\"},inplace=True)\n",
    "\n",
    "monthly_refund = refunds_df.groupby(\"year\")[\"refund_amount\"].sum().reset_index()\n",
    "monthly_refund.rename(columns={\"refund_amount\":\"Total_refunds\"},inplace=True)\n",
    "\n",
    "monthly_report = pd.merge(monthly_revenue,monthly_refund,on=\"year\",how=\"left\").fillna(0)\n",
    "monthly_report[\"net_revenue\"] = monthly_report[\"Total Revenue\"] - monthly_report[\"Total_refunds\"]\n",
    "monthly_report"
   ]
  },
  {
   "cell_type": "markdown",
   "id": "cb6b9879-beab-440e-9685-44fe89940462",
   "metadata": {},
   "source": [
    "**106. Analyze whether there are more purchases on weekdays or weekends**"
   ]
  },
  {
   "cell_type": "code",
   "execution_count": 115,
   "id": "28ce7242-6fc3-4174-92ed-56c8e1f4ca7b",
   "metadata": {},
   "outputs": [
    {
     "data": {
      "image/png": "[encoded data removed]",
      "text/plain": [
       "<Figure size 1500x500 with 2 Axes>"
      ]
     },
     "metadata": {},
     "output_type": "display_data"
    }
   ],
   "source": [
    "payments_df[\"days\"] = payments_df[\"transaction_date\"].dt.day_name()\n",
    "weekends = payments_df[payments_df[\"days\"].isin([\"Sunday\",\"Saturday\"])]\n",
    "weekdays = payments_df[~payments_df[\"days\"].isin([\"Sunday\",\"Saturday\"])]\n",
    "weekdays_sales = weekdays.groupby(\"days\")[\"amount_paid\"].mean().reset_index()\n",
    "weekends_sales = weekends.groupby(\"days\")[\"amount_paid\"].mean().reset_index()\n",
    "# print(f\" the weekdays sales are: {weekdays_sales}\\n  the weekend sales are :{weekends_sales}\")\n",
    "plt.figure(figsize=(15,5))\n",
    "plt.subplot(1,2,1)\n",
    "plt.bar(weekdays_sales[\"days\"],weekdays_sales[\"amount_paid\"])\n",
    "plt.xlabel(\"Weekdays\")\n",
    "plt.ylabel(\"sales\")\n",
    "plt.subplot(1,2,2)\n",
    "plt.bar(weekends_sales[\"days\"],weekends_sales[\"amount_paid\"])\n",
    "plt.xlabel(\"Weekend\")\n",
    "plt.ylabel(\"sales\")\n",
    "plt.show()"
   ]
  },
  {
   "cell_type": "markdown",
   "id": "ff710ac2-0fd3-493f-8fb9-f7f0988b8c88",
   "metadata": {},
   "source": [
    "**107. Which coupon code is used most frequently?  Visualize the distribution of coupon code usage**"
   ]
  },
  {
   "cell_type": "code",
   "execution_count": 122,
   "id": "5af007cc-d8d0-44e8-ad84-c7bfca2de8af",
   "metadata": {},
   "outputs": [
    {
     "data": {
      "image/png": "[encoded data removed]",
      "text/plain": [
       "<Figure size 640x480 with 1 Axes>"
      ]
     },
     "metadata": {},
     "output_type": "display_data"
    },
    {
     "name": "stdout",
     "output_type": "stream",
     "text": [
      "the most used coupon code is UTUBE23\n"
     ]
    }
   ],
   "source": [
    "\n",
    "sns.histplot(payments_df[\"coupon_code\"])\n",
    "plt.show()\n",
    "print(f\"the most used coupon code is {payments_df[\"coupon_code\"].mode()[0]}\")"
   ]
  },
  {
   "cell_type": "markdown",
   "id": "edd5afab-6c31-47a3-972c-c054393177e5",
   "metadata": {},
   "source": [
    "**108. Analyze completion rates by country**"
   ]
  },
  {
   "cell_type": "code",
   "execution_count": null,
   "id": "7bc08b25-c932-4e0a-aed6-30f131f4631f",
   "metadata": {},
   "outputs": [
    {
     "data": {
      "text/html": [
       "<div>\n",
       "<style scoped>\n",
       "    .dataframe tbody tr th:only-of-type {\n",
       "        vertical-align: middle;\n",
       "    }\n",
       "\n",
       "    .dataframe tbody tr th {\n",
       "        vertical-align: top;\n",
       "    }\n",
       "\n",
       "    .dataframe thead th {\n",
       "        text-align: right;\n",
       "    }\n",
       "</style>\n",
       "<table border=\"1\" class=\"dataframe\">\n",
       "  <thead>\n",
       "    <tr style=\"text-align: right;\">\n",
       "      <th></th>\n",
       "      <th>country</th>\n",
       "      <th>completion_rate</th>\n",
       "    </tr>\n",
       "  </thead>\n",
       "  <tbody>\n",
       "    <tr>\n",
       "      <th>0</th>\n",
       "      <td>China</td>\n",
       "      <td>41.676271</td>\n",
       "    </tr>\n",
       "    <tr>\n",
       "      <th>1</th>\n",
       "      <td>Germany</td>\n",
       "      <td>47.893333</td>\n",
       "    </tr>\n",
       "    <tr>\n",
       "      <th>2</th>\n",
       "      <td>India</td>\n",
       "      <td>45.494800</td>\n",
       "    </tr>\n",
       "    <tr>\n",
       "      <th>3</th>\n",
       "      <td>UK</td>\n",
       "      <td>39.162162</td>\n",
       "    </tr>\n",
       "    <tr>\n",
       "      <th>4</th>\n",
       "      <td>US</td>\n",
       "      <td>43.602800</td>\n",
       "    </tr>\n",
       "  </tbody>\n",
       "</table>\n",
       "</div>"
      ],
      "text/plain": [
       "   country  completion_rate\n",
       "0    China        41.676271\n",
       "1  Germany        47.893333\n",
       "2    India        45.494800\n",
       "3       UK        39.162162\n",
       "4       US        43.602800"
      ]
     },
     "execution_count": 139,
     "metadata": {},
     "output_type": "execute_result"
    }
   ],
   "source": [
    "courses_df.head(2)\n",
    "users_df.head(2)\n",
    "enrollments_df.head(2)\n",
    "course_enroll_user_df =  enrollments_df.merge(users_df,left_on=\"student_id\",right_on=\"user_id\").merge(courses_df,on=\"course_id\")\n",
    "completion_rate_by_country = course_enroll_user_df.groupby(\"country\")[\"completion_rate\"].mean().reset_index()\n",
    "completion_rate_by_country"
   ]
  },
  {
   "cell_type": "code",
   "execution_count": 142,
   "id": "29d78f6f",
   "metadata": {},
   "outputs": [
    {
     "data": {
      "image/png": "[encoded data removed]",
      "text/plain": [
       "<Figure size 640x480 with 1 Axes>"
      ]
     },
     "metadata": {},
     "output_type": "display_data"
    }
   ],
   "source": [
    "plt.bar(completion_rate_by_country[\"country\"],completion_rate_by_country[\"completion_rate\"])\n",
    "plt.show()"
   ]
  },
  {
   "cell_type": "markdown",
   "id": "b279b54a",
   "metadata": {},
   "source": [
    "You're doing great! Let's verify your answers. 😊  \n",
    "\n",
    "---\n",
    "\n",
    "### **1. Probability of Choosing a Number from 1 to 10**  \n",
    "\n",
    "**Possible numbers:** {1, 2, 3, 4, 5, 6, 7, 8, 9, 10} → Total **10 numbers**  \n",
    "\n",
    "- **a) Probability of a multiple of 3**  \n",
    "  - Multiples of 3 in {1-10} → **{3, 6, 9}** → **3 numbers**  \n",
    "  - \\[\n",
    "    P(\\text{Multiple of 3}) = \\frac{3}{10} = 0.3\n",
    "    \\] ✅ **Correct!** 🎯  \n",
    "\n",
    "- **b) Probability of a multiple of 5**  \n",
    "  - Multiples of 5 in {1-10} → **{5, 10}** → **2 numbers**  \n",
    "  - \\[\n",
    "    P(\\text{Multiple of 5}) = \\frac{2}{10} = 0.2\n",
    "    \\] ✅ **Correct!** 🎯  \n",
    "\n",
    "- **c) Probability of a multiple of 3 OR 5**  \n",
    "  - Multiples of 3: **{3, 6, 9}** (3 numbers)  \n",
    "  - Multiples of 5: **{5, 10}** (2 numbers)  \n",
    "  - Common multiple (3 & 5): **None**  \n",
    "  - Using the **Addition Rule**:  \n",
    "  - \\[\n",
    "    P(3 \\cup 5) = P(3) + P(5) = \\frac{3}{10} + \\frac{2}{10} = \\frac{5}{10} = 0.5\n",
    "    \\] ✅ **Correct!** 🎯  \n",
    "\n",
    "---\n",
    "\n",
    "### **2. Probability of Rolling a Die Twice**  \n",
    "\n",
    "A die has **6 sides** (1, 2, 3, 4, 5, 6), and each outcome is **equally likely**.  \n",
    "\n",
    "- **a) Probability of rolling a 4 first and a 6 second**  \n",
    "  - **Independent Events** → Use **Multiplication Rule**:  \n",
    "  - \\[\n",
    "    P(4 \\cap 6) = P(4) \\times P(6) = \\frac{1}{6} \\times \\frac{1}{6} = \\frac{1}{36} \\approx 0.0278\n",
    "    \\] ❌  \n",
    "  - **Your answer (3.6) is incorrect. The correct probability is 0.0278 (~2.78%)**.  \n",
    "\n",
    "- **b) Probability that both rolls are even**  \n",
    "  - Even numbers on a die: **{2, 4, 6}** → **3 out of 6**  \n",
    "  - Probability of rolling an even number **each time**:  \n",
    "  - \\[\n",
    "    $$P(\\text{Even on 1st}) \\times P(\\text{Even on 2nd}) = \\frac{3}{6} \\times \\frac{3}{6} = \\frac{9}{36} = 0.25$$\n",
    "    \\] ❌  \n",
    "  - **Your answer (0.083) is incorrect. The correct probability is 0.25 (25%)**.  \n",
    "\n",
    "---\n",
    "\n",
    "### **Final Score**  \n",
    "✅ **3 Correct** (Multiples of 3, Multiples of 5, Multiples of 3 OR 5)  \n",
    "❌ **2 Incorrect** (Rolling a 4 & 6, Both rolls even)  \n",
    "\n",
    "You're doing great! Keep going. Do you want to try the **Conditional Probability** questions next? 🚀"
   ]
  },
  {
   "cell_type": "code",
   "execution_count": 3,
   "id": "f9981d01",
   "metadata": {},
   "outputs": [
    {
     "data": {
      "text/plain": [
       "0.11428571428571428"
      ]
     },
     "execution_count": 3,
     "metadata": {},
     "output_type": "execute_result"
    }
   ],
   "source": [
    "(4/15)*(6/14)"
   ]
  },
  {
   "cell_type": "code",
   "execution_count": null,
   "id": "32e99672",
   "metadata": {},
   "outputs": [],
   "source": []
  }
 ],
 "metadata": {
  "kernelspec": {
   "display_name": "base",
   "language": "python",
   "name": "python3"
  },
  "language_info": {
   "codemirror_mode": {
    "name": "ipython",
    "version": 3
   },
   "file_extension": ".py",
   "mimetype": "text/x-python",
   "name": "python",
   "nbconvert_exporter": "python",
   "pygments_lexer": "ipython3",
   "version": "3.12.7"
  }
 },
 "nbformat": 4,
 "nbformat_minor": 5
}
